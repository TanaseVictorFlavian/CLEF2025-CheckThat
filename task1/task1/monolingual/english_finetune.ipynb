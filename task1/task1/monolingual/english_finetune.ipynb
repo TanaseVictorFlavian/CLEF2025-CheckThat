{
 "cells": [
  {
   "cell_type": "code",
   "execution_count": 1,
   "id": "947d5b38",
   "metadata": {},
   "outputs": [
    {
     "name": "stderr",
     "output_type": "stream",
     "text": [
      "W0613 21:50:04.550000 13020 Lib\\site-packages\\torch\\distributed\\elastic\\multiprocessing\\redirects.py:29] NOTE: Redirects are currently not supported in Windows or MacOs.\n"
     ]
    }
   ],
   "source": [
    "import os \n",
    "\n",
    "os.chdir(\"../..\")\n",
    "\n",
    "from datasets import Dataset, load_dataset\n",
    "from transformers import AutoTokenizer, AutoModelForSeq2SeqLM, TrainingArguments, Trainer, DataCollatorForSeq2Seq, AutoModelForSequenceClassification\n",
    "from peft import get_peft_model, LoraConfig, TaskType\n",
    "import evaluate\n",
    "import numpy as np\n",
    "from task1.config import ProjectPaths\n",
    "import pandas as pd\n",
    "import torch\n",
    "\n",
    "paths = ProjectPaths()\n",
    "\n",
    "# === 3. Set device ===\n",
    "device = \"mps\" if torch.backends.mps.is_available() else \"cpu\"\n",
    "\n",
    "# === 4. Load and preprocess data ===\n",
    "def load_datasets(path):\n",
    "    df = pd.read_csv(path, sep='\\t')\n",
    "    df = df[df['label'].isin(['SUBJ', 'OBJ'])].copy()\n",
    "    df['label'] = df['label'].map({'OBJ': 0, 'SUBJ': 1})\n",
    "    df = df[['sentence', 'label']]\n",
    "    return Dataset.from_pandas(df)\n",
    "\n",
    "train_dataset = load_datasets(paths.english_data_dir / \"train_en.tsv\")\n",
    "val_dataset   = load_datasets(paths.english_data_dir / \"dev_en.tsv\")\n",
    "test_dataset  = load_datasets(paths.english_data_dir / \"dev_test_en.tsv\")"
   ]
  },
  {
   "cell_type": "code",
   "execution_count": 2,
   "id": "b75e6911",
   "metadata": {},
   "outputs": [],
   "source": [
    "dataset = load_dataset(\"rotten_tomatoes\")\n",
    "train_dataset_stage1 = dataset[\"train\"]\n",
    "val_dataset_stage1 = dataset[\"validation\"]\n",
    "\n",
    "small_train_dataset = train_dataset_stage1.select(range(1000))  # Use only 1000 examples for training\n",
    "small_val_dataset = val_dataset_stage1.select(range(200))"
   ]
  },
  {
   "cell_type": "code",
   "execution_count": 4,
   "id": "7dae9f27",
   "metadata": {},
   "outputs": [
    {
     "name": "stderr",
     "output_type": "stream",
     "text": [
      "Some weights of DebertaV2ForSequenceClassification were not initialized from the model checkpoint at microsoft/deberta-v3-base and are newly initialized: ['classifier.bias', 'classifier.weight', 'pooler.dense.bias', 'pooler.dense.weight']\n",
      "You should probably TRAIN this model on a down-stream task to be able to use it for predictions and inference.\n",
      "d:\\Master\\AN1SEM2\\BioNLP\\CLEF2025-CheckThat\\task1\\.venv\\Lib\\site-packages\\transformers\\convert_slow_tokenizer.py:560: UserWarning: The sentencepiece tokenizer that you are converting to a fast tokenizer uses the byte fallback option which is not implemented in the fast tokenizers. In practice this means that the fast version of the tokenizer can produce unknown tokens whereas the sentencepiece version would have converted these unknown tokens into a sequence of byte tokens matching the original piece of text.\n",
      "  warnings.warn(\n"
     ]
    }
   ],
   "source": [
    "model_name = \"microsoft/deberta-v3-base\"\n",
    "model = AutoModelForSequenceClassification.from_pretrained(model_name, num_labels=2)\n",
    "tokenizer = AutoTokenizer.from_pretrained(model_name)"
   ]
  },
  {
   "cell_type": "markdown",
   "id": "455d9fac",
   "metadata": {},
   "source": [
    "STAGE 1 FINETUNE"
   ]
  },
  {
   "cell_type": "code",
   "execution_count": 3,
   "id": "1ba04012",
   "metadata": {},
   "outputs": [],
   "source": [
    "def tokenize_stage1(examples):\n",
    "    # The text column in this dataset is named 'text'\n",
    "    return tokenizer(examples[\"text\"], padding=\"max_length\", truncation=True, max_length=128)"
   ]
  },
  {
   "cell_type": "code",
   "execution_count": 5,
   "id": "d6f44200",
   "metadata": {},
   "outputs": [
    {
     "data": {
      "application/vnd.jupyter.widget-view+json": {
       "model_id": "66b8cf494e6f42d3a569b5f8e3dae3d8",
       "version_major": 2,
       "version_minor": 0
      },
      "text/plain": [
       "Map:   0%|          | 0/1000 [00:00<?, ? examples/s]"
      ]
     },
     "metadata": {},
     "output_type": "display_data"
    },
    {
     "data": {
      "application/vnd.jupyter.widget-view+json": {
       "model_id": "5cbd70e5376349be80782c2a2a80776b",
       "version_major": 2,
       "version_minor": 0
      },
      "text/plain": [
       "Map:   0%|          | 0/200 [00:00<?, ? examples/s]"
      ]
     },
     "metadata": {},
     "output_type": "display_data"
    }
   ],
   "source": [
    "tokenized_train_dataset = small_train_dataset.map(tokenize_stage1, batched=True)\n",
    "tokenized_val_dataset = small_val_dataset.map(tokenize_stage1, batched=True)\n",
    "\n",
    "# The 'label' column is already correct, just need to set the format\n",
    "tokenized_train_dataset.set_format(type=\"torch\", columns=[\"input_ids\", \"attention_mask\", \"label\"])\n",
    "tokenized_val_dataset.set_format(type=\"torch\", columns=[\"input_ids\", \"attention_mask\", \"label\"])\n",
    "\n",
    "# The Trainer works best when the label column is named 'labels'\n",
    "tokenized_train_dataset = tokenized_train_dataset.rename_column(\"label\", \"labels\")\n",
    "tokenized_val_dataset = tokenized_val_dataset.rename_column(\"label\", \"labels\")"
   ]
  },
  {
   "cell_type": "code",
   "execution_count": 6,
   "id": "b5dbcd1a",
   "metadata": {},
   "outputs": [],
   "source": [
    "lora_config = LoraConfig(\n",
    "    r=32,\n",
    "    lora_alpha=16,\n",
    "    lora_dropout=0.05,\n",
    "    task_type=TaskType.SEQ_CLS,\n",
    "    target_modules=[\"query_proj\", \"key_proj\", \"value_proj\", \"dense\"] \n",
    ")\n",
    "\n",
    "model = get_peft_model(model, lora_config).to(device)"
   ]
  },
  {
   "cell_type": "code",
   "execution_count": 7,
   "id": "a792cb8e",
   "metadata": {},
   "outputs": [],
   "source": [
    "f1 = evaluate.load(\"f1\")\n",
    "accuracy = evaluate.load(\"accuracy\")\n",
    "precision = evaluate.load(\"precision\")\n",
    "recall = evaluate.load(\"recall\")\n",
    "\n",
    "def compute_metrics(eval_pred):\n",
    "    logits, labels = eval_pred\n",
    "    preds = np.argmax(logits, axis=-1)\n",
    "    return {\n",
    "        \"accuracy\": accuracy.compute(predictions=preds, references=labels)[\"accuracy\"],\n",
    "        \"f1_macro\": f1.compute(predictions=preds, references=labels, average=\"macro\")[\"f1\"],\n",
    "        \"precision\": precision.compute(predictions=preds, references=labels, average=\"macro\")[\"precision\"],\n",
    "        \"recall\": recall.compute(predictions=preds, references=labels, average=\"macro\")[\"recall\"],\n",
    "    }"
   ]
  },
  {
   "cell_type": "code",
   "execution_count": 9,
   "id": "df6d6299",
   "metadata": {},
   "outputs": [],
   "source": [
    "# === 8. TrainingArguments ===\n",
    "training_args = TrainingArguments(\n",
    "    output_dir=\"./results\",\n",
    "    per_device_train_batch_size=4,\n",
    "    per_device_eval_batch_size=4,\n",
    "    num_train_epochs=5,\n",
    "    eval_strategy=\"epoch\",\n",
    "    save_strategy=\"epoch\",\n",
    "    logging_steps=10,\n",
    "    load_best_model_at_end=True,\n",
    "    metric_for_best_model=\"f1_macro\",\n",
    "    fp16=True,\n",
    ")"
   ]
  },
  {
   "cell_type": "code",
   "execution_count": 10,
   "id": "54b80f8b",
   "metadata": {},
   "outputs": [
    {
     "data": {
      "application/vnd.jupyter.widget-view+json": {
       "model_id": "fd3124f7a37642889f41a7a13e91145c",
       "version_major": 2,
       "version_minor": 0
      },
      "text/plain": [
       "  0%|          | 0/1250 [00:00<?, ?it/s]"
      ]
     },
     "metadata": {},
     "output_type": "display_data"
    },
    {
     "name": "stderr",
     "output_type": "stream",
     "text": [
      "d:\\Master\\AN1SEM2\\BioNLP\\CLEF2025-CheckThat\\task1\\.venv\\Lib\\site-packages\\torch\\utils\\data\\dataloader.py:665: UserWarning: 'pin_memory' argument is set as true but no accelerator is found, then device pinned memory won't be used.\n",
      "  warnings.warn(warn_msg)\n"
     ]
    },
    {
     "name": "stdout",
     "output_type": "stream",
     "text": [
      "{'loss': 0.5125, 'grad_norm': 3.277414321899414, 'learning_rate': 4.96e-05, 'epoch': 0.04}\n",
      "{'loss': 0.438, 'grad_norm': 2.9193906784057617, 'learning_rate': 4.92e-05, 'epoch': 0.08}\n",
      "{'loss': 0.3646, 'grad_norm': 2.579204797744751, 'learning_rate': 4.88e-05, 'epoch': 0.12}\n",
      "{'loss': 0.276, 'grad_norm': 2.0394837856292725, 'learning_rate': 4.8400000000000004e-05, 'epoch': 0.16}\n",
      "{'loss': 0.1926, 'grad_norm': 1.5165563821792603, 'learning_rate': 4.8e-05, 'epoch': 0.2}\n",
      "{'loss': 0.1219, 'grad_norm': 1.0093077421188354, 'learning_rate': 4.76e-05, 'epoch': 0.24}\n",
      "{'loss': 0.0604, 'grad_norm': 0.6101557612419128, 'learning_rate': 4.72e-05, 'epoch': 0.28}\n",
      "{'loss': 0.0225, 'grad_norm': 0.2730678915977478, 'learning_rate': 4.6800000000000006e-05, 'epoch': 0.32}\n",
      "{'loss': 0.0088, 'grad_norm': 0.15851998329162598, 'learning_rate': 4.64e-05, 'epoch': 0.36}\n",
      "{'loss': 0.0042, 'grad_norm': 0.06501436978578568, 'learning_rate': 4.600000000000001e-05, 'epoch': 0.4}\n",
      "{'loss': 0.0023, 'grad_norm': 0.053331635892391205, 'learning_rate': 4.5600000000000004e-05, 'epoch': 0.44}\n",
      "{'loss': 0.0019, 'grad_norm': 0.04763738811016083, 'learning_rate': 4.52e-05, 'epoch': 0.48}\n",
      "{'loss': 0.0014, 'grad_norm': 0.03505314886569977, 'learning_rate': 4.4800000000000005e-05, 'epoch': 0.52}\n",
      "{'loss': 0.0011, 'grad_norm': 0.02014581300318241, 'learning_rate': 4.44e-05, 'epoch': 0.56}\n",
      "{'loss': 0.001, 'grad_norm': 0.021848514676094055, 'learning_rate': 4.4000000000000006e-05, 'epoch': 0.6}\n",
      "{'loss': 0.0007, 'grad_norm': 0.02350214682519436, 'learning_rate': 4.36e-05, 'epoch': 0.64}\n",
      "{'loss': 0.0006, 'grad_norm': 0.01728619448840618, 'learning_rate': 4.32e-05, 'epoch': 0.68}\n",
      "{'loss': 0.0006, 'grad_norm': 0.01613062433898449, 'learning_rate': 4.2800000000000004e-05, 'epoch': 0.72}\n",
      "{'loss': 0.0006, 'grad_norm': 0.02060663141310215, 'learning_rate': 4.24e-05, 'epoch': 0.76}\n",
      "{'loss': 0.0004, 'grad_norm': 0.018784932792186737, 'learning_rate': 4.2e-05, 'epoch': 0.8}\n",
      "{'loss': 0.0004, 'grad_norm': 0.00975251104682684, 'learning_rate': 4.16e-05, 'epoch': 0.84}\n",
      "{'loss': 0.0004, 'grad_norm': 0.014473269693553448, 'learning_rate': 4.12e-05, 'epoch': 0.88}\n",
      "{'loss': 0.0004, 'grad_norm': 0.012734653428196907, 'learning_rate': 4.08e-05, 'epoch': 0.92}\n",
      "{'loss': 0.0003, 'grad_norm': 0.009788836352527142, 'learning_rate': 4.0400000000000006e-05, 'epoch': 0.96}\n",
      "{'loss': 0.0004, 'grad_norm': 0.013382128439843655, 'learning_rate': 4e-05, 'epoch': 1.0}\n"
     ]
    },
    {
     "data": {
      "application/vnd.jupyter.widget-view+json": {
       "model_id": "4427ec19f3c24156972dab189f7697aa",
       "version_major": 2,
       "version_minor": 0
      },
      "text/plain": [
       "  0%|          | 0/50 [00:00<?, ?it/s]"
      ]
     },
     "metadata": {},
     "output_type": "display_data"
    },
    {
     "name": "stdout",
     "output_type": "stream",
     "text": [
      "{'eval_loss': 0.00015026680193841457, 'eval_accuracy': 1.0, 'eval_f1_macro': 1.0, 'eval_precision': 1.0, 'eval_recall': 1.0, 'eval_runtime': 14.3622, 'eval_samples_per_second': 13.925, 'eval_steps_per_second': 3.481, 'epoch': 1.0}\n"
     ]
    },
    {
     "name": "stderr",
     "output_type": "stream",
     "text": [
      "d:\\Master\\AN1SEM2\\BioNLP\\CLEF2025-CheckThat\\task1\\.venv\\Lib\\site-packages\\peft\\utils\\other.py:611: UserWarning: Unable to fetch remote file due to the following error (ReadTimeoutError(\"HTTPSConnectionPool(host='huggingface.co', port=443): Read timed out. (read timeout=10)\"), '(Request ID: 7de26a76-7fc9-4ec2-ad1b-687cc53084c3)') - silently ignoring the lookup for the file config.json in microsoft/deberta-v3-base.\n",
      "  warnings.warn(\n",
      "d:\\Master\\AN1SEM2\\BioNLP\\CLEF2025-CheckThat\\task1\\.venv\\Lib\\site-packages\\peft\\utils\\save_and_load.py:195: UserWarning: Could not find a config file in microsoft/deberta-v3-base - will assume that the vocabulary was not modified.\n",
      "  warnings.warn(\n",
      "d:\\Master\\AN1SEM2\\BioNLP\\CLEF2025-CheckThat\\task1\\.venv\\Lib\\site-packages\\torch\\utils\\data\\dataloader.py:665: UserWarning: 'pin_memory' argument is set as true but no accelerator is found, then device pinned memory won't be used.\n",
      "  warnings.warn(warn_msg)\n"
     ]
    },
    {
     "name": "stdout",
     "output_type": "stream",
     "text": [
      "{'loss': 0.0003, 'grad_norm': 0.009262253530323505, 'learning_rate': 3.960000000000001e-05, 'epoch': 1.04}\n",
      "{'loss': 0.0003, 'grad_norm': 0.007886522449553013, 'learning_rate': 3.9200000000000004e-05, 'epoch': 1.08}\n",
      "{'loss': 0.0003, 'grad_norm': 0.007912270724773407, 'learning_rate': 3.88e-05, 'epoch': 1.12}\n",
      "{'loss': 0.0002, 'grad_norm': 0.00939998310059309, 'learning_rate': 3.8400000000000005e-05, 'epoch': 1.16}\n",
      "{'loss': 0.0002, 'grad_norm': 0.006601901724934578, 'learning_rate': 3.8e-05, 'epoch': 1.2}\n",
      "{'loss': 0.0002, 'grad_norm': 0.006959951017051935, 'learning_rate': 3.76e-05, 'epoch': 1.24}\n",
      "{'loss': 0.0002, 'grad_norm': 0.0059132324531674385, 'learning_rate': 3.72e-05, 'epoch': 1.28}\n",
      "{'loss': 0.0002, 'grad_norm': 0.005666421726346016, 'learning_rate': 3.68e-05, 'epoch': 1.32}\n",
      "{'loss': 0.0002, 'grad_norm': 0.005643172655254602, 'learning_rate': 3.6400000000000004e-05, 'epoch': 1.36}\n",
      "{'loss': 0.0002, 'grad_norm': 0.004386341664940119, 'learning_rate': 3.6e-05, 'epoch': 1.4}\n",
      "{'loss': 0.0002, 'grad_norm': 0.007394158281385899, 'learning_rate': 3.56e-05, 'epoch': 1.44}\n",
      "{'loss': 0.0001, 'grad_norm': 0.004586522933095694, 'learning_rate': 3.52e-05, 'epoch': 1.48}\n",
      "{'loss': 0.0001, 'grad_norm': 0.006566755473613739, 'learning_rate': 3.48e-05, 'epoch': 1.52}\n",
      "{'loss': 0.0001, 'grad_norm': 0.005418614484369755, 'learning_rate': 3.4399999999999996e-05, 'epoch': 1.56}\n",
      "{'loss': 0.0002, 'grad_norm': 0.003183799097314477, 'learning_rate': 3.4000000000000007e-05, 'epoch': 1.6}\n",
      "{'loss': 0.0002, 'grad_norm': 0.004081270657479763, 'learning_rate': 3.3600000000000004e-05, 'epoch': 1.64}\n",
      "{'loss': 0.0001, 'grad_norm': 0.0026766937226057053, 'learning_rate': 3.32e-05, 'epoch': 1.68}\n",
      "{'loss': 0.0001, 'grad_norm': 0.0069375671446323395, 'learning_rate': 3.2800000000000004e-05, 'epoch': 1.72}\n",
      "{'loss': 0.0001, 'grad_norm': 0.003384533105418086, 'learning_rate': 3.24e-05, 'epoch': 1.76}\n",
      "{'loss': 0.0001, 'grad_norm': 0.005348534323275089, 'learning_rate': 3.2000000000000005e-05, 'epoch': 1.8}\n",
      "{'loss': 0.0001, 'grad_norm': 0.0034376985859125853, 'learning_rate': 3.16e-05, 'epoch': 1.84}\n",
      "{'loss': 0.0001, 'grad_norm': 0.005382073577493429, 'learning_rate': 3.12e-05, 'epoch': 1.88}\n",
      "{'loss': 0.0001, 'grad_norm': 0.0027648808900266886, 'learning_rate': 3.08e-05, 'epoch': 1.92}\n",
      "{'loss': 0.0001, 'grad_norm': 0.0032135704532265663, 'learning_rate': 3.04e-05, 'epoch': 1.96}\n",
      "{'loss': 0.0001, 'grad_norm': 0.003913376946002245, 'learning_rate': 3e-05, 'epoch': 2.0}\n"
     ]
    },
    {
     "data": {
      "application/vnd.jupyter.widget-view+json": {
       "model_id": "dd07b74ef7f7442eae1217d811193a75",
       "version_major": 2,
       "version_minor": 0
      },
      "text/plain": [
       "  0%|          | 0/50 [00:00<?, ?it/s]"
      ]
     },
     "metadata": {},
     "output_type": "display_data"
    },
    {
     "name": "stdout",
     "output_type": "stream",
     "text": [
      "{'eval_loss': 4.456419628695585e-05, 'eval_accuracy': 1.0, 'eval_f1_macro': 1.0, 'eval_precision': 1.0, 'eval_recall': 1.0, 'eval_runtime': 13.3921, 'eval_samples_per_second': 14.934, 'eval_steps_per_second': 3.734, 'epoch': 2.0}\n"
     ]
    },
    {
     "name": "stderr",
     "output_type": "stream",
     "text": [
      "d:\\Master\\AN1SEM2\\BioNLP\\CLEF2025-CheckThat\\task1\\.venv\\Lib\\site-packages\\huggingface_hub\\file_download.py:943: FutureWarning: `resume_download` is deprecated and will be removed in version 1.0.0. Downloads always resume when possible. If you want to force a new download, use `force_download=True`.\n",
      "  warnings.warn(\n",
      "d:\\Master\\AN1SEM2\\BioNLP\\CLEF2025-CheckThat\\task1\\.venv\\Lib\\site-packages\\torch\\utils\\data\\dataloader.py:665: UserWarning: 'pin_memory' argument is set as true but no accelerator is found, then device pinned memory won't be used.\n",
      "  warnings.warn(warn_msg)\n"
     ]
    },
    {
     "name": "stdout",
     "output_type": "stream",
     "text": [
      "{'loss': 0.0001, 'grad_norm': 0.0033771907910704613, 'learning_rate': 2.96e-05, 'epoch': 2.04}\n",
      "{'loss': 0.0001, 'grad_norm': 0.003621310694143176, 'learning_rate': 2.9199999999999998e-05, 'epoch': 2.08}\n",
      "{'loss': 0.0001, 'grad_norm': 0.0022555270697921515, 'learning_rate': 2.88e-05, 'epoch': 2.12}\n",
      "{'loss': 0.0001, 'grad_norm': 0.0027023237198591232, 'learning_rate': 2.84e-05, 'epoch': 2.16}\n",
      "{'loss': 0.0001, 'grad_norm': 0.0031810638029128313, 'learning_rate': 2.8000000000000003e-05, 'epoch': 2.2}\n",
      "{'loss': 0.0001, 'grad_norm': 0.00251132738776505, 'learning_rate': 2.7600000000000003e-05, 'epoch': 2.24}\n",
      "{'loss': 0.0001, 'grad_norm': 0.003545573679730296, 'learning_rate': 2.7200000000000004e-05, 'epoch': 2.28}\n",
      "{'loss': 0.0001, 'grad_norm': 0.00284872786141932, 'learning_rate': 2.6800000000000004e-05, 'epoch': 2.32}\n",
      "{'loss': 0.0001, 'grad_norm': 0.0032106763683259487, 'learning_rate': 2.64e-05, 'epoch': 2.36}\n",
      "{'loss': 0.0001, 'grad_norm': 0.003920187707990408, 'learning_rate': 2.6000000000000002e-05, 'epoch': 2.4}\n",
      "{'loss': 0.0001, 'grad_norm': 0.0023938831873238087, 'learning_rate': 2.5600000000000002e-05, 'epoch': 2.44}\n",
      "{'loss': 0.0001, 'grad_norm': 0.0023103610146790743, 'learning_rate': 2.5200000000000003e-05, 'epoch': 2.48}\n",
      "{'loss': 0.0001, 'grad_norm': 0.0023750101681798697, 'learning_rate': 2.48e-05, 'epoch': 2.52}\n",
      "{'loss': 0.0001, 'grad_norm': 0.001689486438408494, 'learning_rate': 2.44e-05, 'epoch': 2.56}\n",
      "{'loss': 0.0001, 'grad_norm': 0.0022698030807077885, 'learning_rate': 2.4e-05, 'epoch': 2.6}\n",
      "{'loss': 0.0001, 'grad_norm': 0.002341913990676403, 'learning_rate': 2.36e-05, 'epoch': 2.64}\n",
      "{'loss': 0.0001, 'grad_norm': 0.0015246904222294688, 'learning_rate': 2.32e-05, 'epoch': 2.68}\n",
      "{'loss': 0.0001, 'grad_norm': 0.0030581625178456306, 'learning_rate': 2.2800000000000002e-05, 'epoch': 2.72}\n",
      "{'loss': 0.0001, 'grad_norm': 0.003383831586688757, 'learning_rate': 2.2400000000000002e-05, 'epoch': 2.76}\n",
      "{'loss': 0.0001, 'grad_norm': 0.0022528909612447023, 'learning_rate': 2.2000000000000003e-05, 'epoch': 2.8}\n",
      "{'loss': 0.0001, 'grad_norm': 0.002294167410582304, 'learning_rate': 2.16e-05, 'epoch': 2.84}\n",
      "{'loss': 0.0001, 'grad_norm': 0.0022121656220406294, 'learning_rate': 2.12e-05, 'epoch': 2.88}\n",
      "{'loss': 0.0001, 'grad_norm': 0.0021893505472689867, 'learning_rate': 2.08e-05, 'epoch': 2.92}\n",
      "{'loss': 0.0001, 'grad_norm': 0.0019289564806967974, 'learning_rate': 2.04e-05, 'epoch': 2.96}\n",
      "{'loss': 0.0001, 'grad_norm': 0.0014598617563024163, 'learning_rate': 2e-05, 'epoch': 3.0}\n"
     ]
    },
    {
     "data": {
      "application/vnd.jupyter.widget-view+json": {
       "model_id": "bf47a7d0e126448fb614baa654328bbd",
       "version_major": 2,
       "version_minor": 0
      },
      "text/plain": [
       "  0%|          | 0/50 [00:00<?, ?it/s]"
      ]
     },
     "metadata": {},
     "output_type": "display_data"
    },
    {
     "name": "stdout",
     "output_type": "stream",
     "text": [
      "{'eval_loss': 2.4574692361056805e-05, 'eval_accuracy': 1.0, 'eval_f1_macro': 1.0, 'eval_precision': 1.0, 'eval_recall': 1.0, 'eval_runtime': 13.9356, 'eval_samples_per_second': 14.352, 'eval_steps_per_second': 3.588, 'epoch': 3.0}\n"
     ]
    },
    {
     "name": "stderr",
     "output_type": "stream",
     "text": [
      "d:\\Master\\AN1SEM2\\BioNLP\\CLEF2025-CheckThat\\task1\\.venv\\Lib\\site-packages\\peft\\utils\\other.py:611: UserWarning: Unable to fetch remote file due to the following error (ReadTimeoutError(\"HTTPSConnectionPool(host='huggingface.co', port=443): Read timed out. (read timeout=10)\"), '(Request ID: 64cca836-588c-4bfb-8056-7c258669ce2e)') - silently ignoring the lookup for the file config.json in microsoft/deberta-v3-base.\n",
      "  warnings.warn(\n",
      "d:\\Master\\AN1SEM2\\BioNLP\\CLEF2025-CheckThat\\task1\\.venv\\Lib\\site-packages\\peft\\utils\\save_and_load.py:195: UserWarning: Could not find a config file in microsoft/deberta-v3-base - will assume that the vocabulary was not modified.\n",
      "  warnings.warn(\n",
      "d:\\Master\\AN1SEM2\\BioNLP\\CLEF2025-CheckThat\\task1\\.venv\\Lib\\site-packages\\torch\\utils\\data\\dataloader.py:665: UserWarning: 'pin_memory' argument is set as true but no accelerator is found, then device pinned memory won't be used.\n",
      "  warnings.warn(warn_msg)\n"
     ]
    },
    {
     "name": "stdout",
     "output_type": "stream",
     "text": [
      "{'loss': 0.0001, 'grad_norm': 0.0023126991000026464, 'learning_rate': 1.9600000000000002e-05, 'epoch': 3.04}\n",
      "{'loss': 0.0001, 'grad_norm': 0.003034348599612713, 'learning_rate': 1.9200000000000003e-05, 'epoch': 3.08}\n",
      "{'loss': 0.0001, 'grad_norm': 0.0020138768013566732, 'learning_rate': 1.88e-05, 'epoch': 3.12}\n",
      "{'loss': 0.0001, 'grad_norm': 0.0019444555509835482, 'learning_rate': 1.84e-05, 'epoch': 3.16}\n",
      "{'loss': 0.0001, 'grad_norm': 0.0019115214236080647, 'learning_rate': 1.8e-05, 'epoch': 3.2}\n",
      "{'loss': 0.0001, 'grad_norm': 0.0016724423039704561, 'learning_rate': 1.76e-05, 'epoch': 3.24}\n",
      "{'loss': 0.0, 'grad_norm': 0.0015990036772564054, 'learning_rate': 1.7199999999999998e-05, 'epoch': 3.28}\n",
      "{'loss': 0.0001, 'grad_norm': 0.0013744912575930357, 'learning_rate': 1.6800000000000002e-05, 'epoch': 3.32}\n",
      "{'loss': 0.0001, 'grad_norm': 0.0018672782462090254, 'learning_rate': 1.6400000000000002e-05, 'epoch': 3.36}\n",
      "{'loss': 0.0001, 'grad_norm': 0.0011863559484481812, 'learning_rate': 1.6000000000000003e-05, 'epoch': 3.4}\n",
      "{'loss': 0.0001, 'grad_norm': 0.002062300220131874, 'learning_rate': 1.56e-05, 'epoch': 3.44}\n",
      "{'loss': 0.0, 'grad_norm': 0.0015593854477629066, 'learning_rate': 1.52e-05, 'epoch': 3.48}\n",
      "{'loss': 0.0001, 'grad_norm': 0.0017907797591760755, 'learning_rate': 1.48e-05, 'epoch': 3.52}\n",
      "{'loss': 0.0, 'grad_norm': 0.0017828630516305566, 'learning_rate': 1.44e-05, 'epoch': 3.56}\n",
      "{'loss': 0.0, 'grad_norm': 0.0016532476292923093, 'learning_rate': 1.4000000000000001e-05, 'epoch': 3.6}\n",
      "{'loss': 0.0001, 'grad_norm': 0.002418093616142869, 'learning_rate': 1.3600000000000002e-05, 'epoch': 3.64}\n",
      "{'loss': 0.0001, 'grad_norm': 0.001870989566668868, 'learning_rate': 1.32e-05, 'epoch': 3.68}\n",
      "{'loss': 0.0, 'grad_norm': 0.0013244596775621176, 'learning_rate': 1.2800000000000001e-05, 'epoch': 3.72}\n",
      "{'loss': 0.0, 'grad_norm': 0.001992272213101387, 'learning_rate': 1.24e-05, 'epoch': 3.76}\n",
      "{'loss': 0.0, 'grad_norm': 0.0024104593321681023, 'learning_rate': 1.2e-05, 'epoch': 3.8}\n",
      "{'loss': 0.0001, 'grad_norm': 0.0019379957811906934, 'learning_rate': 1.16e-05, 'epoch': 3.84}\n",
      "{'loss': 0.0001, 'grad_norm': 0.001873063389211893, 'learning_rate': 1.1200000000000001e-05, 'epoch': 3.88}\n",
      "{'loss': 0.0001, 'grad_norm': 0.0010576513595879078, 'learning_rate': 1.08e-05, 'epoch': 3.92}\n",
      "{'loss': 0.0001, 'grad_norm': 0.003374972613528371, 'learning_rate': 1.04e-05, 'epoch': 3.96}\n",
      "{'loss': 0.0, 'grad_norm': 0.0010930747957900167, 'learning_rate': 1e-05, 'epoch': 4.0}\n"
     ]
    },
    {
     "data": {
      "application/vnd.jupyter.widget-view+json": {
       "model_id": "27f5dd4054cd4daaad940ae7d2f39a90",
       "version_major": 2,
       "version_minor": 0
      },
      "text/plain": [
       "  0%|          | 0/50 [00:00<?, ?it/s]"
      ]
     },
     "metadata": {},
     "output_type": "display_data"
    },
    {
     "name": "stdout",
     "output_type": "stream",
     "text": [
      "{'eval_loss': 1.789315319911111e-05, 'eval_accuracy': 1.0, 'eval_f1_macro': 1.0, 'eval_precision': 1.0, 'eval_recall': 1.0, 'eval_runtime': 13.6475, 'eval_samples_per_second': 14.655, 'eval_steps_per_second': 3.664, 'epoch': 4.0}\n"
     ]
    },
    {
     "name": "stderr",
     "output_type": "stream",
     "text": [
      "d:\\Master\\AN1SEM2\\BioNLP\\CLEF2025-CheckThat\\task1\\.venv\\Lib\\site-packages\\huggingface_hub\\file_download.py:943: FutureWarning: `resume_download` is deprecated and will be removed in version 1.0.0. Downloads always resume when possible. If you want to force a new download, use `force_download=True`.\n",
      "  warnings.warn(\n",
      "d:\\Master\\AN1SEM2\\BioNLP\\CLEF2025-CheckThat\\task1\\.venv\\Lib\\site-packages\\torch\\utils\\data\\dataloader.py:665: UserWarning: 'pin_memory' argument is set as true but no accelerator is found, then device pinned memory won't be used.\n",
      "  warnings.warn(warn_msg)\n"
     ]
    },
    {
     "name": "stdout",
     "output_type": "stream",
     "text": [
      "{'loss': 0.0, 'grad_norm': 0.0012299632653594017, 'learning_rate': 9.600000000000001e-06, 'epoch': 4.04}\n",
      "{'loss': 0.0, 'grad_norm': 0.001932988641783595, 'learning_rate': 9.2e-06, 'epoch': 4.08}\n",
      "{'loss': 0.0, 'grad_norm': 0.0020748027600347996, 'learning_rate': 8.8e-06, 'epoch': 4.12}\n",
      "{'loss': 0.0001, 'grad_norm': 0.004370896145701408, 'learning_rate': 8.400000000000001e-06, 'epoch': 4.16}\n",
      "{'loss': 0.0, 'grad_norm': 0.0010559711372479796, 'learning_rate': 8.000000000000001e-06, 'epoch': 4.2}\n",
      "{'loss': 0.0, 'grad_norm': 0.0018097219290211797, 'learning_rate': 7.6e-06, 'epoch': 4.24}\n",
      "{'loss': 0.0, 'grad_norm': 0.0015827303286641836, 'learning_rate': 7.2e-06, 'epoch': 4.28}\n",
      "{'loss': 0.0001, 'grad_norm': 0.0012150249676778913, 'learning_rate': 6.800000000000001e-06, 'epoch': 4.32}\n",
      "{'loss': 0.0, 'grad_norm': 0.0012280270457267761, 'learning_rate': 6.4000000000000006e-06, 'epoch': 4.36}\n",
      "{'loss': 0.0, 'grad_norm': 0.0016680666012689471, 'learning_rate': 6e-06, 'epoch': 4.4}\n",
      "{'loss': 0.0, 'grad_norm': 0.001785248052328825, 'learning_rate': 5.600000000000001e-06, 'epoch': 4.44}\n",
      "{'loss': 0.0, 'grad_norm': 0.0011883736588060856, 'learning_rate': 5.2e-06, 'epoch': 4.48}\n",
      "{'loss': 0.0, 'grad_norm': 0.0014612817903980613, 'learning_rate': 4.800000000000001e-06, 'epoch': 4.52}\n",
      "{'loss': 0.0, 'grad_norm': 0.0015529526863247156, 'learning_rate': 4.4e-06, 'epoch': 4.56}\n",
      "{'loss': 0.0, 'grad_norm': 0.001386866788379848, 'learning_rate': 4.000000000000001e-06, 'epoch': 4.6}\n",
      "{'loss': 0.0, 'grad_norm': 0.002049453090876341, 'learning_rate': 3.6e-06, 'epoch': 4.64}\n",
      "{'loss': 0.0001, 'grad_norm': 0.001431028824299574, 'learning_rate': 3.2000000000000003e-06, 'epoch': 4.68}\n",
      "{'loss': 0.0, 'grad_norm': 0.004036356694996357, 'learning_rate': 2.8000000000000003e-06, 'epoch': 4.72}\n",
      "{'loss': 0.0, 'grad_norm': 0.0023035865742713213, 'learning_rate': 2.4000000000000003e-06, 'epoch': 4.76}\n",
      "{'loss': 0.0, 'grad_norm': 0.0012662913650274277, 'learning_rate': 2.0000000000000003e-06, 'epoch': 4.8}\n",
      "{'loss': 0.0, 'grad_norm': 0.0019107129191979766, 'learning_rate': 1.6000000000000001e-06, 'epoch': 4.84}\n",
      "{'loss': 0.0, 'grad_norm': 0.0019124021055176854, 'learning_rate': 1.2000000000000002e-06, 'epoch': 4.88}\n",
      "{'loss': 0.0, 'grad_norm': 0.0013937806943431497, 'learning_rate': 8.000000000000001e-07, 'epoch': 4.92}\n",
      "{'loss': 0.0, 'grad_norm': 0.0012442829320207238, 'learning_rate': 4.0000000000000003e-07, 'epoch': 4.96}\n",
      "{'loss': 0.0, 'grad_norm': 0.0014807202387601137, 'learning_rate': 0.0, 'epoch': 5.0}\n"
     ]
    },
    {
     "data": {
      "application/vnd.jupyter.widget-view+json": {
       "model_id": "0834a9cd737548e4881b93e3c7018e5a",
       "version_major": 2,
       "version_minor": 0
      },
      "text/plain": [
       "  0%|          | 0/50 [00:00<?, ?it/s]"
      ]
     },
     "metadata": {},
     "output_type": "display_data"
    },
    {
     "name": "stdout",
     "output_type": "stream",
     "text": [
      "{'eval_loss': 1.607583908480592e-05, 'eval_accuracy': 1.0, 'eval_f1_macro': 1.0, 'eval_precision': 1.0, 'eval_recall': 1.0, 'eval_runtime': 13.9267, 'eval_samples_per_second': 14.361, 'eval_steps_per_second': 3.59, 'epoch': 5.0}\n"
     ]
    },
    {
     "name": "stderr",
     "output_type": "stream",
     "text": [
      "d:\\Master\\AN1SEM2\\BioNLP\\CLEF2025-CheckThat\\task1\\.venv\\Lib\\site-packages\\peft\\utils\\other.py:611: UserWarning: Unable to fetch remote file due to the following error (ReadTimeoutError(\"HTTPSConnectionPool(host='huggingface.co', port=443): Read timed out. (read timeout=10)\"), '(Request ID: f84f143b-c1b7-4ef3-8a64-83b8a85befbf)') - silently ignoring the lookup for the file config.json in microsoft/deberta-v3-base.\n",
      "  warnings.warn(\n",
      "d:\\Master\\AN1SEM2\\BioNLP\\CLEF2025-CheckThat\\task1\\.venv\\Lib\\site-packages\\peft\\utils\\save_and_load.py:195: UserWarning: Could not find a config file in microsoft/deberta-v3-base - will assume that the vocabulary was not modified.\n",
      "  warnings.warn(\n"
     ]
    },
    {
     "name": "stdout",
     "output_type": "stream",
     "text": [
      "{'train_runtime': 1715.1648, 'train_samples_per_second': 2.915, 'train_steps_per_second': 0.729, 'train_loss': 0.016182669390528464, 'epoch': 5.0}\n"
     ]
    },
    {
     "name": "stderr",
     "output_type": "stream",
     "text": [
      "d:\\Master\\AN1SEM2\\BioNLP\\CLEF2025-CheckThat\\task1\\.venv\\Lib\\site-packages\\huggingface_hub\\file_download.py:943: FutureWarning: `resume_download` is deprecated and will be removed in version 1.0.0. Downloads always resume when possible. If you want to force a new download, use `force_download=True`.\n",
      "  warnings.warn(\n"
     ]
    }
   ],
   "source": [
    "trainer = Trainer(\n",
    "    model=model,\n",
    "    args=training_args,\n",
    "    train_dataset=tokenized_train_dataset,\n",
    "    eval_dataset=tokenized_val_dataset,\n",
    "    compute_metrics=compute_metrics\n",
    ")\n",
    "\n",
    "# === 10. Train ===\n",
    "trainer.train()\n",
    "\n",
    "trainer.save_model(\"./results/stage1-rotten-tomatoes/final_checkpoint\")"
   ]
  },
  {
   "cell_type": "markdown",
   "id": "a7695b09",
   "metadata": {},
   "source": [
    "STAGE 2"
   ]
  },
  {
   "cell_type": "code",
   "execution_count": 11,
   "id": "0709c78a",
   "metadata": {},
   "outputs": [
    {
     "data": {
      "application/vnd.jupyter.widget-view+json": {
       "model_id": "451c99d8c9d549fdb5ec2ec6fa89f22a",
       "version_major": 2,
       "version_minor": 0
      },
      "text/plain": [
       "Map:   0%|          | 0/830 [00:00<?, ? examples/s]"
      ]
     },
     "metadata": {},
     "output_type": "display_data"
    },
    {
     "data": {
      "application/vnd.jupyter.widget-view+json": {
       "model_id": "672b94aa8cee4d108ab51d2f704b0c1c",
       "version_major": 2,
       "version_minor": 0
      },
      "text/plain": [
       "Map:   0%|          | 0/462 [00:00<?, ? examples/s]"
      ]
     },
     "metadata": {},
     "output_type": "display_data"
    },
    {
     "data": {
      "application/vnd.jupyter.widget-view+json": {
       "model_id": "1081e5552dfe4710a24ed3f53a20e35b",
       "version_major": 2,
       "version_minor": 0
      },
      "text/plain": [
       "Map:   0%|          | 0/484 [00:00<?, ? examples/s]"
      ]
     },
     "metadata": {},
     "output_type": "display_data"
    }
   ],
   "source": [
    "def tokenize_fn(examples):\n",
    "    return tokenizer(\n",
    "        examples[\"sentence\"],\n",
    "        padding=\"max_length\",\n",
    "        truncation=True,\n",
    "        max_length=128\n",
    "    )\n",
    "\n",
    "train_dataset = train_dataset.map(tokenize_fn, batched=True)\n",
    "val_dataset = val_dataset.map(tokenize_fn, batched=True)\n",
    "test_dataset = test_dataset.map(tokenize_fn, batched=True)\n",
    "\n",
    "train_dataset = train_dataset.rename_column(\"label\", \"labels\")\n",
    "val_dataset = val_dataset.rename_column(\"label\", \"labels\")\n",
    "test_dataset = test_dataset.rename_column(\"label\", \"labels\")\n",
    "\n",
    "train_dataset.set_format(type=\"torch\", columns=[\"input_ids\", \"attention_mask\", \"labels\"])\n",
    "val_dataset.set_format(type=\"torch\", columns=[\"input_ids\", \"attention_mask\", \"labels\"])\n",
    "test_dataset.set_format(type=\"torch\", columns=[\"input_ids\", \"attention_mask\", \"labels\"])"
   ]
  },
  {
   "cell_type": "code",
   "execution_count": 12,
   "id": "bb7ef4ad",
   "metadata": {},
   "outputs": [
    {
     "name": "stderr",
     "output_type": "stream",
     "text": [
      "Some weights of DebertaV2ForSequenceClassification were not initialized from the model checkpoint at microsoft/deberta-v3-base and are newly initialized: ['classifier.bias', 'classifier.weight', 'pooler.dense.bias', 'pooler.dense.weight']\n",
      "You should probably TRAIN this model on a down-stream task to be able to use it for predictions and inference.\n"
     ]
    }
   ],
   "source": [
    "from peft import PeftModel\n",
    "\n",
    "base_model = AutoModelForSequenceClassification.from_pretrained(model_name, num_labels=2)\n",
    "model = PeftModel.from_pretrained(base_model, \"./results/stage1-rotten-tomatoes/final_checkpoint\")"
   ]
  },
  {
   "cell_type": "code",
   "execution_count": 13,
   "id": "bab7dcf9",
   "metadata": {},
   "outputs": [],
   "source": [
    "lora_config = LoraConfig(\n",
    "    r=32,\n",
    "    lora_alpha=16,\n",
    "    lora_dropout=0.05,\n",
    "    task_type=TaskType.SEQ_CLS,\n",
    "    target_modules=[\"query_proj\", \"key_proj\", \"value_proj\", \"dense\"] \n",
    ")\n",
    "\n",
    "model = get_peft_model(model, lora_config).to(device)"
   ]
  },
  {
   "cell_type": "code",
   "execution_count": 14,
   "id": "d0aa322d",
   "metadata": {},
   "outputs": [],
   "source": [
    "# === 8. TrainingArguments ===\n",
    "training_args = TrainingArguments(\n",
    "    output_dir=\"./results\",\n",
    "    per_device_train_batch_size=4,\n",
    "    per_device_eval_batch_size=4,\n",
    "    num_train_epochs=10,\n",
    "    eval_strategy=\"epoch\",\n",
    "    save_strategy=\"epoch\",\n",
    "    logging_steps=10,\n",
    "    load_best_model_at_end=True,\n",
    "    metric_for_best_model=\"f1_macro\",\n",
    ")"
   ]
  },
  {
   "cell_type": "code",
   "execution_count": 16,
   "id": "5a0911f1",
   "metadata": {},
   "outputs": [
    {
     "data": {
      "application/vnd.jupyter.widget-view+json": {
       "model_id": "aeaa6fb8c1d54731923f7cc0eac48567",
       "version_major": 2,
       "version_minor": 0
      },
      "text/plain": [
       "  0%|          | 0/2080 [00:00<?, ?it/s]"
      ]
     },
     "metadata": {},
     "output_type": "display_data"
    },
    {
     "name": "stderr",
     "output_type": "stream",
     "text": [
      "d:\\Master\\AN1SEM2\\BioNLP\\CLEF2025-CheckThat\\task1\\.venv\\Lib\\site-packages\\torch\\utils\\data\\dataloader.py:665: UserWarning: 'pin_memory' argument is set as true but no accelerator is found, then device pinned memory won't be used.\n",
      "  warnings.warn(warn_msg)\n"
     ]
    },
    {
     "name": "stdout",
     "output_type": "stream",
     "text": [
      "{'loss': 0.7158, 'grad_norm': 2.6309142112731934, 'learning_rate': 4.9759615384615386e-05, 'epoch': 0.05}\n",
      "{'loss': 0.7413, 'grad_norm': 4.365935325622559, 'learning_rate': 4.9519230769230776e-05, 'epoch': 0.1}\n",
      "{'loss': 0.6976, 'grad_norm': 2.2812647819519043, 'learning_rate': 4.927884615384616e-05, 'epoch': 0.14}\n",
      "{'loss': 0.6893, 'grad_norm': 1.0032331943511963, 'learning_rate': 4.9038461538461536e-05, 'epoch': 0.19}\n",
      "{'loss': 0.6935, 'grad_norm': 1.085867166519165, 'learning_rate': 4.8798076923076926e-05, 'epoch': 0.24}\n",
      "{'loss': 0.665, 'grad_norm': 3.629504442214966, 'learning_rate': 4.855769230769231e-05, 'epoch': 0.29}\n",
      "{'loss': 0.6473, 'grad_norm': 1.706917405128479, 'learning_rate': 4.8317307692307693e-05, 'epoch': 0.34}\n",
      "{'loss': 0.6658, 'grad_norm': 3.340214729309082, 'learning_rate': 4.8076923076923084e-05, 'epoch': 0.38}\n",
      "{'loss': 0.6709, 'grad_norm': 1.4903264045715332, 'learning_rate': 4.783653846153847e-05, 'epoch': 0.43}\n",
      "{'loss': 0.65, 'grad_norm': 1.477706789970398, 'learning_rate': 4.7596153846153844e-05, 'epoch': 0.48}\n",
      "{'loss': 0.7049, 'grad_norm': 1.5901960134506226, 'learning_rate': 4.7355769230769234e-05, 'epoch': 0.53}\n",
      "{'loss': 0.72, 'grad_norm': 1.415735125541687, 'learning_rate': 4.711538461538462e-05, 'epoch': 0.58}\n",
      "{'loss': 0.6678, 'grad_norm': 2.9285478591918945, 'learning_rate': 4.6875e-05, 'epoch': 0.62}\n",
      "{'loss': 0.6847, 'grad_norm': 1.2179813385009766, 'learning_rate': 4.6634615384615384e-05, 'epoch': 0.67}\n",
      "{'loss': 0.6192, 'grad_norm': 1.4768261909484863, 'learning_rate': 4.6394230769230775e-05, 'epoch': 0.72}\n",
      "{'loss': 0.6613, 'grad_norm': 1.549047589302063, 'learning_rate': 4.615384615384616e-05, 'epoch': 0.77}\n",
      "{'loss': 0.6453, 'grad_norm': 1.3938944339752197, 'learning_rate': 4.591346153846154e-05, 'epoch': 0.82}\n",
      "{'loss': 0.6482, 'grad_norm': 1.6816949844360352, 'learning_rate': 4.5673076923076925e-05, 'epoch': 0.87}\n",
      "{'loss': 0.6085, 'grad_norm': 1.1503201723098755, 'learning_rate': 4.543269230769231e-05, 'epoch': 0.91}\n",
      "{'loss': 0.6315, 'grad_norm': 2.9256622791290283, 'learning_rate': 4.519230769230769e-05, 'epoch': 0.96}\n"
     ]
    },
    {
     "data": {
      "application/vnd.jupyter.widget-view+json": {
       "model_id": "aee0f7bfdac3495898b83bce89b3203f",
       "version_major": 2,
       "version_minor": 0
      },
      "text/plain": [
       "  0%|          | 0/116 [00:00<?, ?it/s]"
      ]
     },
     "metadata": {},
     "output_type": "display_data"
    },
    {
     "name": "stderr",
     "output_type": "stream",
     "text": [
      "d:\\Master\\AN1SEM2\\BioNLP\\CLEF2025-CheckThat\\task1\\.venv\\Lib\\site-packages\\sklearn\\metrics\\_classification.py:1706: UndefinedMetricWarning: Precision is ill-defined and being set to 0.0 in labels with no predicted samples. Use `zero_division` parameter to control this behavior.\n",
      "  _warn_prf(average, modifier, f\"{metric.capitalize()} is\", result.shape[0])\n",
      "d:\\Master\\AN1SEM2\\BioNLP\\CLEF2025-CheckThat\\task1\\.venv\\Lib\\site-packages\\torch\\utils\\data\\dataloader.py:665: UserWarning: 'pin_memory' argument is set as true but no accelerator is found, then device pinned memory won't be used.\n",
      "  warnings.warn(warn_msg)\n"
     ]
    },
    {
     "name": "stdout",
     "output_type": "stream",
     "text": [
      "{'eval_loss': 0.7485350966453552, 'eval_accuracy': 0.4805194805194805, 'eval_f1_macro': 0.32456140350877194, 'eval_precision': 0.24025974025974026, 'eval_recall': 0.5, 'eval_runtime': 31.879, 'eval_samples_per_second': 14.492, 'eval_steps_per_second': 3.639, 'epoch': 1.0}\n",
      "{'loss': 0.5944, 'grad_norm': 1.0798184871673584, 'learning_rate': 4.495192307692308e-05, 'epoch': 1.01}\n",
      "{'loss': 0.6815, 'grad_norm': 3.670705795288086, 'learning_rate': 4.4711538461538466e-05, 'epoch': 1.06}\n",
      "{'loss': 0.6479, 'grad_norm': 3.354647159576416, 'learning_rate': 4.447115384615384e-05, 'epoch': 1.11}\n",
      "{'loss': 0.6563, 'grad_norm': 1.6315975189208984, 'learning_rate': 4.423076923076923e-05, 'epoch': 1.15}\n",
      "{'loss': 0.5759, 'grad_norm': 1.2726610898971558, 'learning_rate': 4.3990384615384616e-05, 'epoch': 1.2}\n",
      "{'loss': 0.6289, 'grad_norm': 2.087432622909546, 'learning_rate': 4.375e-05, 'epoch': 1.25}\n",
      "{'loss': 0.5575, 'grad_norm': 3.4683303833007812, 'learning_rate': 4.350961538461539e-05, 'epoch': 1.3}\n",
      "{'loss': 0.5964, 'grad_norm': 6.578391075134277, 'learning_rate': 4.326923076923077e-05, 'epoch': 1.35}\n",
      "{'loss': 0.5984, 'grad_norm': 2.975064516067505, 'learning_rate': 4.302884615384616e-05, 'epoch': 1.39}\n",
      "{'loss': 0.5152, 'grad_norm': 7.8069915771484375, 'learning_rate': 4.278846153846154e-05, 'epoch': 1.44}\n",
      "{'loss': 0.5522, 'grad_norm': 2.364886999130249, 'learning_rate': 4.2548076923076924e-05, 'epoch': 1.49}\n",
      "{'loss': 0.5755, 'grad_norm': 1.3716977834701538, 'learning_rate': 4.230769230769231e-05, 'epoch': 1.54}\n",
      "{'loss': 0.4066, 'grad_norm': 3.62917160987854, 'learning_rate': 4.20673076923077e-05, 'epoch': 1.59}\n",
      "{'loss': 0.5948, 'grad_norm': 4.843810081481934, 'learning_rate': 4.182692307692308e-05, 'epoch': 1.63}\n",
      "{'loss': 0.5045, 'grad_norm': 1.384781002998352, 'learning_rate': 4.1586538461538464e-05, 'epoch': 1.68}\n",
      "{'loss': 0.7208, 'grad_norm': 6.1892828941345215, 'learning_rate': 4.134615384615385e-05, 'epoch': 1.73}\n",
      "{'loss': 0.5683, 'grad_norm': 0.8721727132797241, 'learning_rate': 4.110576923076923e-05, 'epoch': 1.78}\n",
      "{'loss': 0.6275, 'grad_norm': 5.363863945007324, 'learning_rate': 4.0865384615384615e-05, 'epoch': 1.83}\n",
      "{'loss': 0.332, 'grad_norm': 3.2033050060272217, 'learning_rate': 4.0625000000000005e-05, 'epoch': 1.88}\n",
      "{'loss': 0.5473, 'grad_norm': 7.0514235496521, 'learning_rate': 4.038461538461539e-05, 'epoch': 1.92}\n",
      "{'loss': 0.6462, 'grad_norm': 5.612622261047363, 'learning_rate': 4.014423076923077e-05, 'epoch': 1.97}\n"
     ]
    },
    {
     "data": {
      "application/vnd.jupyter.widget-view+json": {
       "model_id": "48912ce5e4fb4816b4bc8e8923393392",
       "version_major": 2,
       "version_minor": 0
      },
      "text/plain": [
       "  0%|          | 0/116 [00:00<?, ?it/s]"
      ]
     },
     "metadata": {},
     "output_type": "display_data"
    },
    {
     "name": "stdout",
     "output_type": "stream",
     "text": [
      "{'eval_loss': 0.5776647329330444, 'eval_accuracy': 0.7489177489177489, 'eval_f1_macro': 0.7486162448167815, 'eval_precision': 0.7485556722689075, 'eval_recall': 0.7487049549549549, 'eval_runtime': 31.9392, 'eval_samples_per_second': 14.465, 'eval_steps_per_second': 3.632, 'epoch': 2.0}\n"
     ]
    },
    {
     "name": "stderr",
     "output_type": "stream",
     "text": [
      "d:\\Master\\AN1SEM2\\BioNLP\\CLEF2025-CheckThat\\task1\\.venv\\Lib\\site-packages\\torch\\utils\\data\\dataloader.py:665: UserWarning: 'pin_memory' argument is set as true but no accelerator is found, then device pinned memory won't be used.\n",
      "  warnings.warn(warn_msg)\n"
     ]
    },
    {
     "name": "stdout",
     "output_type": "stream",
     "text": [
      "{'loss': 0.4773, 'grad_norm': 1.1511704921722412, 'learning_rate': 3.9903846153846155e-05, 'epoch': 2.02}\n",
      "{'loss': 0.4391, 'grad_norm': 1.0211766958236694, 'learning_rate': 3.966346153846154e-05, 'epoch': 2.07}\n",
      "{'loss': 0.496, 'grad_norm': 4.388455867767334, 'learning_rate': 3.942307692307692e-05, 'epoch': 2.12}\n",
      "{'loss': 0.7016, 'grad_norm': 9.57120418548584, 'learning_rate': 3.918269230769231e-05, 'epoch': 2.16}\n",
      "{'loss': 0.4218, 'grad_norm': 11.63208293914795, 'learning_rate': 3.8942307692307696e-05, 'epoch': 2.21}\n",
      "{'loss': 0.4181, 'grad_norm': 0.5472500920295715, 'learning_rate': 3.870192307692308e-05, 'epoch': 2.26}\n",
      "{'loss': 0.6692, 'grad_norm': 17.737932205200195, 'learning_rate': 3.846153846153846e-05, 'epoch': 2.31}\n",
      "{'loss': 0.2692, 'grad_norm': 1.8524974584579468, 'learning_rate': 3.8221153846153846e-05, 'epoch': 2.36}\n",
      "{'loss': 0.2486, 'grad_norm': 1.6352205276489258, 'learning_rate': 3.798076923076923e-05, 'epoch': 2.4}\n",
      "{'loss': 0.6171, 'grad_norm': 1.5832785367965698, 'learning_rate': 3.774038461538461e-05, 'epoch': 2.45}\n",
      "{'loss': 0.6617, 'grad_norm': 6.258470058441162, 'learning_rate': 3.7500000000000003e-05, 'epoch': 2.5}\n",
      "{'loss': 0.4849, 'grad_norm': 2.9932334423065186, 'learning_rate': 3.725961538461539e-05, 'epoch': 2.55}\n",
      "{'loss': 0.6268, 'grad_norm': 8.749098777770996, 'learning_rate': 3.701923076923077e-05, 'epoch': 2.6}\n",
      "{'loss': 0.4078, 'grad_norm': 3.231790065765381, 'learning_rate': 3.677884615384616e-05, 'epoch': 2.64}\n",
      "{'loss': 0.4956, 'grad_norm': 0.935531735420227, 'learning_rate': 3.653846153846154e-05, 'epoch': 2.69}\n",
      "{'loss': 0.8143, 'grad_norm': 5.977358818054199, 'learning_rate': 3.629807692307692e-05, 'epoch': 2.74}\n",
      "{'loss': 0.4942, 'grad_norm': 5.111845970153809, 'learning_rate': 3.605769230769231e-05, 'epoch': 2.79}\n",
      "{'loss': 0.4221, 'grad_norm': 1.2368133068084717, 'learning_rate': 3.5817307692307695e-05, 'epoch': 2.84}\n",
      "{'loss': 0.3626, 'grad_norm': 4.027332305908203, 'learning_rate': 3.557692307692308e-05, 'epoch': 2.88}\n",
      "{'loss': 0.6148, 'grad_norm': 5.56010627746582, 'learning_rate': 3.533653846153847e-05, 'epoch': 2.93}\n",
      "{'loss': 0.2188, 'grad_norm': 1.2429298162460327, 'learning_rate': 3.5096153846153845e-05, 'epoch': 2.98}\n"
     ]
    },
    {
     "data": {
      "application/vnd.jupyter.widget-view+json": {
       "model_id": "d65b7b2c2883415386f5c3ec980222f4",
       "version_major": 2,
       "version_minor": 0
      },
      "text/plain": [
       "  0%|          | 0/116 [00:00<?, ?it/s]"
      ]
     },
     "metadata": {},
     "output_type": "display_data"
    },
    {
     "name": "stdout",
     "output_type": "stream",
     "text": [
      "{'eval_loss': 0.7074335217475891, 'eval_accuracy': 0.7662337662337663, 'eval_f1_macro': 0.7638930950938825, 'eval_precision': 0.7871503496503496, 'eval_recall': 0.7712837837837838, 'eval_runtime': 32.2238, 'eval_samples_per_second': 14.337, 'eval_steps_per_second': 3.6, 'epoch': 3.0}\n"
     ]
    },
    {
     "name": "stderr",
     "output_type": "stream",
     "text": [
      "d:\\Master\\AN1SEM2\\BioNLP\\CLEF2025-CheckThat\\task1\\.venv\\Lib\\site-packages\\torch\\utils\\data\\dataloader.py:665: UserWarning: 'pin_memory' argument is set as true but no accelerator is found, then device pinned memory won't be used.\n",
      "  warnings.warn(warn_msg)\n"
     ]
    },
    {
     "name": "stdout",
     "output_type": "stream",
     "text": [
      "{'loss': 0.3086, 'grad_norm': 2.400819778442383, 'learning_rate': 3.485576923076923e-05, 'epoch': 3.03}\n",
      "{'loss': 0.4891, 'grad_norm': 11.556095123291016, 'learning_rate': 3.461538461538462e-05, 'epoch': 3.08}\n",
      "{'loss': 0.3419, 'grad_norm': 0.7763872742652893, 'learning_rate': 3.4375e-05, 'epoch': 3.12}\n",
      "{'loss': 0.8371, 'grad_norm': 4.672676086425781, 'learning_rate': 3.4134615384615386e-05, 'epoch': 3.17}\n",
      "{'loss': 0.2709, 'grad_norm': 5.861742973327637, 'learning_rate': 3.3894230769230776e-05, 'epoch': 3.22}\n",
      "{'loss': 0.429, 'grad_norm': 13.483816146850586, 'learning_rate': 3.365384615384616e-05, 'epoch': 3.27}\n",
      "{'loss': 0.2291, 'grad_norm': 0.699564516544342, 'learning_rate': 3.3413461538461536e-05, 'epoch': 3.32}\n",
      "{'loss': 0.4639, 'grad_norm': 0.4182063639163971, 'learning_rate': 3.3173076923076926e-05, 'epoch': 3.37}\n",
      "{'loss': 0.5647, 'grad_norm': 3.8619370460510254, 'learning_rate': 3.293269230769231e-05, 'epoch': 3.41}\n",
      "{'loss': 0.529, 'grad_norm': 17.611005783081055, 'learning_rate': 3.269230769230769e-05, 'epoch': 3.46}\n",
      "{'loss': 0.2568, 'grad_norm': 4.863062381744385, 'learning_rate': 3.2451923076923077e-05, 'epoch': 3.51}\n",
      "{'loss': 0.5255, 'grad_norm': 0.5011431574821472, 'learning_rate': 3.221153846153847e-05, 'epoch': 3.56}\n",
      "{'loss': 0.5604, 'grad_norm': 0.9888783693313599, 'learning_rate': 3.1971153846153843e-05, 'epoch': 3.61}\n",
      "{'loss': 0.4409, 'grad_norm': 3.670323371887207, 'learning_rate': 3.1730769230769234e-05, 'epoch': 3.65}\n",
      "{'loss': 0.4898, 'grad_norm': 0.7528476119041443, 'learning_rate': 3.149038461538462e-05, 'epoch': 3.7}\n",
      "{'loss': 0.5052, 'grad_norm': 10.380208969116211, 'learning_rate': 3.125e-05, 'epoch': 3.75}\n",
      "{'loss': 0.3719, 'grad_norm': 0.8299316167831421, 'learning_rate': 3.1009615384615384e-05, 'epoch': 3.8}\n",
      "{'loss': 0.5801, 'grad_norm': 6.086906909942627, 'learning_rate': 3.0769230769230774e-05, 'epoch': 3.85}\n",
      "{'loss': 0.6034, 'grad_norm': 0.649909496307373, 'learning_rate': 3.052884615384616e-05, 'epoch': 3.89}\n",
      "{'loss': 0.1847, 'grad_norm': 0.6936982870101929, 'learning_rate': 3.0288461538461538e-05, 'epoch': 3.94}\n",
      "{'loss': 0.2356, 'grad_norm': 10.21081829071045, 'learning_rate': 3.0048076923076925e-05, 'epoch': 3.99}\n"
     ]
    },
    {
     "data": {
      "application/vnd.jupyter.widget-view+json": {
       "model_id": "33ef3b198f97457fb72f6052e2b7289b",
       "version_major": 2,
       "version_minor": 0
      },
      "text/plain": [
       "  0%|          | 0/116 [00:00<?, ?it/s]"
      ]
     },
     "metadata": {},
     "output_type": "display_data"
    },
    {
     "name": "stdout",
     "output_type": "stream",
     "text": [
      "{'eval_loss': 0.6220338344573975, 'eval_accuracy': 0.7965367965367965, 'eval_f1_macro': 0.7965329835082459, 'eval_precision': 0.7981404958677686, 'eval_recall': 0.7979166666666666, 'eval_runtime': 31.1256, 'eval_samples_per_second': 14.843, 'eval_steps_per_second': 3.727, 'epoch': 4.0}\n"
     ]
    },
    {
     "name": "stderr",
     "output_type": "stream",
     "text": [
      "d:\\Master\\AN1SEM2\\BioNLP\\CLEF2025-CheckThat\\task1\\.venv\\Lib\\site-packages\\torch\\utils\\data\\dataloader.py:665: UserWarning: 'pin_memory' argument is set as true but no accelerator is found, then device pinned memory won't be used.\n",
      "  warnings.warn(warn_msg)\n"
     ]
    },
    {
     "name": "stdout",
     "output_type": "stream",
     "text": [
      "{'loss': 0.2451, 'grad_norm': 4.175917625427246, 'learning_rate': 2.9807692307692308e-05, 'epoch': 4.04}\n",
      "{'loss': 0.3067, 'grad_norm': 6.523779392242432, 'learning_rate': 2.9567307692307695e-05, 'epoch': 4.09}\n",
      "{'loss': 0.6254, 'grad_norm': 7.666072368621826, 'learning_rate': 2.932692307692308e-05, 'epoch': 4.13}\n",
      "{'loss': 0.3372, 'grad_norm': 0.41526758670806885, 'learning_rate': 2.9086538461538465e-05, 'epoch': 4.18}\n",
      "{'loss': 0.2485, 'grad_norm': 3.8127057552337646, 'learning_rate': 2.8846153846153845e-05, 'epoch': 4.23}\n",
      "{'loss': 0.24, 'grad_norm': 5.140757083892822, 'learning_rate': 2.860576923076923e-05, 'epoch': 4.28}\n",
      "{'loss': 0.213, 'grad_norm': 0.44469577074050903, 'learning_rate': 2.8365384615384616e-05, 'epoch': 4.33}\n",
      "{'loss': 0.4403, 'grad_norm': 0.5003892779350281, 'learning_rate': 2.8125000000000003e-05, 'epoch': 4.38}\n",
      "{'loss': 0.3649, 'grad_norm': 2.986278533935547, 'learning_rate': 2.7884615384615386e-05, 'epoch': 4.42}\n",
      "{'loss': 0.4183, 'grad_norm': 0.7238451838493347, 'learning_rate': 2.7644230769230773e-05, 'epoch': 4.47}\n",
      "{'loss': 0.582, 'grad_norm': 7.120760440826416, 'learning_rate': 2.7403846153846156e-05, 'epoch': 4.52}\n",
      "{'loss': 0.5438, 'grad_norm': 2.5049197673797607, 'learning_rate': 2.7163461538461536e-05, 'epoch': 4.57}\n",
      "{'loss': 0.3736, 'grad_norm': 5.384678840637207, 'learning_rate': 2.6923076923076923e-05, 'epoch': 4.62}\n",
      "{'loss': 0.1425, 'grad_norm': 2.568840503692627, 'learning_rate': 2.668269230769231e-05, 'epoch': 4.66}\n",
      "{'loss': 0.4896, 'grad_norm': 4.882619380950928, 'learning_rate': 2.6442307692307694e-05, 'epoch': 4.71}\n",
      "{'loss': 0.384, 'grad_norm': 1.5525246858596802, 'learning_rate': 2.620192307692308e-05, 'epoch': 4.76}\n",
      "{'loss': 0.5208, 'grad_norm': 0.6454712152481079, 'learning_rate': 2.5961538461538464e-05, 'epoch': 4.81}\n",
      "{'loss': 0.9332, 'grad_norm': 10.779108047485352, 'learning_rate': 2.5721153846153844e-05, 'epoch': 4.86}\n",
      "{'loss': 0.5278, 'grad_norm': 0.37016719579696655, 'learning_rate': 2.548076923076923e-05, 'epoch': 4.9}\n",
      "{'loss': 0.4109, 'grad_norm': 5.36653995513916, 'learning_rate': 2.5240384615384614e-05, 'epoch': 4.95}\n",
      "{'loss': 0.3439, 'grad_norm': 2.106985092163086, 'learning_rate': 2.5e-05, 'epoch': 5.0}\n"
     ]
    },
    {
     "data": {
      "application/vnd.jupyter.widget-view+json": {
       "model_id": "b38b1d1f3864472ea461823bfa6413d4",
       "version_major": 2,
       "version_minor": 0
      },
      "text/plain": [
       "  0%|          | 0/116 [00:00<?, ?it/s]"
      ]
     },
     "metadata": {},
     "output_type": "display_data"
    },
    {
     "name": "stdout",
     "output_type": "stream",
     "text": [
      "{'eval_loss': 0.6049712896347046, 'eval_accuracy': 0.7770562770562771, 'eval_f1_macro': 0.7749208916890156, 'eval_precision': 0.7808412561221549, 'eval_recall': 0.7744369369369369, 'eval_runtime': 32.3873, 'eval_samples_per_second': 14.265, 'eval_steps_per_second': 3.582, 'epoch': 5.0}\n"
     ]
    },
    {
     "name": "stderr",
     "output_type": "stream",
     "text": [
      "d:\\Master\\AN1SEM2\\BioNLP\\CLEF2025-CheckThat\\task1\\.venv\\Lib\\site-packages\\torch\\utils\\data\\dataloader.py:665: UserWarning: 'pin_memory' argument is set as true but no accelerator is found, then device pinned memory won't be used.\n",
      "  warnings.warn(warn_msg)\n"
     ]
    },
    {
     "name": "stdout",
     "output_type": "stream",
     "text": [
      "{'loss': 0.2218, 'grad_norm': 8.287753105163574, 'learning_rate': 2.4759615384615388e-05, 'epoch': 5.05}\n",
      "{'loss': 0.3197, 'grad_norm': 0.5161803364753723, 'learning_rate': 2.4519230769230768e-05, 'epoch': 5.1}\n",
      "{'loss': 0.5229, 'grad_norm': 31.6905517578125, 'learning_rate': 2.4278846153846155e-05, 'epoch': 5.14}\n",
      "{'loss': 0.3076, 'grad_norm': 14.561025619506836, 'learning_rate': 2.4038461538461542e-05, 'epoch': 5.19}\n",
      "{'loss': 0.4056, 'grad_norm': 0.25801676511764526, 'learning_rate': 2.3798076923076922e-05, 'epoch': 5.24}\n",
      "{'loss': 0.4772, 'grad_norm': 3.6835227012634277, 'learning_rate': 2.355769230769231e-05, 'epoch': 5.29}\n",
      "{'loss': 0.3572, 'grad_norm': 20.35322380065918, 'learning_rate': 2.3317307692307692e-05, 'epoch': 5.34}\n",
      "{'loss': 0.5734, 'grad_norm': 0.5391113758087158, 'learning_rate': 2.307692307692308e-05, 'epoch': 5.38}\n",
      "{'loss': 0.4305, 'grad_norm': 5.674897193908691, 'learning_rate': 2.2836538461538463e-05, 'epoch': 5.43}\n",
      "{'loss': 0.4565, 'grad_norm': 3.4031033515930176, 'learning_rate': 2.2596153846153846e-05, 'epoch': 5.48}\n",
      "{'loss': 0.1684, 'grad_norm': 15.944610595703125, 'learning_rate': 2.2355769230769233e-05, 'epoch': 5.53}\n",
      "{'loss': 0.2732, 'grad_norm': 6.351416110992432, 'learning_rate': 2.2115384615384616e-05, 'epoch': 5.58}\n",
      "{'loss': 0.4699, 'grad_norm': 31.429786682128906, 'learning_rate': 2.1875e-05, 'epoch': 5.62}\n",
      "{'loss': 0.4374, 'grad_norm': 12.597691535949707, 'learning_rate': 2.1634615384615387e-05, 'epoch': 5.67}\n",
      "{'loss': 0.3082, 'grad_norm': 5.100714683532715, 'learning_rate': 2.139423076923077e-05, 'epoch': 5.72}\n",
      "{'loss': 0.1977, 'grad_norm': 4.022976875305176, 'learning_rate': 2.1153846153846154e-05, 'epoch': 5.77}\n",
      "{'loss': 0.6535, 'grad_norm': 7.573669910430908, 'learning_rate': 2.091346153846154e-05, 'epoch': 5.82}\n",
      "{'loss': 0.4304, 'grad_norm': 18.137779235839844, 'learning_rate': 2.0673076923076924e-05, 'epoch': 5.87}\n",
      "{'loss': 0.43, 'grad_norm': 17.642900466918945, 'learning_rate': 2.0432692307692307e-05, 'epoch': 5.91}\n",
      "{'loss': 0.2591, 'grad_norm': 1.7991271018981934, 'learning_rate': 2.0192307692307694e-05, 'epoch': 5.96}\n"
     ]
    },
    {
     "data": {
      "application/vnd.jupyter.widget-view+json": {
       "model_id": "04dd7ff6b2ef419d8cfdefea45c3f760",
       "version_major": 2,
       "version_minor": 0
      },
      "text/plain": [
       "  0%|          | 0/116 [00:00<?, ?it/s]"
      ]
     },
     "metadata": {},
     "output_type": "display_data"
    },
    {
     "name": "stdout",
     "output_type": "stream",
     "text": [
      "{'eval_loss': 0.6812739968299866, 'eval_accuracy': 0.7922077922077922, 'eval_f1_macro': 0.7916455268053442, 'eval_precision': 0.8011363636363636, 'eval_recall': 0.7954391891891892, 'eval_runtime': 31.4417, 'eval_samples_per_second': 14.694, 'eval_steps_per_second': 3.689, 'epoch': 6.0}\n"
     ]
    },
    {
     "name": "stderr",
     "output_type": "stream",
     "text": [
      "d:\\Master\\AN1SEM2\\BioNLP\\CLEF2025-CheckThat\\task1\\.venv\\Lib\\site-packages\\torch\\utils\\data\\dataloader.py:665: UserWarning: 'pin_memory' argument is set as true but no accelerator is found, then device pinned memory won't be used.\n",
      "  warnings.warn(warn_msg)\n"
     ]
    },
    {
     "name": "stdout",
     "output_type": "stream",
     "text": [
      "{'loss': 0.4277, 'grad_norm': 10.552940368652344, 'learning_rate': 1.9951923076923078e-05, 'epoch': 6.01}\n",
      "{'loss': 0.2472, 'grad_norm': 0.4496120512485504, 'learning_rate': 1.971153846153846e-05, 'epoch': 6.06}\n",
      "{'loss': 0.1069, 'grad_norm': 11.161867141723633, 'learning_rate': 1.9471153846153848e-05, 'epoch': 6.11}\n",
      "{'loss': 0.3246, 'grad_norm': 8.6983060836792, 'learning_rate': 1.923076923076923e-05, 'epoch': 6.15}\n",
      "{'loss': 0.4737, 'grad_norm': 5.5420660972595215, 'learning_rate': 1.8990384615384615e-05, 'epoch': 6.2}\n",
      "{'loss': 0.5248, 'grad_norm': 5.767539024353027, 'learning_rate': 1.8750000000000002e-05, 'epoch': 6.25}\n",
      "{'loss': 0.4467, 'grad_norm': 15.867173194885254, 'learning_rate': 1.8509615384615385e-05, 'epoch': 6.3}\n",
      "{'loss': 0.1932, 'grad_norm': 5.527315139770508, 'learning_rate': 1.826923076923077e-05, 'epoch': 6.35}\n",
      "{'loss': 0.2661, 'grad_norm': 0.7370733022689819, 'learning_rate': 1.8028846153846156e-05, 'epoch': 6.39}\n",
      "{'loss': 0.2653, 'grad_norm': 8.97192096710205, 'learning_rate': 1.778846153846154e-05, 'epoch': 6.44}\n",
      "{'loss': 0.4348, 'grad_norm': 6.039520263671875, 'learning_rate': 1.7548076923076922e-05, 'epoch': 6.49}\n",
      "{'loss': 0.1911, 'grad_norm': 0.1958467662334442, 'learning_rate': 1.730769230769231e-05, 'epoch': 6.54}\n",
      "{'loss': 0.4134, 'grad_norm': 1.553244948387146, 'learning_rate': 1.7067307692307693e-05, 'epoch': 6.59}\n",
      "{'loss': 0.4972, 'grad_norm': 5.076295852661133, 'learning_rate': 1.682692307692308e-05, 'epoch': 6.63}\n",
      "{'loss': 0.3259, 'grad_norm': 18.460437774658203, 'learning_rate': 1.6586538461538463e-05, 'epoch': 6.68}\n",
      "{'loss': 0.4773, 'grad_norm': 18.502662658691406, 'learning_rate': 1.6346153846153847e-05, 'epoch': 6.73}\n",
      "{'loss': 0.4041, 'grad_norm': 8.721495628356934, 'learning_rate': 1.6105769230769233e-05, 'epoch': 6.78}\n",
      "{'loss': 0.2598, 'grad_norm': 21.737764358520508, 'learning_rate': 1.5865384615384617e-05, 'epoch': 6.83}\n",
      "{'loss': 0.4586, 'grad_norm': 8.243151664733887, 'learning_rate': 1.5625e-05, 'epoch': 6.88}\n",
      "{'loss': 0.3615, 'grad_norm': 0.3404406011104584, 'learning_rate': 1.5384615384615387e-05, 'epoch': 6.92}\n",
      "{'loss': 0.1977, 'grad_norm': 0.25102323293685913, 'learning_rate': 1.5144230769230769e-05, 'epoch': 6.97}\n"
     ]
    },
    {
     "data": {
      "application/vnd.jupyter.widget-view+json": {
       "model_id": "b464ff2701f0480e84c743359d096439",
       "version_major": 2,
       "version_minor": 0
      },
      "text/plain": [
       "  0%|          | 0/116 [00:00<?, ?it/s]"
      ]
     },
     "metadata": {},
     "output_type": "display_data"
    },
    {
     "name": "stdout",
     "output_type": "stream",
     "text": [
      "{'eval_loss': 0.7820060849189758, 'eval_accuracy': 0.7748917748917749, 'eval_f1_macro': 0.7736659632197769, 'eval_precision': 0.7885152974064296, 'eval_recall': 0.7789414414414415, 'eval_runtime': 33.5496, 'eval_samples_per_second': 13.771, 'eval_steps_per_second': 3.458, 'epoch': 7.0}\n"
     ]
    },
    {
     "name": "stderr",
     "output_type": "stream",
     "text": [
      "d:\\Master\\AN1SEM2\\BioNLP\\CLEF2025-CheckThat\\task1\\.venv\\Lib\\site-packages\\torch\\utils\\data\\dataloader.py:665: UserWarning: 'pin_memory' argument is set as true but no accelerator is found, then device pinned memory won't be used.\n",
      "  warnings.warn(warn_msg)\n"
     ]
    },
    {
     "name": "stdout",
     "output_type": "stream",
     "text": [
      "{'loss': 0.3353, 'grad_norm': 13.57868766784668, 'learning_rate': 1.4903846153846154e-05, 'epoch': 7.02}\n",
      "{'loss': 0.4774, 'grad_norm': 19.689579010009766, 'learning_rate': 1.466346153846154e-05, 'epoch': 7.07}\n",
      "{'loss': 0.1299, 'grad_norm': 0.46344655752182007, 'learning_rate': 1.4423076923076923e-05, 'epoch': 7.12}\n",
      "{'loss': 0.4036, 'grad_norm': 0.2670450806617737, 'learning_rate': 1.4182692307692308e-05, 'epoch': 7.16}\n",
      "{'loss': 0.3374, 'grad_norm': 0.2098051905632019, 'learning_rate': 1.3942307692307693e-05, 'epoch': 7.21}\n",
      "{'loss': 0.6979, 'grad_norm': 5.856878280639648, 'learning_rate': 1.3701923076923078e-05, 'epoch': 7.26}\n",
      "{'loss': 0.1938, 'grad_norm': 12.298230171203613, 'learning_rate': 1.3461538461538462e-05, 'epoch': 7.31}\n",
      "{'loss': 0.2577, 'grad_norm': 0.21689049899578094, 'learning_rate': 1.3221153846153847e-05, 'epoch': 7.36}\n",
      "{'loss': 0.365, 'grad_norm': 1.2410768270492554, 'learning_rate': 1.2980769230769232e-05, 'epoch': 7.4}\n",
      "{'loss': 0.0425, 'grad_norm': 0.6255244016647339, 'learning_rate': 1.2740384615384615e-05, 'epoch': 7.45}\n",
      "{'loss': 0.3928, 'grad_norm': 0.22858893871307373, 'learning_rate': 1.25e-05, 'epoch': 7.5}\n",
      "{'loss': 0.2798, 'grad_norm': 1.0144649744033813, 'learning_rate': 1.2259615384615384e-05, 'epoch': 7.55}\n",
      "{'loss': 0.1201, 'grad_norm': 0.21821407973766327, 'learning_rate': 1.2019230769230771e-05, 'epoch': 7.6}\n",
      "{'loss': 0.1623, 'grad_norm': 3.2360687255859375, 'learning_rate': 1.1778846153846154e-05, 'epoch': 7.64}\n",
      "{'loss': 0.3058, 'grad_norm': 6.866682052612305, 'learning_rate': 1.153846153846154e-05, 'epoch': 7.69}\n",
      "{'loss': 0.5709, 'grad_norm': 0.14448514580726624, 'learning_rate': 1.1298076923076923e-05, 'epoch': 7.74}\n",
      "{'loss': 0.3723, 'grad_norm': 5.697688579559326, 'learning_rate': 1.1057692307692308e-05, 'epoch': 7.79}\n",
      "{'loss': 0.2098, 'grad_norm': 0.23686791956424713, 'learning_rate': 1.0817307692307693e-05, 'epoch': 7.84}\n",
      "{'loss': 0.1829, 'grad_norm': 10.515213966369629, 'learning_rate': 1.0576923076923077e-05, 'epoch': 7.88}\n",
      "{'loss': 0.1589, 'grad_norm': 5.92231559753418, 'learning_rate': 1.0336538461538462e-05, 'epoch': 7.93}\n",
      "{'loss': 0.1635, 'grad_norm': 14.84075927734375, 'learning_rate': 1.0096153846153847e-05, 'epoch': 7.98}\n"
     ]
    },
    {
     "data": {
      "application/vnd.jupyter.widget-view+json": {
       "model_id": "6365d16256ce405fa91674614d6abeb3",
       "version_major": 2,
       "version_minor": 0
      },
      "text/plain": [
       "  0%|          | 0/116 [00:00<?, ?it/s]"
      ]
     },
     "metadata": {},
     "output_type": "display_data"
    },
    {
     "name": "stdout",
     "output_type": "stream",
     "text": [
      "{'eval_loss': 0.7771704196929932, 'eval_accuracy': 0.7965367965367965, 'eval_f1_macro': 0.7962274774774776, 'eval_precision': 0.802952576379389, 'eval_recall': 0.7992680180180181, 'eval_runtime': 30.9806, 'eval_samples_per_second': 14.913, 'eval_steps_per_second': 3.744, 'epoch': 8.0}\n"
     ]
    },
    {
     "name": "stderr",
     "output_type": "stream",
     "text": [
      "d:\\Master\\AN1SEM2\\BioNLP\\CLEF2025-CheckThat\\task1\\.venv\\Lib\\site-packages\\torch\\utils\\data\\dataloader.py:665: UserWarning: 'pin_memory' argument is set as true but no accelerator is found, then device pinned memory won't be used.\n",
      "  warnings.warn(warn_msg)\n"
     ]
    },
    {
     "name": "stdout",
     "output_type": "stream",
     "text": [
      "{'loss': 0.6964, 'grad_norm': 0.4213506579399109, 'learning_rate': 9.85576923076923e-06, 'epoch': 8.03}\n",
      "{'loss': 0.3204, 'grad_norm': 0.28340980410575867, 'learning_rate': 9.615384615384616e-06, 'epoch': 8.08}\n",
      "{'loss': 0.252, 'grad_norm': 0.22745178639888763, 'learning_rate': 9.375000000000001e-06, 'epoch': 8.12}\n",
      "{'loss': 0.1699, 'grad_norm': 0.4436761438846588, 'learning_rate': 9.134615384615384e-06, 'epoch': 8.17}\n",
      "{'loss': 0.296, 'grad_norm': 0.9309639930725098, 'learning_rate': 8.89423076923077e-06, 'epoch': 8.22}\n",
      "{'loss': 0.4854, 'grad_norm': 22.498491287231445, 'learning_rate': 8.653846153846155e-06, 'epoch': 8.27}\n",
      "{'loss': 0.5662, 'grad_norm': 10.544913291931152, 'learning_rate': 8.41346153846154e-06, 'epoch': 8.32}\n",
      "{'loss': 0.1409, 'grad_norm': 0.16386733949184418, 'learning_rate': 8.173076923076923e-06, 'epoch': 8.37}\n",
      "{'loss': 0.3608, 'grad_norm': 0.16042792797088623, 'learning_rate': 7.932692307692308e-06, 'epoch': 8.41}\n",
      "{'loss': 0.5159, 'grad_norm': 0.2758682370185852, 'learning_rate': 7.692307692307694e-06, 'epoch': 8.46}\n",
      "{'loss': 0.5783, 'grad_norm': 0.1501590460538864, 'learning_rate': 7.451923076923077e-06, 'epoch': 8.51}\n",
      "{'loss': 0.1436, 'grad_norm': 0.3710595369338989, 'learning_rate': 7.211538461538461e-06, 'epoch': 8.56}\n",
      "{'loss': 0.0467, 'grad_norm': 0.15087826550006866, 'learning_rate': 6.9711538461538465e-06, 'epoch': 8.61}\n",
      "{'loss': 0.4678, 'grad_norm': 0.16248221695423126, 'learning_rate': 6.730769230769231e-06, 'epoch': 8.65}\n",
      "{'loss': 0.2629, 'grad_norm': 0.14639541506767273, 'learning_rate': 6.490384615384616e-06, 'epoch': 8.7}\n",
      "{'loss': 0.2775, 'grad_norm': 0.21025235950946808, 'learning_rate': 6.25e-06, 'epoch': 8.75}\n",
      "{'loss': 0.1872, 'grad_norm': 0.423240602016449, 'learning_rate': 6.0096153846153855e-06, 'epoch': 8.8}\n",
      "{'loss': 0.2449, 'grad_norm': 0.35185402631759644, 'learning_rate': 5.76923076923077e-06, 'epoch': 8.85}\n",
      "{'loss': 0.3131, 'grad_norm': 1.2323060035705566, 'learning_rate': 5.528846153846154e-06, 'epoch': 8.89}\n",
      "{'loss': 0.1374, 'grad_norm': 0.7958199977874756, 'learning_rate': 5.288461538461538e-06, 'epoch': 8.94}\n",
      "{'loss': 0.1264, 'grad_norm': 0.23310992121696472, 'learning_rate': 5.0480769230769235e-06, 'epoch': 8.99}\n"
     ]
    },
    {
     "data": {
      "application/vnd.jupyter.widget-view+json": {
       "model_id": "0002561b7b57451697b2c15b0d65aa66",
       "version_major": 2,
       "version_minor": 0
      },
      "text/plain": [
       "  0%|          | 0/116 [00:00<?, ?it/s]"
      ]
     },
     "metadata": {},
     "output_type": "display_data"
    },
    {
     "name": "stdout",
     "output_type": "stream",
     "text": [
      "{'eval_loss': 0.7697113752365112, 'eval_accuracy': 0.8008658008658008, 'eval_f1_macro': 0.8008322087269456, 'eval_precision': 0.8034101174345076, 'eval_recall': 0.8025900900900901, 'eval_runtime': 31.8622, 'eval_samples_per_second': 14.5, 'eval_steps_per_second': 3.641, 'epoch': 9.0}\n"
     ]
    },
    {
     "name": "stderr",
     "output_type": "stream",
     "text": [
      "d:\\Master\\AN1SEM2\\BioNLP\\CLEF2025-CheckThat\\task1\\.venv\\Lib\\site-packages\\torch\\utils\\data\\dataloader.py:665: UserWarning: 'pin_memory' argument is set as true but no accelerator is found, then device pinned memory won't be used.\n",
      "  warnings.warn(warn_msg)\n"
     ]
    },
    {
     "name": "stdout",
     "output_type": "stream",
     "text": [
      "{'loss': 0.0958, 'grad_norm': 0.16159193217754364, 'learning_rate': 4.807692307692308e-06, 'epoch': 9.04}\n",
      "{'loss': 0.428, 'grad_norm': 14.142708778381348, 'learning_rate': 4.567307692307692e-06, 'epoch': 9.09}\n",
      "{'loss': 0.1882, 'grad_norm': 0.19805146753787994, 'learning_rate': 4.326923076923077e-06, 'epoch': 9.13}\n",
      "{'loss': 0.2386, 'grad_norm': 0.18475200235843658, 'learning_rate': 4.086538461538462e-06, 'epoch': 9.18}\n",
      "{'loss': 0.2388, 'grad_norm': 11.519464492797852, 'learning_rate': 3.846153846153847e-06, 'epoch': 9.23}\n",
      "{'loss': 0.6297, 'grad_norm': 6.080330848693848, 'learning_rate': 3.6057692307692307e-06, 'epoch': 9.28}\n",
      "{'loss': 0.2681, 'grad_norm': 0.1991061270236969, 'learning_rate': 3.3653846153846154e-06, 'epoch': 9.33}\n",
      "{'loss': 0.2496, 'grad_norm': 3.957364797592163, 'learning_rate': 3.125e-06, 'epoch': 9.38}\n",
      "{'loss': 0.4178, 'grad_norm': 19.460834503173828, 'learning_rate': 2.884615384615385e-06, 'epoch': 9.42}\n",
      "{'loss': 0.2517, 'grad_norm': 0.1953696459531784, 'learning_rate': 2.644230769230769e-06, 'epoch': 9.47}\n",
      "{'loss': 0.1509, 'grad_norm': 0.8069114685058594, 'learning_rate': 2.403846153846154e-06, 'epoch': 9.52}\n",
      "{'loss': 0.492, 'grad_norm': 0.3582768738269806, 'learning_rate': 2.1634615384615387e-06, 'epoch': 9.57}\n",
      "{'loss': 0.3477, 'grad_norm': 28.23895263671875, 'learning_rate': 1.9230769230769234e-06, 'epoch': 9.62}\n",
      "{'loss': 0.1169, 'grad_norm': 0.17573493719100952, 'learning_rate': 1.6826923076923077e-06, 'epoch': 9.66}\n",
      "{'loss': 0.4274, 'grad_norm': 0.16318091750144958, 'learning_rate': 1.4423076923076924e-06, 'epoch': 9.71}\n",
      "{'loss': 0.2013, 'grad_norm': 0.7426831126213074, 'learning_rate': 1.201923076923077e-06, 'epoch': 9.76}\n",
      "{'loss': 0.5525, 'grad_norm': 0.2756016254425049, 'learning_rate': 9.615384615384617e-07, 'epoch': 9.81}\n",
      "{'loss': 0.3383, 'grad_norm': 20.044286727905273, 'learning_rate': 7.211538461538462e-07, 'epoch': 9.86}\n",
      "{'loss': 0.0462, 'grad_norm': 22.555322647094727, 'learning_rate': 4.807692307692308e-07, 'epoch': 9.9}\n",
      "{'loss': 0.1021, 'grad_norm': 0.21966543793678284, 'learning_rate': 2.403846153846154e-07, 'epoch': 9.95}\n",
      "{'loss': 0.1391, 'grad_norm': 0.16869334876537323, 'learning_rate': 0.0, 'epoch': 10.0}\n"
     ]
    },
    {
     "data": {
      "application/vnd.jupyter.widget-view+json": {
       "model_id": "9e26077df7f94820844c3f96c59f8e95",
       "version_major": 2,
       "version_minor": 0
      },
      "text/plain": [
       "  0%|          | 0/116 [00:00<?, ?it/s]"
      ]
     },
     "metadata": {},
     "output_type": "display_data"
    },
    {
     "name": "stdout",
     "output_type": "stream",
     "text": [
      "{'eval_loss': 0.7592930197715759, 'eval_accuracy': 0.8008658008658008, 'eval_f1_macro': 0.8008620689655173, 'eval_precision': 0.8024793388429752, 'eval_recall': 0.8022522522522523, 'eval_runtime': 30.9328, 'eval_samples_per_second': 14.936, 'eval_steps_per_second': 3.75, 'epoch': 10.0}\n",
      "{'train_runtime': 2995.3065, 'train_samples_per_second': 2.771, 'train_steps_per_second': 0.694, 'train_loss': 0.42064572182985455, 'epoch': 10.0}\n"
     ]
    },
    {
     "name": "stderr",
     "output_type": "stream",
     "text": [
      "d:\\Master\\AN1SEM2\\BioNLP\\CLEF2025-CheckThat\\task1\\.venv\\Lib\\site-packages\\torch\\utils\\data\\dataloader.py:665: UserWarning: 'pin_memory' argument is set as true but no accelerator is found, then device pinned memory won't be used.\n",
      "  warnings.warn(warn_msg)\n"
     ]
    },
    {
     "data": {
      "application/vnd.jupyter.widget-view+json": {
       "model_id": "e1d1eb1f8220400d90bca69d683749bb",
       "version_major": 2,
       "version_minor": 0
      },
      "text/plain": [
       "  0%|          | 0/121 [00:00<?, ?it/s]"
      ]
     },
     "metadata": {},
     "output_type": "display_data"
    },
    {
     "data": {
      "text/plain": [
       "{'eval_loss': 0.8633573055267334,\n",
       " 'eval_accuracy': 0.8057851239669421,\n",
       " 'eval_f1_macro': 0.673611111111111,\n",
       " 'eval_precision': 0.7854435831180018,\n",
       " 'eval_recall': 0.6500769857802735,\n",
       " 'eval_runtime': 33.5153,\n",
       " 'eval_samples_per_second': 14.441,\n",
       " 'eval_steps_per_second': 3.61,\n",
       " 'epoch': 10.0}"
      ]
     },
     "execution_count": 16,
     "metadata": {},
     "output_type": "execute_result"
    }
   ],
   "source": [
    "trainer = Trainer(\n",
    "    model=model,\n",
    "    args=training_args,\n",
    "    train_dataset=train_dataset,\n",
    "    eval_dataset=val_dataset,\n",
    "    compute_metrics=compute_metrics\n",
    ")\n",
    "\n",
    "# === 10. Train ===\n",
    "trainer.train()\n",
    "\n",
    "# === 11. Evaluate on test set ===\n",
    "trainer.evaluate(eval_dataset=test_dataset)"
   ]
  }
 ],
 "metadata": {
  "kernelspec": {
   "display_name": ".venv",
   "language": "python",
   "name": "python3"
  },
  "language_info": {
   "codemirror_mode": {
    "name": "ipython",
    "version": 3
   },
   "file_extension": ".py",
   "mimetype": "text/x-python",
   "name": "python",
   "nbconvert_exporter": "python",
   "pygments_lexer": "ipython3",
   "version": "3.11.9"
  }
 },
 "nbformat": 4,
 "nbformat_minor": 5
}
