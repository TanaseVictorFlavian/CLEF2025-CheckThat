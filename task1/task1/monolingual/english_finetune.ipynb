{
 "cells": [
  {
   "cell_type": "code",
   "execution_count": null,
   "id": "947d5b38",
   "metadata": {},
   "outputs": [
    {
     "name": "stderr",
     "output_type": "stream",
     "text": [
      "W0615 23:35:53.990000 41040 Lib\\site-packages\\torch\\distributed\\elastic\\multiprocessing\\redirects.py:29] NOTE: Redirects are currently not supported in Windows or MacOs.\n"
     ]
    }
   ],
   "source": [
    "import os \n",
    "\n",
    "os.chdir(\"../..\")\n",
    "\n",
    "from datasets import Dataset, load_dataset\n",
    "from transformers import AutoTokenizer, AutoModelForSeq2SeqLM, TrainingArguments, Trainer, DataCollatorForSeq2Seq, AutoModelForSequenceClassification\n",
    "from peft import get_peft_model, LoraConfig, TaskType\n",
    "import evaluate\n",
    "import numpy as np\n",
    "from task1.config import ProjectPaths\n",
    "import pandas as pd\n",
    "import torch\n",
    "\n",
    "\n",
    "# === 3. Set device ===\n",
    "device = \"mps\" if torch.backends.mps.is_available() else \"cpu\"\n",
    "\n",
    "def load_datasets(path):\n",
    "    df = pd.read_csv(path, sep='\\t')\n",
    "    df = df[df['label'].isin(['SUBJ', 'OBJ'])].copy()\n",
    "    df['label'] = df['label'].map({'OBJ': 0, 'SUBJ': 1})\n",
    "    df = df[['sentence', 'label']]\n",
    "    return Dataset.from_pandas(df)\n",
    "\n",
    "train_dataset = load_datasets(paths.english_data_dir / \"train_en.tsv\")\n",
    "val_dataset   = load_datasets(paths.english_data_dir / \"dev_en.tsv\")\n",
    "test_dataset  = load_datasets(paths.english_data_dir / \"dev_test_en.tsv\")\n",
    "competition_test_dataset = load_datasets(paths.english_data_dir / \"test_en_labeled.tsv\")"
   ]
  },
  {
   "cell_type": "code",
   "execution_count": 2,
   "id": "7dae9f27",
   "metadata": {},
   "outputs": [
    {
     "name": "stderr",
     "output_type": "stream",
     "text": [
      "Some weights of DebertaV2ForSequenceClassification were not initialized from the model checkpoint at microsoft/deberta-v3-base and are newly initialized: ['classifier.bias', 'classifier.weight', 'pooler.dense.bias', 'pooler.dense.weight']\n",
      "You should probably TRAIN this model on a down-stream task to be able to use it for predictions and inference.\n",
      "d:\\Master\\AN1SEM2\\BioNLP\\CLEF2025-CheckThat\\task1\\.venv\\Lib\\site-packages\\transformers\\convert_slow_tokenizer.py:560: UserWarning: The sentencepiece tokenizer that you are converting to a fast tokenizer uses the byte fallback option which is not implemented in the fast tokenizers. In practice this means that the fast version of the tokenizer can produce unknown tokens whereas the sentencepiece version would have converted these unknown tokens into a sequence of byte tokens matching the original piece of text.\n",
      "  warnings.warn(\n"
     ]
    }
   ],
   "source": [
    "model_name = \"microsoft/deberta-v3-base\"\n",
    "model = AutoModelForSequenceClassification.from_pretrained(model_name, num_labels=2)\n",
    "tokenizer = AutoTokenizer.from_pretrained(model_name)"
   ]
  },
  {
   "cell_type": "code",
   "execution_count": 3,
   "id": "b5dbcd1a",
   "metadata": {},
   "outputs": [],
   "source": [
    "lora_config = LoraConfig(\n",
    "    r=16,\n",
    "    lora_alpha=32,\n",
    "    lora_dropout=0.05,\n",
    "    task_type=TaskType.SEQ_CLS,\n",
    "    target_modules=[\"query_proj\", \"key_proj\", \"value_proj\", \"dense\"] \n",
    ")\n",
    "\n",
    "model = get_peft_model(model, lora_config).to(device)"
   ]
  },
  {
   "cell_type": "code",
   "execution_count": 4,
   "id": "a792cb8e",
   "metadata": {},
   "outputs": [],
   "source": [
    "f1 = evaluate.load(\"f1\")\n",
    "accuracy = evaluate.load(\"accuracy\")\n",
    "precision = evaluate.load(\"precision\")\n",
    "recall = evaluate.load(\"recall\")\n",
    "\n",
    "def compute_metrics(eval_pred):\n",
    "    logits, labels = eval_pred\n",
    "    preds = np.argmax(logits, axis=-1)\n",
    "    return {\n",
    "        \"accuracy\": accuracy.compute(predictions=preds, references=labels)[\"accuracy\"],\n",
    "        \"f1_macro\": f1.compute(predictions=preds, references=labels, average=\"macro\")[\"f1\"],\n",
    "        \"precision\": precision.compute(predictions=preds, references=labels, average=\"macro\")[\"precision\"],\n",
    "        \"recall\": recall.compute(predictions=preds, references=labels, average=\"macro\")[\"recall\"],\n",
    "    }"
   ]
  },
  {
   "cell_type": "code",
   "execution_count": 5,
   "id": "0709c78a",
   "metadata": {},
   "outputs": [
    {
     "data": {
      "application/vnd.jupyter.widget-view+json": {
       "model_id": "8aeefe5e7a8940a99761b57e2106490c",
       "version_major": 2,
       "version_minor": 0
      },
      "text/plain": [
       "Map:   0%|          | 0/830 [00:00<?, ? examples/s]"
      ]
     },
     "metadata": {},
     "output_type": "display_data"
    },
    {
     "data": {
      "application/vnd.jupyter.widget-view+json": {
       "model_id": "862bf8e1cbba49e8b7498f0379bd7300",
       "version_major": 2,
       "version_minor": 0
      },
      "text/plain": [
       "Map:   0%|          | 0/462 [00:00<?, ? examples/s]"
      ]
     },
     "metadata": {},
     "output_type": "display_data"
    },
    {
     "data": {
      "application/vnd.jupyter.widget-view+json": {
       "model_id": "76ce5d562093406e9e76a55bdb729d03",
       "version_major": 2,
       "version_minor": 0
      },
      "text/plain": [
       "Map:   0%|          | 0/484 [00:00<?, ? examples/s]"
      ]
     },
     "metadata": {},
     "output_type": "display_data"
    },
    {
     "data": {
      "application/vnd.jupyter.widget-view+json": {
       "model_id": "838663ba284c451ab0fd08e229e89785",
       "version_major": 2,
       "version_minor": 0
      },
      "text/plain": [
       "Map:   0%|          | 0/300 [00:00<?, ? examples/s]"
      ]
     },
     "metadata": {},
     "output_type": "display_data"
    }
   ],
   "source": [
    "def tokenize_fn(examples):\n",
    "    return tokenizer(\n",
    "        examples[\"sentence\"],\n",
    "        padding=\"max_length\",\n",
    "        truncation=True,\n",
    "        max_length=128\n",
    "    )\n",
    "\n",
    "train_dataset = train_dataset.map(tokenize_fn, batched=True)\n",
    "val_dataset = val_dataset.map(tokenize_fn, batched=True)\n",
    "test_dataset = test_dataset.map(tokenize_fn, batched=True)\n",
    "competition_test_dataset = competition_test_dataset.map(tokenize_fn, batched=True)\n",
    "\n",
    "train_dataset = train_dataset.rename_column(\"label\", \"labels\")\n",
    "val_dataset = val_dataset.rename_column(\"label\", \"labels\")\n",
    "test_dataset = test_dataset.rename_column(\"label\", \"labels\")\n",
    "competition_test_dataset = competition_test_dataset.rename_column(\"label\", \"labels\")\n",
    "\n",
    "train_dataset.set_format(type=\"torch\", columns=[\"input_ids\", \"attention_mask\", \"labels\"])\n",
    "val_dataset.set_format(type=\"torch\", columns=[\"input_ids\", \"attention_mask\", \"labels\"])\n",
    "test_dataset.set_format(type=\"torch\", columns=[\"input_ids\", \"attention_mask\", \"labels\"])\n",
    "competition_test_dataset.set_format(type=\"torch\", columns=[\"input_ids\", \"attention_mask\", \"labels\"])"
   ]
  },
  {
   "cell_type": "code",
   "execution_count": 6,
   "id": "d0aa322d",
   "metadata": {},
   "outputs": [],
   "source": [
    "# === 8. TrainingArguments ===\n",
    "training_args = TrainingArguments(\n",
    "    output_dir=\"./results/english_lora\",\n",
    "    per_device_train_batch_size=4,\n",
    "    per_device_eval_batch_size=4,\n",
    "    num_train_epochs=10,\n",
    "    eval_strategy=\"epoch\",\n",
    "    save_strategy=\"epoch\",\n",
    "    logging_steps=10,\n",
    "    load_best_model_at_end=True,\n",
    "    metric_for_best_model=\"f1_macro\",\n",
    ")"
   ]
  },
  {
   "cell_type": "code",
   "execution_count": 7,
   "id": "5a0911f1",
   "metadata": {},
   "outputs": [
    {
     "data": {
      "application/vnd.jupyter.widget-view+json": {
       "model_id": "cf27cf3117aa4efa8629cd737787a1bf",
       "version_major": 2,
       "version_minor": 0
      },
      "text/plain": [
       "  0%|          | 0/2080 [00:00<?, ?it/s]"
      ]
     },
     "metadata": {},
     "output_type": "display_data"
    },
    {
     "name": "stderr",
     "output_type": "stream",
     "text": [
      "d:\\Master\\AN1SEM2\\BioNLP\\CLEF2025-CheckThat\\task1\\.venv\\Lib\\site-packages\\torch\\utils\\data\\dataloader.py:665: UserWarning: 'pin_memory' argument is set as true but no accelerator is found, then device pinned memory won't be used.\n",
      "  warnings.warn(warn_msg)\n"
     ]
    },
    {
     "name": "stdout",
     "output_type": "stream",
     "text": [
      "{'loss': 0.6861, 'grad_norm': 1.649037480354309, 'learning_rate': 4.9759615384615386e-05, 'epoch': 0.05}\n",
      "{'loss': 0.627, 'grad_norm': 3.4568028450012207, 'learning_rate': 4.9519230769230776e-05, 'epoch': 0.1}\n",
      "{'loss': 0.6868, 'grad_norm': 1.6904819011688232, 'learning_rate': 4.927884615384616e-05, 'epoch': 0.14}\n",
      "{'loss': 0.6399, 'grad_norm': 1.4102416038513184, 'learning_rate': 4.9038461538461536e-05, 'epoch': 0.19}\n",
      "{'loss': 0.6832, 'grad_norm': 1.3337684869766235, 'learning_rate': 4.8798076923076926e-05, 'epoch': 0.24}\n",
      "{'loss': 0.6224, 'grad_norm': 3.2283198833465576, 'learning_rate': 4.855769230769231e-05, 'epoch': 0.29}\n",
      "{'loss': 0.5883, 'grad_norm': 1.1131833791732788, 'learning_rate': 4.8317307692307693e-05, 'epoch': 0.34}\n",
      "{'loss': 0.6476, 'grad_norm': 3.1562931537628174, 'learning_rate': 4.8076923076923084e-05, 'epoch': 0.38}\n",
      "{'loss': 0.6832, 'grad_norm': 1.3199255466461182, 'learning_rate': 4.783653846153847e-05, 'epoch': 0.43}\n",
      "{'loss': 0.6497, 'grad_norm': 1.0305471420288086, 'learning_rate': 4.7596153846153844e-05, 'epoch': 0.48}\n",
      "{'loss': 0.7225, 'grad_norm': 1.835507869720459, 'learning_rate': 4.7355769230769234e-05, 'epoch': 0.53}\n",
      "{'loss': 0.7505, 'grad_norm': 1.8592910766601562, 'learning_rate': 4.711538461538462e-05, 'epoch': 0.58}\n",
      "{'loss': 0.6635, 'grad_norm': 3.787929058074951, 'learning_rate': 4.6875e-05, 'epoch': 0.62}\n",
      "{'loss': 0.6858, 'grad_norm': 1.5258381366729736, 'learning_rate': 4.6634615384615384e-05, 'epoch': 0.67}\n",
      "{'loss': 0.6205, 'grad_norm': 1.338883876800537, 'learning_rate': 4.6394230769230775e-05, 'epoch': 0.72}\n",
      "{'loss': 0.6604, 'grad_norm': 1.5906401872634888, 'learning_rate': 4.615384615384616e-05, 'epoch': 0.77}\n",
      "{'loss': 0.6448, 'grad_norm': 1.6749111413955688, 'learning_rate': 4.591346153846154e-05, 'epoch': 0.82}\n",
      "{'loss': 0.6448, 'grad_norm': 1.743036150932312, 'learning_rate': 4.5673076923076925e-05, 'epoch': 0.87}\n",
      "{'loss': 0.6098, 'grad_norm': 1.0981378555297852, 'learning_rate': 4.543269230769231e-05, 'epoch': 0.91}\n",
      "{'loss': 0.6376, 'grad_norm': 2.8860719203948975, 'learning_rate': 4.519230769230769e-05, 'epoch': 0.96}\n"
     ]
    },
    {
     "data": {
      "application/vnd.jupyter.widget-view+json": {
       "model_id": "b2cb1063b72845209df8bb789138b906",
       "version_major": 2,
       "version_minor": 0
      },
      "text/plain": [
       "  0%|          | 0/116 [00:00<?, ?it/s]"
      ]
     },
     "metadata": {},
     "output_type": "display_data"
    },
    {
     "name": "stderr",
     "output_type": "stream",
     "text": [
      "d:\\Master\\AN1SEM2\\BioNLP\\CLEF2025-CheckThat\\task1\\.venv\\Lib\\site-packages\\sklearn\\metrics\\_classification.py:1706: UndefinedMetricWarning: Precision is ill-defined and being set to 0.0 in labels with no predicted samples. Use `zero_division` parameter to control this behavior.\n",
      "  _warn_prf(average, modifier, f\"{metric.capitalize()} is\", result.shape[0])\n"
     ]
    },
    {
     "name": "stdout",
     "output_type": "stream",
     "text": [
      "{'eval_loss': 0.7434971928596497, 'eval_accuracy': 0.4805194805194805, 'eval_f1_macro': 0.32456140350877194, 'eval_precision': 0.24025974025974026, 'eval_recall': 0.5, 'eval_runtime': 40.5613, 'eval_samples_per_second': 11.39, 'eval_steps_per_second': 2.86, 'epoch': 1.0}\n"
     ]
    },
    {
     "name": "stderr",
     "output_type": "stream",
     "text": [
      "d:\\Master\\AN1SEM2\\BioNLP\\CLEF2025-CheckThat\\task1\\.venv\\Lib\\site-packages\\huggingface_hub\\file_download.py:943: FutureWarning: `resume_download` is deprecated and will be removed in version 1.0.0. Downloads always resume when possible. If you want to force a new download, use `force_download=True`.\n",
      "  warnings.warn(\n",
      "d:\\Master\\AN1SEM2\\BioNLP\\CLEF2025-CheckThat\\task1\\.venv\\Lib\\site-packages\\torch\\utils\\data\\dataloader.py:665: UserWarning: 'pin_memory' argument is set as true but no accelerator is found, then device pinned memory won't be used.\n",
      "  warnings.warn(warn_msg)\n"
     ]
    },
    {
     "name": "stdout",
     "output_type": "stream",
     "text": [
      "{'loss': 0.5915, 'grad_norm': 1.0824525356292725, 'learning_rate': 4.495192307692308e-05, 'epoch': 1.01}\n",
      "{'loss': 0.6575, 'grad_norm': 3.653639793395996, 'learning_rate': 4.4711538461538466e-05, 'epoch': 1.06}\n",
      "{'loss': 0.6252, 'grad_norm': 4.088044166564941, 'learning_rate': 4.447115384615384e-05, 'epoch': 1.11}\n",
      "{'loss': 0.6463, 'grad_norm': 2.0250017642974854, 'learning_rate': 4.423076923076923e-05, 'epoch': 1.15}\n",
      "{'loss': 0.579, 'grad_norm': 1.7840590476989746, 'learning_rate': 4.3990384615384616e-05, 'epoch': 1.2}\n",
      "{'loss': 0.6501, 'grad_norm': 2.4668331146240234, 'learning_rate': 4.375e-05, 'epoch': 1.25}\n",
      "{'loss': 0.5557, 'grad_norm': 8.028425216674805, 'learning_rate': 4.350961538461539e-05, 'epoch': 1.3}\n",
      "{'loss': 0.6255, 'grad_norm': 9.32260513305664, 'learning_rate': 4.326923076923077e-05, 'epoch': 1.35}\n",
      "{'loss': 0.651, 'grad_norm': 7.821113586425781, 'learning_rate': 4.302884615384616e-05, 'epoch': 1.39}\n",
      "{'loss': 0.4405, 'grad_norm': 12.49606990814209, 'learning_rate': 4.278846153846154e-05, 'epoch': 1.44}\n",
      "{'loss': 0.5233, 'grad_norm': 2.545851707458496, 'learning_rate': 4.2548076923076924e-05, 'epoch': 1.49}\n",
      "{'loss': 0.5395, 'grad_norm': 3.725743055343628, 'learning_rate': 4.230769230769231e-05, 'epoch': 1.54}\n",
      "{'loss': 0.3101, 'grad_norm': 2.7634806632995605, 'learning_rate': 4.20673076923077e-05, 'epoch': 1.59}\n",
      "{'loss': 0.6948, 'grad_norm': 11.460405349731445, 'learning_rate': 4.182692307692308e-05, 'epoch': 1.63}\n",
      "{'loss': 0.4074, 'grad_norm': 1.220702052116394, 'learning_rate': 4.1586538461538464e-05, 'epoch': 1.68}\n",
      "{'loss': 0.6742, 'grad_norm': 2.828169822692871, 'learning_rate': 4.134615384615385e-05, 'epoch': 1.73}\n",
      "{'loss': 0.5767, 'grad_norm': 1.4339925050735474, 'learning_rate': 4.110576923076923e-05, 'epoch': 1.78}\n",
      "{'loss': 0.5971, 'grad_norm': 9.271722793579102, 'learning_rate': 4.0865384615384615e-05, 'epoch': 1.83}\n",
      "{'loss': 0.3079, 'grad_norm': 3.318686008453369, 'learning_rate': 4.0625000000000005e-05, 'epoch': 1.88}\n",
      "{'loss': 0.7047, 'grad_norm': 20.111324310302734, 'learning_rate': 4.038461538461539e-05, 'epoch': 1.92}\n",
      "{'loss': 0.7864, 'grad_norm': 18.353776931762695, 'learning_rate': 4.014423076923077e-05, 'epoch': 1.97}\n"
     ]
    },
    {
     "data": {
      "application/vnd.jupyter.widget-view+json": {
       "model_id": "b21e8aabb9974e2d8c54b45a70fac5fa",
       "version_major": 2,
       "version_minor": 0
      },
      "text/plain": [
       "  0%|          | 0/116 [00:00<?, ?it/s]"
      ]
     },
     "metadata": {},
     "output_type": "display_data"
    },
    {
     "name": "stdout",
     "output_type": "stream",
     "text": [
      "{'eval_loss': 0.5701707601547241, 'eval_accuracy': 0.7597402597402597, 'eval_f1_macro': 0.759712115603578, 'eval_precision': 0.7618828176431863, 'eval_recall': 0.7613175675675676, 'eval_runtime': 32.1374, 'eval_samples_per_second': 14.376, 'eval_steps_per_second': 3.61, 'epoch': 2.0}\n"
     ]
    },
    {
     "name": "stderr",
     "output_type": "stream",
     "text": [
      "d:\\Master\\AN1SEM2\\BioNLP\\CLEF2025-CheckThat\\task1\\.venv\\Lib\\site-packages\\huggingface_hub\\file_download.py:943: FutureWarning: `resume_download` is deprecated and will be removed in version 1.0.0. Downloads always resume when possible. If you want to force a new download, use `force_download=True`.\n",
      "  warnings.warn(\n",
      "d:\\Master\\AN1SEM2\\BioNLP\\CLEF2025-CheckThat\\task1\\.venv\\Lib\\site-packages\\torch\\utils\\data\\dataloader.py:665: UserWarning: 'pin_memory' argument is set as true but no accelerator is found, then device pinned memory won't be used.\n",
      "  warnings.warn(warn_msg)\n"
     ]
    },
    {
     "name": "stdout",
     "output_type": "stream",
     "text": [
      "{'loss': 0.5, 'grad_norm': 2.2521331310272217, 'learning_rate': 3.9903846153846155e-05, 'epoch': 2.02}\n",
      "{'loss': 0.4291, 'grad_norm': 0.8822720050811768, 'learning_rate': 3.966346153846154e-05, 'epoch': 2.07}\n",
      "{'loss': 0.3779, 'grad_norm': 9.203801155090332, 'learning_rate': 3.942307692307692e-05, 'epoch': 2.12}\n",
      "{'loss': 0.5242, 'grad_norm': 20.056825637817383, 'learning_rate': 3.918269230769231e-05, 'epoch': 2.16}\n",
      "{'loss': 0.4541, 'grad_norm': 2.2704241275787354, 'learning_rate': 3.8942307692307696e-05, 'epoch': 2.21}\n",
      "{'loss': 0.3139, 'grad_norm': 0.6337361335754395, 'learning_rate': 3.870192307692308e-05, 'epoch': 2.26}\n",
      "{'loss': 0.8588, 'grad_norm': 46.92422103881836, 'learning_rate': 3.846153846153846e-05, 'epoch': 2.31}\n",
      "{'loss': 0.2927, 'grad_norm': 1.4375932216644287, 'learning_rate': 3.8221153846153846e-05, 'epoch': 2.36}\n",
      "{'loss': 0.234, 'grad_norm': 2.240623950958252, 'learning_rate': 3.798076923076923e-05, 'epoch': 2.4}\n",
      "{'loss': 0.6237, 'grad_norm': 1.3882538080215454, 'learning_rate': 3.774038461538461e-05, 'epoch': 2.45}\n",
      "{'loss': 0.5305, 'grad_norm': 25.330570220947266, 'learning_rate': 3.7500000000000003e-05, 'epoch': 2.5}\n",
      "{'loss': 0.4982, 'grad_norm': 2.448321580886841, 'learning_rate': 3.725961538461539e-05, 'epoch': 2.55}\n",
      "{'loss': 0.5904, 'grad_norm': 1.6355663537979126, 'learning_rate': 3.701923076923077e-05, 'epoch': 2.6}\n",
      "{'loss': 0.2173, 'grad_norm': 4.884663105010986, 'learning_rate': 3.677884615384616e-05, 'epoch': 2.64}\n",
      "{'loss': 0.4089, 'grad_norm': 0.8230792880058289, 'learning_rate': 3.653846153846154e-05, 'epoch': 2.69}\n",
      "{'loss': 0.6094, 'grad_norm': 23.761232376098633, 'learning_rate': 3.629807692307692e-05, 'epoch': 2.74}\n",
      "{'loss': 0.5383, 'grad_norm': 19.02696990966797, 'learning_rate': 3.605769230769231e-05, 'epoch': 2.79}\n",
      "{'loss': 0.4171, 'grad_norm': 1.1876157522201538, 'learning_rate': 3.5817307692307695e-05, 'epoch': 2.84}\n",
      "{'loss': 0.3795, 'grad_norm': 2.9580068588256836, 'learning_rate': 3.557692307692308e-05, 'epoch': 2.88}\n",
      "{'loss': 0.5444, 'grad_norm': 17.971670150756836, 'learning_rate': 3.533653846153847e-05, 'epoch': 2.93}\n",
      "{'loss': 0.3041, 'grad_norm': 19.76519203186035, 'learning_rate': 3.5096153846153845e-05, 'epoch': 2.98}\n"
     ]
    },
    {
     "data": {
      "application/vnd.jupyter.widget-view+json": {
       "model_id": "29255988a31d473781f1eddfa938d43c",
       "version_major": 2,
       "version_minor": 0
      },
      "text/plain": [
       "  0%|          | 0/116 [00:00<?, ?it/s]"
      ]
     },
     "metadata": {},
     "output_type": "display_data"
    },
    {
     "name": "stdout",
     "output_type": "stream",
     "text": [
      "{'eval_loss': 0.7192208170890808, 'eval_accuracy': 0.7792207792207793, 'eval_f1_macro': 0.7782859078590786, 'eval_precision': 0.7907986111111112, 'eval_recall': 0.7829391891891893, 'eval_runtime': 31.2698, 'eval_samples_per_second': 14.775, 'eval_steps_per_second': 3.71, 'epoch': 3.0}\n"
     ]
    },
    {
     "name": "stderr",
     "output_type": "stream",
     "text": [
      "d:\\Master\\AN1SEM2\\BioNLP\\CLEF2025-CheckThat\\task1\\.venv\\Lib\\site-packages\\huggingface_hub\\file_download.py:943: FutureWarning: `resume_download` is deprecated and will be removed in version 1.0.0. Downloads always resume when possible. If you want to force a new download, use `force_download=True`.\n",
      "  warnings.warn(\n",
      "d:\\Master\\AN1SEM2\\BioNLP\\CLEF2025-CheckThat\\task1\\.venv\\Lib\\site-packages\\torch\\utils\\data\\dataloader.py:665: UserWarning: 'pin_memory' argument is set as true but no accelerator is found, then device pinned memory won't be used.\n",
      "  warnings.warn(warn_msg)\n"
     ]
    },
    {
     "name": "stdout",
     "output_type": "stream",
     "text": [
      "{'loss': 0.3899, 'grad_norm': 4.4278459548950195, 'learning_rate': 3.485576923076923e-05, 'epoch': 3.03}\n",
      "{'loss': 0.524, 'grad_norm': 20.9962215423584, 'learning_rate': 3.461538461538462e-05, 'epoch': 3.08}\n",
      "{'loss': 0.2862, 'grad_norm': 0.5747397541999817, 'learning_rate': 3.4375e-05, 'epoch': 3.12}\n",
      "{'loss': 0.6533, 'grad_norm': 37.80730056762695, 'learning_rate': 3.4134615384615386e-05, 'epoch': 3.17}\n",
      "{'loss': 0.2256, 'grad_norm': 18.552936553955078, 'learning_rate': 3.3894230769230776e-05, 'epoch': 3.22}\n",
      "{'loss': 0.2273, 'grad_norm': 31.02417755126953, 'learning_rate': 3.365384615384616e-05, 'epoch': 3.27}\n",
      "{'loss': 0.1236, 'grad_norm': 0.33926042914390564, 'learning_rate': 3.3413461538461536e-05, 'epoch': 3.32}\n",
      "{'loss': 0.4691, 'grad_norm': 0.1622362583875656, 'learning_rate': 3.3173076923076926e-05, 'epoch': 3.37}\n",
      "{'loss': 0.5624, 'grad_norm': 0.6241254210472107, 'learning_rate': 3.293269230769231e-05, 'epoch': 3.41}\n",
      "{'loss': 0.6302, 'grad_norm': 27.10350799560547, 'learning_rate': 3.269230769230769e-05, 'epoch': 3.46}\n",
      "{'loss': 0.2915, 'grad_norm': 35.40152359008789, 'learning_rate': 3.2451923076923077e-05, 'epoch': 3.51}\n",
      "{'loss': 0.5773, 'grad_norm': 0.14400556683540344, 'learning_rate': 3.221153846153847e-05, 'epoch': 3.56}\n",
      "{'loss': 0.4986, 'grad_norm': 0.323405921459198, 'learning_rate': 3.1971153846153843e-05, 'epoch': 3.61}\n",
      "{'loss': 0.3696, 'grad_norm': 24.91709327697754, 'learning_rate': 3.1730769230769234e-05, 'epoch': 3.65}\n",
      "{'loss': 0.5664, 'grad_norm': 0.5663195252418518, 'learning_rate': 3.149038461538462e-05, 'epoch': 3.7}\n",
      "{'loss': 0.7477, 'grad_norm': 19.960424423217773, 'learning_rate': 3.125e-05, 'epoch': 3.75}\n",
      "{'loss': 0.4958, 'grad_norm': 0.18103493750095367, 'learning_rate': 3.1009615384615384e-05, 'epoch': 3.8}\n",
      "{'loss': 0.6618, 'grad_norm': 9.006591796875, 'learning_rate': 3.0769230769230774e-05, 'epoch': 3.85}\n",
      "{'loss': 0.2919, 'grad_norm': 2.746371030807495, 'learning_rate': 3.052884615384616e-05, 'epoch': 3.89}\n",
      "{'loss': 0.1796, 'grad_norm': 0.38370686769485474, 'learning_rate': 3.0288461538461538e-05, 'epoch': 3.94}\n",
      "{'loss': 0.226, 'grad_norm': 22.805801391601562, 'learning_rate': 3.0048076923076925e-05, 'epoch': 3.99}\n"
     ]
    },
    {
     "data": {
      "application/vnd.jupyter.widget-view+json": {
       "model_id": "794cb2dcb1a24e01bdfb253e1a888ee2",
       "version_major": 2,
       "version_minor": 0
      },
      "text/plain": [
       "  0%|          | 0/116 [00:00<?, ?it/s]"
      ]
     },
     "metadata": {},
     "output_type": "display_data"
    },
    {
     "name": "stdout",
     "output_type": "stream",
     "text": [
      "{'eval_loss': 0.7433408498764038, 'eval_accuracy': 0.7835497835497836, 'eval_f1_macro': 0.7831433882202737, 'eval_precision': 0.7905750190403655, 'eval_recall': 0.7864301801801802, 'eval_runtime': 32.4007, 'eval_samples_per_second': 14.259, 'eval_steps_per_second': 3.58, 'epoch': 4.0}\n"
     ]
    },
    {
     "name": "stderr",
     "output_type": "stream",
     "text": [
      "d:\\Master\\AN1SEM2\\BioNLP\\CLEF2025-CheckThat\\task1\\.venv\\Lib\\site-packages\\huggingface_hub\\file_download.py:943: FutureWarning: `resume_download` is deprecated and will be removed in version 1.0.0. Downloads always resume when possible. If you want to force a new download, use `force_download=True`.\n",
      "  warnings.warn(\n",
      "d:\\Master\\AN1SEM2\\BioNLP\\CLEF2025-CheckThat\\task1\\.venv\\Lib\\site-packages\\torch\\utils\\data\\dataloader.py:665: UserWarning: 'pin_memory' argument is set as true but no accelerator is found, then device pinned memory won't be used.\n",
      "  warnings.warn(warn_msg)\n"
     ]
    },
    {
     "name": "stdout",
     "output_type": "stream",
     "text": [
      "{'loss': 0.3161, 'grad_norm': 12.193284034729004, 'learning_rate': 2.9807692307692308e-05, 'epoch': 4.04}\n",
      "{'loss': 0.2193, 'grad_norm': 13.544821739196777, 'learning_rate': 2.9567307692307695e-05, 'epoch': 4.09}\n",
      "{'loss': 0.6521, 'grad_norm': 16.085887908935547, 'learning_rate': 2.932692307692308e-05, 'epoch': 4.13}\n",
      "{'loss': 0.3033, 'grad_norm': 0.26436716318130493, 'learning_rate': 2.9086538461538465e-05, 'epoch': 4.18}\n",
      "{'loss': 0.1871, 'grad_norm': 1.8752810955047607, 'learning_rate': 2.8846153846153845e-05, 'epoch': 4.23}\n",
      "{'loss': 0.1538, 'grad_norm': 4.14263391494751, 'learning_rate': 2.860576923076923e-05, 'epoch': 4.28}\n",
      "{'loss': 0.2859, 'grad_norm': 0.18656043708324432, 'learning_rate': 2.8365384615384616e-05, 'epoch': 4.33}\n",
      "{'loss': 0.2818, 'grad_norm': 0.19122512638568878, 'learning_rate': 2.8125000000000003e-05, 'epoch': 4.38}\n",
      "{'loss': 0.14, 'grad_norm': 2.6461126804351807, 'learning_rate': 2.7884615384615386e-05, 'epoch': 4.42}\n",
      "{'loss': 0.4209, 'grad_norm': 0.2558519244194031, 'learning_rate': 2.7644230769230773e-05, 'epoch': 4.47}\n",
      "{'loss': 0.6893, 'grad_norm': 1.6472231149673462, 'learning_rate': 2.7403846153846156e-05, 'epoch': 4.52}\n",
      "{'loss': 0.5142, 'grad_norm': 18.481828689575195, 'learning_rate': 2.7163461538461536e-05, 'epoch': 4.57}\n",
      "{'loss': 0.3172, 'grad_norm': 8.546411514282227, 'learning_rate': 2.6923076923076923e-05, 'epoch': 4.62}\n",
      "{'loss': 0.1749, 'grad_norm': 0.3383272588253021, 'learning_rate': 2.668269230769231e-05, 'epoch': 4.66}\n",
      "{'loss': 0.2514, 'grad_norm': 7.2358832359313965, 'learning_rate': 2.6442307692307694e-05, 'epoch': 4.71}\n",
      "{'loss': 0.296, 'grad_norm': 0.39075323939323425, 'learning_rate': 2.620192307692308e-05, 'epoch': 4.76}\n",
      "{'loss': 0.3741, 'grad_norm': 0.19186879694461823, 'learning_rate': 2.5961538461538464e-05, 'epoch': 4.81}\n",
      "{'loss': 0.9353, 'grad_norm': 21.43545913696289, 'learning_rate': 2.5721153846153844e-05, 'epoch': 4.86}\n",
      "{'loss': 0.6289, 'grad_norm': 0.2176390141248703, 'learning_rate': 2.548076923076923e-05, 'epoch': 4.9}\n",
      "{'loss': 0.3297, 'grad_norm': 7.8329572677612305, 'learning_rate': 2.5240384615384614e-05, 'epoch': 4.95}\n",
      "{'loss': 0.4716, 'grad_norm': 0.9060348868370056, 'learning_rate': 2.5e-05, 'epoch': 5.0}\n"
     ]
    },
    {
     "data": {
      "application/vnd.jupyter.widget-view+json": {
       "model_id": "59c1717dc0fa4dbb816349f3050f9c55",
       "version_major": 2,
       "version_minor": 0
      },
      "text/plain": [
       "  0%|          | 0/116 [00:00<?, ?it/s]"
      ]
     },
     "metadata": {},
     "output_type": "display_data"
    },
    {
     "name": "stdout",
     "output_type": "stream",
     "text": [
      "{'eval_loss': 0.7275905609130859, 'eval_accuracy': 0.8116883116883117, 'eval_f1_macro': 0.8111352839737054, 'eval_precision': 0.8118350437811882, 'eval_recall': 0.8108108108108109, 'eval_runtime': 30.7533, 'eval_samples_per_second': 15.023, 'eval_steps_per_second': 3.772, 'epoch': 5.0}\n"
     ]
    },
    {
     "name": "stderr",
     "output_type": "stream",
     "text": [
      "d:\\Master\\AN1SEM2\\BioNLP\\CLEF2025-CheckThat\\task1\\.venv\\Lib\\site-packages\\huggingface_hub\\file_download.py:943: FutureWarning: `resume_download` is deprecated and will be removed in version 1.0.0. Downloads always resume when possible. If you want to force a new download, use `force_download=True`.\n",
      "  warnings.warn(\n",
      "d:\\Master\\AN1SEM2\\BioNLP\\CLEF2025-CheckThat\\task1\\.venv\\Lib\\site-packages\\torch\\utils\\data\\dataloader.py:665: UserWarning: 'pin_memory' argument is set as true but no accelerator is found, then device pinned memory won't be used.\n",
      "  warnings.warn(warn_msg)\n"
     ]
    },
    {
     "name": "stdout",
     "output_type": "stream",
     "text": [
      "{'loss': 0.0778, 'grad_norm': 5.448073387145996, 'learning_rate': 2.4759615384615388e-05, 'epoch': 5.05}\n",
      "{'loss': 0.1845, 'grad_norm': 1.3960145711898804, 'learning_rate': 2.4519230769230768e-05, 'epoch': 5.1}\n",
      "{'loss': 0.1983, 'grad_norm': 25.009845733642578, 'learning_rate': 2.4278846153846155e-05, 'epoch': 5.14}\n",
      "{'loss': 0.235, 'grad_norm': 1.960586428642273, 'learning_rate': 2.4038461538461542e-05, 'epoch': 5.19}\n",
      "{'loss': 0.4586, 'grad_norm': 0.12392983585596085, 'learning_rate': 2.3798076923076922e-05, 'epoch': 5.24}\n",
      "{'loss': 0.5793, 'grad_norm': 0.1638999879360199, 'learning_rate': 2.355769230769231e-05, 'epoch': 5.29}\n",
      "{'loss': 0.3525, 'grad_norm': 0.7131265997886658, 'learning_rate': 2.3317307692307692e-05, 'epoch': 5.34}\n",
      "{'loss': 0.6417, 'grad_norm': 1.9946179389953613, 'learning_rate': 2.307692307692308e-05, 'epoch': 5.38}\n",
      "{'loss': 0.3909, 'grad_norm': 5.824733734130859, 'learning_rate': 2.2836538461538463e-05, 'epoch': 5.43}\n",
      "{'loss': 0.4386, 'grad_norm': 0.5047049522399902, 'learning_rate': 2.2596153846153846e-05, 'epoch': 5.48}\n",
      "{'loss': 0.1701, 'grad_norm': 6.337258815765381, 'learning_rate': 2.2355769230769233e-05, 'epoch': 5.53}\n",
      "{'loss': 0.244, 'grad_norm': 15.053140640258789, 'learning_rate': 2.2115384615384616e-05, 'epoch': 5.58}\n",
      "{'loss': 0.5558, 'grad_norm': 14.3052339553833, 'learning_rate': 2.1875e-05, 'epoch': 5.62}\n",
      "{'loss': 0.3484, 'grad_norm': 6.30883264541626, 'learning_rate': 2.1634615384615387e-05, 'epoch': 5.67}\n",
      "{'loss': 0.1185, 'grad_norm': 1.1769598722457886, 'learning_rate': 2.139423076923077e-05, 'epoch': 5.72}\n",
      "{'loss': 0.0941, 'grad_norm': 0.7325581908226013, 'learning_rate': 2.1153846153846154e-05, 'epoch': 5.77}\n",
      "{'loss': 0.5272, 'grad_norm': 2.055358648300171, 'learning_rate': 2.091346153846154e-05, 'epoch': 5.82}\n",
      "{'loss': 0.2619, 'grad_norm': 38.19918441772461, 'learning_rate': 2.0673076923076924e-05, 'epoch': 5.87}\n",
      "{'loss': 0.2528, 'grad_norm': 36.91962432861328, 'learning_rate': 2.0432692307692307e-05, 'epoch': 5.91}\n",
      "{'loss': 0.3139, 'grad_norm': 0.36996006965637207, 'learning_rate': 2.0192307692307694e-05, 'epoch': 5.96}\n"
     ]
    },
    {
     "data": {
      "application/vnd.jupyter.widget-view+json": {
       "model_id": "803d86fb3220406fac2951688636813a",
       "version_major": 2,
       "version_minor": 0
      },
      "text/plain": [
       "  0%|          | 0/116 [00:00<?, ?it/s]"
      ]
     },
     "metadata": {},
     "output_type": "display_data"
    },
    {
     "name": "stdout",
     "output_type": "stream",
     "text": [
      "{'eval_loss': 0.872404932975769, 'eval_accuracy': 0.7770562770562771, 'eval_f1_macro': 0.7759129759129759, 'eval_precision': 0.7901912901912902, 'eval_recall': 0.7810247747747747, 'eval_runtime': 33.2346, 'eval_samples_per_second': 13.901, 'eval_steps_per_second': 3.49, 'epoch': 6.0}\n"
     ]
    },
    {
     "name": "stderr",
     "output_type": "stream",
     "text": [
      "d:\\Master\\AN1SEM2\\BioNLP\\CLEF2025-CheckThat\\task1\\.venv\\Lib\\site-packages\\huggingface_hub\\file_download.py:943: FutureWarning: `resume_download` is deprecated and will be removed in version 1.0.0. Downloads always resume when possible. If you want to force a new download, use `force_download=True`.\n",
      "  warnings.warn(\n",
      "d:\\Master\\AN1SEM2\\BioNLP\\CLEF2025-CheckThat\\task1\\.venv\\Lib\\site-packages\\torch\\utils\\data\\dataloader.py:665: UserWarning: 'pin_memory' argument is set as true but no accelerator is found, then device pinned memory won't be used.\n",
      "  warnings.warn(warn_msg)\n"
     ]
    },
    {
     "name": "stdout",
     "output_type": "stream",
     "text": [
      "{'loss': 0.7006, 'grad_norm': 26.961240768432617, 'learning_rate': 1.9951923076923078e-05, 'epoch': 6.01}\n",
      "{'loss': 0.2028, 'grad_norm': 1.8992950916290283, 'learning_rate': 1.971153846153846e-05, 'epoch': 6.06}\n",
      "{'loss': 0.0309, 'grad_norm': 57.054298400878906, 'learning_rate': 1.9471153846153848e-05, 'epoch': 6.11}\n",
      "{'loss': 0.1845, 'grad_norm': 11.323291778564453, 'learning_rate': 1.923076923076923e-05, 'epoch': 6.15}\n",
      "{'loss': 0.3421, 'grad_norm': 5.613903045654297, 'learning_rate': 1.8990384615384615e-05, 'epoch': 6.2}\n",
      "{'loss': 0.5604, 'grad_norm': 8.501938819885254, 'learning_rate': 1.8750000000000002e-05, 'epoch': 6.25}\n",
      "{'loss': 0.3155, 'grad_norm': 0.6706168055534363, 'learning_rate': 1.8509615384615385e-05, 'epoch': 6.3}\n",
      "{'loss': 0.1191, 'grad_norm': 34.96805191040039, 'learning_rate': 1.826923076923077e-05, 'epoch': 6.35}\n",
      "{'loss': 0.2867, 'grad_norm': 36.70364761352539, 'learning_rate': 1.8028846153846156e-05, 'epoch': 6.39}\n",
      "{'loss': 0.1575, 'grad_norm': 19.655858993530273, 'learning_rate': 1.778846153846154e-05, 'epoch': 6.44}\n",
      "{'loss': 0.4172, 'grad_norm': 8.31488037109375, 'learning_rate': 1.7548076923076922e-05, 'epoch': 6.49}\n",
      "{'loss': 0.1798, 'grad_norm': 0.11942410469055176, 'learning_rate': 1.730769230769231e-05, 'epoch': 6.54}\n",
      "{'loss': 0.155, 'grad_norm': 0.3385016620159149, 'learning_rate': 1.7067307692307693e-05, 'epoch': 6.59}\n",
      "{'loss': 0.6184, 'grad_norm': 19.823205947875977, 'learning_rate': 1.682692307692308e-05, 'epoch': 6.63}\n",
      "{'loss': 0.3234, 'grad_norm': 46.40605163574219, 'learning_rate': 1.6586538461538463e-05, 'epoch': 6.68}\n",
      "{'loss': 0.5467, 'grad_norm': 19.65477180480957, 'learning_rate': 1.6346153846153847e-05, 'epoch': 6.73}\n",
      "{'loss': 0.45, 'grad_norm': 2.780200481414795, 'learning_rate': 1.6105769230769233e-05, 'epoch': 6.78}\n",
      "{'loss': 0.1892, 'grad_norm': 0.9839819073677063, 'learning_rate': 1.5865384615384617e-05, 'epoch': 6.83}\n",
      "{'loss': 0.4556, 'grad_norm': 26.940969467163086, 'learning_rate': 1.5625e-05, 'epoch': 6.88}\n",
      "{'loss': 0.2265, 'grad_norm': 0.249782994389534, 'learning_rate': 1.5384615384615387e-05, 'epoch': 6.92}\n",
      "{'loss': 0.1122, 'grad_norm': 0.1410064697265625, 'learning_rate': 1.5144230769230769e-05, 'epoch': 6.97}\n"
     ]
    },
    {
     "data": {
      "application/vnd.jupyter.widget-view+json": {
       "model_id": "4b4dbba2418d48499274777bb759570a",
       "version_major": 2,
       "version_minor": 0
      },
      "text/plain": [
       "  0%|          | 0/116 [00:00<?, ?it/s]"
      ]
     },
     "metadata": {},
     "output_type": "display_data"
    },
    {
     "name": "stdout",
     "output_type": "stream",
     "text": [
      "{'eval_loss': 1.0803571939468384, 'eval_accuracy': 0.7619047619047619, 'eval_f1_macro': 0.759082979368932, 'eval_precision': 0.7855052125100241, 'eval_recall': 0.7672860360360361, 'eval_runtime': 31.7561, 'eval_samples_per_second': 14.548, 'eval_steps_per_second': 3.653, 'epoch': 7.0}\n"
     ]
    },
    {
     "name": "stderr",
     "output_type": "stream",
     "text": [
      "d:\\Master\\AN1SEM2\\BioNLP\\CLEF2025-CheckThat\\task1\\.venv\\Lib\\site-packages\\huggingface_hub\\file_download.py:943: FutureWarning: `resume_download` is deprecated and will be removed in version 1.0.0. Downloads always resume when possible. If you want to force a new download, use `force_download=True`.\n",
      "  warnings.warn(\n",
      "d:\\Master\\AN1SEM2\\BioNLP\\CLEF2025-CheckThat\\task1\\.venv\\Lib\\site-packages\\torch\\utils\\data\\dataloader.py:665: UserWarning: 'pin_memory' argument is set as true but no accelerator is found, then device pinned memory won't be used.\n",
      "  warnings.warn(warn_msg)\n"
     ]
    },
    {
     "name": "stdout",
     "output_type": "stream",
     "text": [
      "{'loss': 0.263, 'grad_norm': 0.3002159595489502, 'learning_rate': 1.4903846153846154e-05, 'epoch': 7.02}\n",
      "{'loss': 0.4022, 'grad_norm': 11.989590644836426, 'learning_rate': 1.466346153846154e-05, 'epoch': 7.07}\n",
      "{'loss': 0.0053, 'grad_norm': 0.08239209651947021, 'learning_rate': 1.4423076923076923e-05, 'epoch': 7.12}\n",
      "{'loss': 0.2319, 'grad_norm': 0.10355109721422195, 'learning_rate': 1.4182692307692308e-05, 'epoch': 7.16}\n",
      "{'loss': 0.3997, 'grad_norm': 0.08134032040834427, 'learning_rate': 1.3942307692307693e-05, 'epoch': 7.21}\n",
      "{'loss': 0.5432, 'grad_norm': 9.10563850402832, 'learning_rate': 1.3701923076923078e-05, 'epoch': 7.26}\n",
      "{'loss': 0.0887, 'grad_norm': 0.14864417910575867, 'learning_rate': 1.3461538461538462e-05, 'epoch': 7.31}\n",
      "{'loss': 0.3861, 'grad_norm': 0.4651874601840973, 'learning_rate': 1.3221153846153847e-05, 'epoch': 7.36}\n",
      "{'loss': 0.4504, 'grad_norm': 0.2793452739715576, 'learning_rate': 1.2980769230769232e-05, 'epoch': 7.4}\n",
      "{'loss': 0.0181, 'grad_norm': 23.67063331604004, 'learning_rate': 1.2740384615384615e-05, 'epoch': 7.45}\n",
      "{'loss': 0.1405, 'grad_norm': 0.2156040370464325, 'learning_rate': 1.25e-05, 'epoch': 7.5}\n",
      "{'loss': 0.3793, 'grad_norm': 0.1576148122549057, 'learning_rate': 1.2259615384615384e-05, 'epoch': 7.55}\n",
      "{'loss': 0.1559, 'grad_norm': 0.1072690337896347, 'learning_rate': 1.2019230769230771e-05, 'epoch': 7.6}\n",
      "{'loss': 0.1349, 'grad_norm': 52.947940826416016, 'learning_rate': 1.1778846153846154e-05, 'epoch': 7.64}\n",
      "{'loss': 0.1108, 'grad_norm': 45.554325103759766, 'learning_rate': 1.153846153846154e-05, 'epoch': 7.69}\n",
      "{'loss': 0.4138, 'grad_norm': 0.04313594475388527, 'learning_rate': 1.1298076923076923e-05, 'epoch': 7.74}\n",
      "{'loss': 0.4056, 'grad_norm': 8.603124618530273, 'learning_rate': 1.1057692307692308e-05, 'epoch': 7.79}\n",
      "{'loss': 0.2148, 'grad_norm': 0.24209243059158325, 'learning_rate': 1.0817307692307693e-05, 'epoch': 7.84}\n",
      "{'loss': 0.2267, 'grad_norm': 11.852367401123047, 'learning_rate': 1.0576923076923077e-05, 'epoch': 7.88}\n",
      "{'loss': 0.3219, 'grad_norm': 12.379305839538574, 'learning_rate': 1.0336538461538462e-05, 'epoch': 7.93}\n",
      "{'loss': 0.0733, 'grad_norm': 7.298707962036133, 'learning_rate': 1.0096153846153847e-05, 'epoch': 7.98}\n"
     ]
    },
    {
     "data": {
      "application/vnd.jupyter.widget-view+json": {
       "model_id": "bcbf0c869f874ddaaf52a81161a44dd6",
       "version_major": 2,
       "version_minor": 0
      },
      "text/plain": [
       "  0%|          | 0/116 [00:00<?, ?it/s]"
      ]
     },
     "metadata": {},
     "output_type": "display_data"
    },
    {
     "name": "stdout",
     "output_type": "stream",
     "text": [
      "{'eval_loss': 1.105589509010315, 'eval_accuracy': 0.7683982683982684, 'eval_f1_macro': 0.7659762823395744, 'eval_precision': 0.7901742160278746, 'eval_recall': 0.773536036036036, 'eval_runtime': 30.633, 'eval_samples_per_second': 15.082, 'eval_steps_per_second': 3.787, 'epoch': 8.0}\n"
     ]
    },
    {
     "name": "stderr",
     "output_type": "stream",
     "text": [
      "d:\\Master\\AN1SEM2\\BioNLP\\CLEF2025-CheckThat\\task1\\.venv\\Lib\\site-packages\\huggingface_hub\\file_download.py:943: FutureWarning: `resume_download` is deprecated and will be removed in version 1.0.0. Downloads always resume when possible. If you want to force a new download, use `force_download=True`.\n",
      "  warnings.warn(\n",
      "d:\\Master\\AN1SEM2\\BioNLP\\CLEF2025-CheckThat\\task1\\.venv\\Lib\\site-packages\\torch\\utils\\data\\dataloader.py:665: UserWarning: 'pin_memory' argument is set as true but no accelerator is found, then device pinned memory won't be used.\n",
      "  warnings.warn(warn_msg)\n"
     ]
    },
    {
     "name": "stdout",
     "output_type": "stream",
     "text": [
      "{'loss': 0.5751, 'grad_norm': 0.1051291823387146, 'learning_rate': 9.85576923076923e-06, 'epoch': 8.03}\n",
      "{'loss': 0.0924, 'grad_norm': 0.15873047709465027, 'learning_rate': 9.615384615384616e-06, 'epoch': 8.08}\n",
      "{'loss': 0.134, 'grad_norm': 0.06257347017526627, 'learning_rate': 9.375000000000001e-06, 'epoch': 8.12}\n",
      "{'loss': 0.1238, 'grad_norm': 0.16200163960456848, 'learning_rate': 9.134615384615384e-06, 'epoch': 8.17}\n",
      "{'loss': 0.1126, 'grad_norm': 0.5389923453330994, 'learning_rate': 8.89423076923077e-06, 'epoch': 8.22}\n",
      "{'loss': 0.3124, 'grad_norm': 38.65231704711914, 'learning_rate': 8.653846153846155e-06, 'epoch': 8.27}\n",
      "{'loss': 0.5543, 'grad_norm': 0.08911880850791931, 'learning_rate': 8.41346153846154e-06, 'epoch': 8.32}\n",
      "{'loss': 0.0483, 'grad_norm': 0.09940125793218613, 'learning_rate': 8.173076923076923e-06, 'epoch': 8.37}\n",
      "{'loss': 0.2505, 'grad_norm': 0.06847548484802246, 'learning_rate': 7.932692307692308e-06, 'epoch': 8.41}\n",
      "{'loss': 0.3539, 'grad_norm': 0.09796755760908127, 'learning_rate': 7.692307692307694e-06, 'epoch': 8.46}\n",
      "{'loss': 0.4587, 'grad_norm': 0.08358800411224365, 'learning_rate': 7.451923076923077e-06, 'epoch': 8.51}\n",
      "{'loss': 0.112, 'grad_norm': 0.12782087922096252, 'learning_rate': 7.211538461538461e-06, 'epoch': 8.56}\n",
      "{'loss': 0.084, 'grad_norm': 0.09573078900575638, 'learning_rate': 6.9711538461538465e-06, 'epoch': 8.61}\n",
      "{'loss': 0.3048, 'grad_norm': 0.13379870355129242, 'learning_rate': 6.730769230769231e-06, 'epoch': 8.65}\n",
      "{'loss': 0.2743, 'grad_norm': 0.07297119498252869, 'learning_rate': 6.490384615384616e-06, 'epoch': 8.7}\n",
      "{'loss': 0.2551, 'grad_norm': 0.08196347951889038, 'learning_rate': 6.25e-06, 'epoch': 8.75}\n",
      "{'loss': 0.1613, 'grad_norm': 0.14237433671951294, 'learning_rate': 6.0096153846153855e-06, 'epoch': 8.8}\n",
      "{'loss': 0.2675, 'grad_norm': 0.23054616153240204, 'learning_rate': 5.76923076923077e-06, 'epoch': 8.85}\n",
      "{'loss': 0.2454, 'grad_norm': 23.320613861083984, 'learning_rate': 5.528846153846154e-06, 'epoch': 8.89}\n",
      "{'loss': 0.1454, 'grad_norm': 37.27302169799805, 'learning_rate': 5.288461538461538e-06, 'epoch': 8.94}\n",
      "{'loss': 0.1508, 'grad_norm': 0.0444863885641098, 'learning_rate': 5.0480769230769235e-06, 'epoch': 8.99}\n"
     ]
    },
    {
     "data": {
      "application/vnd.jupyter.widget-view+json": {
       "model_id": "25a38fef40d9445a88fda433fc420996",
       "version_major": 2,
       "version_minor": 0
      },
      "text/plain": [
       "  0%|          | 0/116 [00:00<?, ?it/s]"
      ]
     },
     "metadata": {},
     "output_type": "display_data"
    },
    {
     "name": "stdout",
     "output_type": "stream",
     "text": [
      "{'eval_loss': 1.052640676498413, 'eval_accuracy': 0.7770562770562771, 'eval_f1_macro': 0.7757693703202824, 'eval_precision': 0.7913368983957219, 'eval_recall': 0.7811936936936937, 'eval_runtime': 31.5826, 'eval_samples_per_second': 14.628, 'eval_steps_per_second': 3.673, 'epoch': 9.0}\n"
     ]
    },
    {
     "name": "stderr",
     "output_type": "stream",
     "text": [
      "d:\\Master\\AN1SEM2\\BioNLP\\CLEF2025-CheckThat\\task1\\.venv\\Lib\\site-packages\\huggingface_hub\\file_download.py:943: FutureWarning: `resume_download` is deprecated and will be removed in version 1.0.0. Downloads always resume when possible. If you want to force a new download, use `force_download=True`.\n",
      "  warnings.warn(\n",
      "d:\\Master\\AN1SEM2\\BioNLP\\CLEF2025-CheckThat\\task1\\.venv\\Lib\\site-packages\\torch\\utils\\data\\dataloader.py:665: UserWarning: 'pin_memory' argument is set as true but no accelerator is found, then device pinned memory won't be used.\n",
      "  warnings.warn(warn_msg)\n"
     ]
    },
    {
     "name": "stdout",
     "output_type": "stream",
     "text": [
      "{'loss': 0.1277, 'grad_norm': 0.0643099695444107, 'learning_rate': 4.807692307692308e-06, 'epoch': 9.04}\n",
      "{'loss': 0.3252, 'grad_norm': 5.323233127593994, 'learning_rate': 4.567307692307692e-06, 'epoch': 9.09}\n",
      "{'loss': 0.1792, 'grad_norm': 1.1050876379013062, 'learning_rate': 4.326923076923077e-06, 'epoch': 9.13}\n",
      "{'loss': 0.158, 'grad_norm': 0.06537039577960968, 'learning_rate': 4.086538461538462e-06, 'epoch': 9.18}\n",
      "{'loss': 0.042, 'grad_norm': 0.13617822527885437, 'learning_rate': 3.846153846153847e-06, 'epoch': 9.23}\n",
      "{'loss': 0.6979, 'grad_norm': 8.7777099609375, 'learning_rate': 3.6057692307692307e-06, 'epoch': 9.28}\n",
      "{'loss': 0.2529, 'grad_norm': 0.14794965088367462, 'learning_rate': 3.3653846153846154e-06, 'epoch': 9.33}\n",
      "{'loss': 0.2873, 'grad_norm': 0.6386016011238098, 'learning_rate': 3.125e-06, 'epoch': 9.38}\n",
      "{'loss': 0.3563, 'grad_norm': 53.162845611572266, 'learning_rate': 2.884615384615385e-06, 'epoch': 9.42}\n",
      "{'loss': 0.1547, 'grad_norm': 0.04436811804771423, 'learning_rate': 2.644230769230769e-06, 'epoch': 9.47}\n",
      "{'loss': 0.0387, 'grad_norm': 0.31505507230758667, 'learning_rate': 2.403846153846154e-06, 'epoch': 9.52}\n",
      "{'loss': 0.3121, 'grad_norm': 76.80697631835938, 'learning_rate': 2.1634615384615387e-06, 'epoch': 9.57}\n",
      "{'loss': 0.4106, 'grad_norm': 9.965237617492676, 'learning_rate': 1.9230769230769234e-06, 'epoch': 9.62}\n",
      "{'loss': 0.0071, 'grad_norm': 0.3310205936431885, 'learning_rate': 1.6826923076923077e-06, 'epoch': 9.66}\n",
      "{'loss': 0.4484, 'grad_norm': 0.15943951904773712, 'learning_rate': 1.4423076923076924e-06, 'epoch': 9.71}\n",
      "{'loss': 0.1842, 'grad_norm': 0.12364660203456879, 'learning_rate': 1.201923076923077e-06, 'epoch': 9.76}\n",
      "{'loss': 0.3197, 'grad_norm': 0.08402597159147263, 'learning_rate': 9.615384615384617e-07, 'epoch': 9.81}\n",
      "{'loss': 0.2043, 'grad_norm': 0.7786321043968201, 'learning_rate': 7.211538461538462e-07, 'epoch': 9.86}\n",
      "{'loss': 0.1274, 'grad_norm': 0.26972517371177673, 'learning_rate': 4.807692307692308e-07, 'epoch': 9.9}\n",
      "{'loss': 0.086, 'grad_norm': 0.06875726580619812, 'learning_rate': 2.403846153846154e-07, 'epoch': 9.95}\n",
      "{'loss': 0.0082, 'grad_norm': 0.0790957659482956, 'learning_rate': 0.0, 'epoch': 10.0}\n"
     ]
    },
    {
     "data": {
      "application/vnd.jupyter.widget-view+json": {
       "model_id": "187ea003d285479db2fd57384456c9be",
       "version_major": 2,
       "version_minor": 0
      },
      "text/plain": [
       "  0%|          | 0/116 [00:00<?, ?it/s]"
      ]
     },
     "metadata": {},
     "output_type": "display_data"
    },
    {
     "name": "stdout",
     "output_type": "stream",
     "text": [
      "{'eval_loss': 0.9946100115776062, 'eval_accuracy': 0.79004329004329, 'eval_f1_macro': 0.7895216400911163, 'eval_precision': 0.7984695339816955, 'eval_recall': 0.7931869369369369, 'eval_runtime': 30.974, 'eval_samples_per_second': 14.916, 'eval_steps_per_second': 3.745, 'epoch': 10.0}\n"
     ]
    },
    {
     "name": "stderr",
     "output_type": "stream",
     "text": [
      "d:\\Master\\AN1SEM2\\BioNLP\\CLEF2025-CheckThat\\task1\\.venv\\Lib\\site-packages\\huggingface_hub\\file_download.py:943: FutureWarning: `resume_download` is deprecated and will be removed in version 1.0.0. Downloads always resume when possible. If you want to force a new download, use `force_download=True`.\n",
      "  warnings.warn(\n"
     ]
    },
    {
     "name": "stdout",
     "output_type": "stream",
     "text": [
      "{'train_runtime': 3267.4525, 'train_samples_per_second': 2.54, 'train_steps_per_second': 0.637, 'train_loss': 0.3846845748798492, 'epoch': 10.0}\n"
     ]
    },
    {
     "name": "stderr",
     "output_type": "stream",
     "text": [
      "d:\\Master\\AN1SEM2\\BioNLP\\CLEF2025-CheckThat\\task1\\.venv\\Lib\\site-packages\\huggingface_hub\\file_download.py:943: FutureWarning: `resume_download` is deprecated and will be removed in version 1.0.0. Downloads always resume when possible. If you want to force a new download, use `force_download=True`.\n",
      "  warnings.warn(\n",
      "d:\\Master\\AN1SEM2\\BioNLP\\CLEF2025-CheckThat\\task1\\.venv\\Lib\\site-packages\\torch\\utils\\data\\dataloader.py:665: UserWarning: 'pin_memory' argument is set as true but no accelerator is found, then device pinned memory won't be used.\n",
      "  warnings.warn(warn_msg)\n"
     ]
    },
    {
     "data": {
      "application/vnd.jupyter.widget-view+json": {
       "model_id": "5a8ab96a17ce469589118f9a32bd155b",
       "version_major": 2,
       "version_minor": 0
      },
      "text/plain": [
       "  0%|          | 0/121 [00:00<?, ?it/s]"
      ]
     },
     "metadata": {},
     "output_type": "display_data"
    },
    {
     "data": {
      "text/plain": [
       "{'eval_loss': 0.8125251531600952,\n",
       " 'eval_accuracy': 0.8057851239669421,\n",
       " 'eval_f1_macro': 0.6946413230240549,\n",
       " 'eval_precision': 0.7618357487922705,\n",
       " 'eval_recall': 0.6718141472692691,\n",
       " 'eval_runtime': 35.1839,\n",
       " 'eval_samples_per_second': 13.756,\n",
       " 'eval_steps_per_second': 3.439,\n",
       " 'epoch': 10.0}"
      ]
     },
     "execution_count": 7,
     "metadata": {},
     "output_type": "execute_result"
    }
   ],
   "source": [
    "trainer = Trainer(\n",
    "    model=model,\n",
    "    args=training_args,\n",
    "    train_dataset=train_dataset,\n",
    "    eval_dataset=val_dataset,\n",
    "    compute_metrics=compute_metrics,\n",
    "    tokenizer=tokenizer,\n",
    ")\n",
    "\n",
    "# === 10. Train ===\n",
    "trainer.train()\n",
    "\n",
    "trainer.save_model(\"./results/english_lora/final_checkpoint\")\n",
    "# === 11. Evaluate on test set ===\n",
    "trainer.evaluate(eval_dataset=test_dataset)"
   ]
  },
  {
   "cell_type": "code",
   "execution_count": 8,
   "id": "939ea8d6",
   "metadata": {},
   "outputs": [
    {
     "name": "stderr",
     "output_type": "stream",
     "text": [
      "d:\\Master\\AN1SEM2\\BioNLP\\CLEF2025-CheckThat\\task1\\.venv\\Lib\\site-packages\\torch\\utils\\data\\dataloader.py:665: UserWarning: 'pin_memory' argument is set as true but no accelerator is found, then device pinned memory won't be used.\n",
      "  warnings.warn(warn_msg)\n"
     ]
    },
    {
     "data": {
      "application/vnd.jupyter.widget-view+json": {
       "model_id": "ebc9014689944dc7becf0c966dd9fec9",
       "version_major": 2,
       "version_minor": 0
      },
      "text/plain": [
       "  0%|          | 0/75 [00:00<?, ?it/s]"
      ]
     },
     "metadata": {},
     "output_type": "display_data"
    },
    {
     "data": {
      "text/plain": [
       "{'eval_loss': 0.977461576461792,\n",
       " 'eval_accuracy': 0.7466666666666667,\n",
       " 'eval_f1_macro': 0.7135534448967285,\n",
       " 'eval_precision': 0.7057403814301264,\n",
       " 'eval_recall': 0.7378932968536251,\n",
       " 'eval_runtime': 20.338,\n",
       " 'eval_samples_per_second': 14.751,\n",
       " 'eval_steps_per_second': 3.688,\n",
       " 'epoch': 10.0}"
      ]
     },
     "execution_count": 8,
     "metadata": {},
     "output_type": "execute_result"
    }
   ],
   "source": [
    "trainer.evaluate(eval_dataset=competition_test_dataset)"
   ]
  }
 ],
 "metadata": {
  "kernelspec": {
   "display_name": ".venv",
   "language": "python",
   "name": "python3"
  },
  "language_info": {
   "codemirror_mode": {
    "name": "ipython",
    "version": 3
   },
   "file_extension": ".py",
   "mimetype": "text/x-python",
   "name": "python",
   "nbconvert_exporter": "python",
   "pygments_lexer": "ipython3",
   "version": "3.11.9"
  }
 },
 "nbformat": 4,
 "nbformat_minor": 5
}
