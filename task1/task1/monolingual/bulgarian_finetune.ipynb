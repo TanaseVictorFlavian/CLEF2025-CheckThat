{
 "cells": [
  {
   "cell_type": "code",
   "execution_count": 1,
   "id": "a93a7e61",
   "metadata": {},
   "outputs": [
    {
     "name": "stderr",
     "output_type": "stream",
     "text": [
      "W0614 22:57:38.427000 37924 Lib\\site-packages\\torch\\distributed\\elastic\\multiprocessing\\redirects.py:29] NOTE: Redirects are currently not supported in Windows or MacOs.\n"
     ]
    }
   ],
   "source": [
    "import os \n",
    "\n",
    "os.chdir(\"../..\")\n",
    "\n",
    "from datasets import Dataset, load_dataset\n",
    "from transformers import AutoTokenizer, AutoModelForSeq2SeqLM, TrainingArguments, Trainer, DataCollatorForSeq2Seq, AutoModelForSequenceClassification\n",
    "from peft import get_peft_model, LoraConfig, TaskType\n",
    "import evaluate\n",
    "import numpy as np\n",
    "from task1.config import ProjectPaths\n",
    "import pandas as pd\n",
    "import torch\n",
    "\n",
    "paths = ProjectPaths()\n",
    "\n",
    "# === 3. Set device ===\n",
    "device = \"mps\" if torch.backends.mps.is_available() else \"cpu\"\n",
    "\n",
    "# === 4. Load and preprocess data ===\n",
    "def load_datasets(path):\n",
    "    df = pd.read_csv(path, sep='\\t')\n",
    "    df = df[df['label'].isin(['SUBJ', 'OBJ'])].copy()\n",
    "    df['label'] = df['label'].map({'OBJ': 0, 'SUBJ': 1})\n",
    "    df = df[['sentence', 'label']]\n",
    "    return Dataset.from_pandas(df)\n",
    "\n",
    "train_dataset = load_datasets(paths.bulgarian_data_dir / \"train_bg.tsv\")\n",
    "val_dataset   = load_datasets(paths.bulgarian_data_dir / \"dev_bg.tsv\")\n",
    "test_dataset  = load_datasets(paths.bulgarian_data_dir / \"dev_test_bg.tsv\")"
   ]
  },
  {
   "cell_type": "code",
   "execution_count": 2,
   "id": "204267bf",
   "metadata": {},
   "outputs": [
    {
     "data": {
      "application/vnd.jupyter.widget-view+json": {
       "model_id": "60a9156bd3664e6d90425573cb05f151",
       "version_major": 2,
       "version_minor": 0
      },
      "text/plain": [
       "config.json:   0%|          | 0.00/516 [00:00<?, ?B/s]"
      ]
     },
     "metadata": {},
     "output_type": "display_data"
    },
    {
     "name": "stderr",
     "output_type": "stream",
     "text": [
      "d:\\Master\\AN1SEM2\\BioNLP\\CLEF2025-CheckThat\\task1\\.venv\\Lib\\site-packages\\huggingface_hub\\file_download.py:143: UserWarning: `huggingface_hub` cache-system uses symlinks by default to efficiently store duplicated files but your machine does not support them in C:\\Users\\Asus\\.cache\\huggingface\\hub\\models--iarfmoose--roberta-base-bulgarian. Caching files will still work but in a degraded version that might require more space on your disk. This warning can be disabled by setting the `HF_HUB_DISABLE_SYMLINKS_WARNING` environment variable. For more details, see https://huggingface.co/docs/huggingface_hub/how-to-cache#limitations.\n",
      "To support symlinks on Windows, you either need to activate Developer Mode or to run Python as an administrator. In order to activate developer mode, see this article: https://docs.microsoft.com/en-us/windows/apps/get-started/enable-your-device-for-development\n",
      "  warnings.warn(message)\n"
     ]
    },
    {
     "data": {
      "application/vnd.jupyter.widget-view+json": {
       "model_id": "026c6a0f3b65407fa87b003d464f6e2c",
       "version_major": 2,
       "version_minor": 0
      },
      "text/plain": [
       "pytorch_model.bin:   0%|          | 0.00/507M [00:00<?, ?B/s]"
      ]
     },
     "metadata": {},
     "output_type": "display_data"
    },
    {
     "name": "stderr",
     "output_type": "stream",
     "text": [
      "Some weights of RobertaForSequenceClassification were not initialized from the model checkpoint at iarfmoose/roberta-base-bulgarian and are newly initialized: ['classifier.dense.bias', 'classifier.dense.weight', 'classifier.out_proj.bias', 'classifier.out_proj.weight']\n",
      "You should probably TRAIN this model on a down-stream task to be able to use it for predictions and inference.\n"
     ]
    },
    {
     "data": {
      "application/vnd.jupyter.widget-view+json": {
       "model_id": "57660e1d2537436cb5eec3ef144dad5e",
       "version_major": 2,
       "version_minor": 0
      },
      "text/plain": [
       "tokenizer_config.json:   0%|          | 0.00/78.0 [00:00<?, ?B/s]"
      ]
     },
     "metadata": {},
     "output_type": "display_data"
    },
    {
     "data": {
      "application/vnd.jupyter.widget-view+json": {
       "model_id": "85cb34c9eee042fdaed4009efc0274bb",
       "version_major": 2,
       "version_minor": 0
      },
      "text/plain": [
       "vocab.json:   0%|          | 0.00/1.79M [00:00<?, ?B/s]"
      ]
     },
     "metadata": {},
     "output_type": "display_data"
    },
    {
     "data": {
      "application/vnd.jupyter.widget-view+json": {
       "model_id": "d12d8ebf69b545f99d5f32f3ba3f196d",
       "version_major": 2,
       "version_minor": 0
      },
      "text/plain": [
       "merges.txt:   0%|          | 0.00/1.44M [00:00<?, ?B/s]"
      ]
     },
     "metadata": {},
     "output_type": "display_data"
    },
    {
     "data": {
      "application/vnd.jupyter.widget-view+json": {
       "model_id": "4d370d193d434ed19b65d8b073e2e38a",
       "version_major": 2,
       "version_minor": 0
      },
      "text/plain": [
       "special_tokens_map.json:   0%|          | 0.00/239 [00:00<?, ?B/s]"
      ]
     },
     "metadata": {},
     "output_type": "display_data"
    }
   ],
   "source": [
    "model_name = \"iarfmoose/roberta-base-bulgarian\"\n",
    "model = AutoModelForSequenceClassification.from_pretrained(model_name, num_labels=2)\n",
    "tokenizer = AutoTokenizer.from_pretrained(model_name)"
   ]
  },
  {
   "cell_type": "code",
   "execution_count": 3,
   "id": "5ec9d8a4",
   "metadata": {},
   "outputs": [
    {
     "data": {
      "application/vnd.jupyter.widget-view+json": {
       "model_id": "78d0e0f1a8fc44b2811af21d82b11a72",
       "version_major": 2,
       "version_minor": 0
      },
      "text/plain": [
       "Map:   0%|          | 0/691 [00:00<?, ? examples/s]"
      ]
     },
     "metadata": {},
     "output_type": "display_data"
    },
    {
     "data": {
      "application/vnd.jupyter.widget-view+json": {
       "model_id": "9a9cfc58bf1b431a8659523ab772abe4",
       "version_major": 2,
       "version_minor": 0
      },
      "text/plain": [
       "Map:   0%|          | 0/306 [00:00<?, ? examples/s]"
      ]
     },
     "metadata": {},
     "output_type": "display_data"
    },
    {
     "data": {
      "application/vnd.jupyter.widget-view+json": {
       "model_id": "ba07461f6d1c40889632495ec624c9bd",
       "version_major": 2,
       "version_minor": 0
      },
      "text/plain": [
       "Map:   0%|          | 0/250 [00:00<?, ? examples/s]"
      ]
     },
     "metadata": {},
     "output_type": "display_data"
    }
   ],
   "source": [
    "def tokenize_fn(examples):\n",
    "    return tokenizer(\n",
    "        examples[\"sentence\"],\n",
    "        padding=\"max_length\",\n",
    "        truncation=True,\n",
    "        max_length=128\n",
    "    )\n",
    "\n",
    "train_dataset = train_dataset.map(tokenize_fn, batched=True)\n",
    "val_dataset = val_dataset.map(tokenize_fn, batched=True)\n",
    "test_dataset = test_dataset.map(tokenize_fn, batched=True)\n",
    "\n",
    "train_dataset = train_dataset.rename_column(\"label\", \"labels\")\n",
    "val_dataset = val_dataset.rename_column(\"label\", \"labels\")\n",
    "test_dataset = test_dataset.rename_column(\"label\", \"labels\")\n",
    "\n",
    "train_dataset.set_format(type=\"torch\", columns=[\"input_ids\", \"attention_mask\", \"labels\"])\n",
    "val_dataset.set_format(type=\"torch\", columns=[\"input_ids\", \"attention_mask\", \"labels\"])\n",
    "test_dataset.set_format(type=\"torch\", columns=[\"input_ids\", \"attention_mask\", \"labels\"])"
   ]
  },
  {
   "cell_type": "code",
   "execution_count": 4,
   "id": "fb08ba1e",
   "metadata": {},
   "outputs": [],
   "source": [
    "lora_config = LoraConfig(\n",
    "    r=16,\n",
    "    lora_alpha=32,\n",
    "    lora_dropout=0.05,\n",
    "    task_type=TaskType.SEQ_CLS,\n",
    "    target_modules=[\"query_proj\", \"key_proj\", \"value_proj\", \"dense\"] \n",
    ")\n",
    "\n",
    "model = get_peft_model(model, lora_config).to(device)"
   ]
  },
  {
   "cell_type": "code",
   "execution_count": 5,
   "id": "d1581bc5",
   "metadata": {},
   "outputs": [],
   "source": [
    "f1 = evaluate.load(\"f1\")\n",
    "accuracy = evaluate.load(\"accuracy\")\n",
    "precision = evaluate.load(\"precision\")\n",
    "recall = evaluate.load(\"recall\")\n",
    "\n",
    "def compute_metrics(eval_pred):\n",
    "    logits, labels = eval_pred\n",
    "    preds = np.argmax(logits, axis=-1)\n",
    "    return {\n",
    "        \"accuracy\": accuracy.compute(predictions=preds, references=labels)[\"accuracy\"],\n",
    "        \"f1_macro\": f1.compute(predictions=preds, references=labels, average=\"macro\")[\"f1\"],\n",
    "        \"precision\": precision.compute(predictions=preds, references=labels, average=\"macro\")[\"precision\"],\n",
    "        \"recall\": recall.compute(predictions=preds, references=labels, average=\"macro\")[\"recall\"],\n",
    "    }"
   ]
  },
  {
   "cell_type": "code",
   "execution_count": 6,
   "id": "30c6467f",
   "metadata": {},
   "outputs": [],
   "source": [
    "# === 8. TrainingArguments ===\n",
    "training_args = TrainingArguments(\n",
    "    output_dir=\"./results/bulgarian-lora\",\n",
    "    per_device_train_batch_size=4,\n",
    "    per_device_eval_batch_size=4,\n",
    "    num_train_epochs=10,\n",
    "    eval_strategy=\"epoch\",\n",
    "    save_strategy=\"epoch\",\n",
    "    logging_steps=10,\n",
    "    load_best_model_at_end=True,\n",
    "    metric_for_best_model=\"f1_macro\",\n",
    ")"
   ]
  },
  {
   "cell_type": "code",
   "execution_count": 7,
   "id": "a6637292",
   "metadata": {},
   "outputs": [
    {
     "data": {
      "application/vnd.jupyter.widget-view+json": {
       "model_id": "2eed1497e5834657b96509afe69ad32b",
       "version_major": 2,
       "version_minor": 0
      },
      "text/plain": [
       "  0%|          | 0/1730 [00:00<?, ?it/s]"
      ]
     },
     "metadata": {},
     "output_type": "display_data"
    },
    {
     "name": "stderr",
     "output_type": "stream",
     "text": [
      "d:\\Master\\AN1SEM2\\BioNLP\\CLEF2025-CheckThat\\task1\\.venv\\Lib\\site-packages\\torch\\utils\\data\\dataloader.py:665: UserWarning: 'pin_memory' argument is set as true but no accelerator is found, then device pinned memory won't be used.\n",
      "  warnings.warn(warn_msg)\n"
     ]
    },
    {
     "name": "stdout",
     "output_type": "stream",
     "text": [
      "{'loss': 0.7169, 'grad_norm': 6.391135215759277, 'learning_rate': 4.971098265895954e-05, 'epoch': 0.06}\n",
      "{'loss': 0.7372, 'grad_norm': 4.695607662200928, 'learning_rate': 4.942196531791908e-05, 'epoch': 0.12}\n",
      "{'loss': 0.6815, 'grad_norm': 4.262930393218994, 'learning_rate': 4.913294797687861e-05, 'epoch': 0.17}\n",
      "{'loss': 0.7095, 'grad_norm': 8.437414169311523, 'learning_rate': 4.8843930635838154e-05, 'epoch': 0.23}\n",
      "{'loss': 0.639, 'grad_norm': 5.070406436920166, 'learning_rate': 4.855491329479769e-05, 'epoch': 0.29}\n",
      "{'loss': 0.6745, 'grad_norm': 7.1451096534729, 'learning_rate': 4.826589595375723e-05, 'epoch': 0.35}\n",
      "{'loss': 0.6445, 'grad_norm': 5.549628734588623, 'learning_rate': 4.7976878612716764e-05, 'epoch': 0.4}\n",
      "{'loss': 0.6632, 'grad_norm': 7.040141582489014, 'learning_rate': 4.7687861271676305e-05, 'epoch': 0.46}\n",
      "{'loss': 0.6615, 'grad_norm': 5.789669513702393, 'learning_rate': 4.739884393063584e-05, 'epoch': 0.52}\n",
      "{'loss': 0.6017, 'grad_norm': 4.460951805114746, 'learning_rate': 4.710982658959538e-05, 'epoch': 0.58}\n",
      "{'loss': 0.6362, 'grad_norm': 5.7011823654174805, 'learning_rate': 4.6820809248554915e-05, 'epoch': 0.64}\n",
      "{'loss': 0.5876, 'grad_norm': 6.288996696472168, 'learning_rate': 4.653179190751446e-05, 'epoch': 0.69}\n",
      "{'loss': 0.606, 'grad_norm': 6.707240104675293, 'learning_rate': 4.624277456647399e-05, 'epoch': 0.75}\n",
      "{'loss': 0.6205, 'grad_norm': 4.1457061767578125, 'learning_rate': 4.595375722543353e-05, 'epoch': 0.81}\n",
      "{'loss': 0.5941, 'grad_norm': 4.938851356506348, 'learning_rate': 4.566473988439307e-05, 'epoch': 0.87}\n",
      "{'loss': 0.5281, 'grad_norm': 14.218002319335938, 'learning_rate': 4.537572254335261e-05, 'epoch': 0.92}\n",
      "{'loss': 0.5915, 'grad_norm': 3.5908401012420654, 'learning_rate': 4.508670520231214e-05, 'epoch': 0.98}\n"
     ]
    },
    {
     "data": {
      "application/vnd.jupyter.widget-view+json": {
       "model_id": "656b11cfe2454fb7b00dee80408b9750",
       "version_major": 2,
       "version_minor": 0
      },
      "text/plain": [
       "  0%|          | 0/77 [00:00<?, ?it/s]"
      ]
     },
     "metadata": {},
     "output_type": "display_data"
    },
    {
     "name": "stdout",
     "output_type": "stream",
     "text": [
      "{'eval_loss': 0.5747998952865601, 'eval_accuracy': 0.7124183006535948, 'eval_f1_macro': 0.707913918778202, 'eval_precision': 0.7104191302062803, 'eval_recall': 0.7069745401283763, 'eval_runtime': 16.7972, 'eval_samples_per_second': 18.217, 'eval_steps_per_second': 4.584, 'epoch': 1.0}\n"
     ]
    },
    {
     "name": "stderr",
     "output_type": "stream",
     "text": [
      "d:\\Master\\AN1SEM2\\BioNLP\\CLEF2025-CheckThat\\task1\\.venv\\Lib\\site-packages\\peft\\utils\\other.py:611: UserWarning: Unable to fetch remote file due to the following error (ReadTimeoutError(\"HTTPSConnectionPool(host='huggingface.co', port=443): Read timed out. (read timeout=10)\"), '(Request ID: 7969dcc2-8dff-48e8-bb9e-52e7e42b35de)') - silently ignoring the lookup for the file config.json in iarfmoose/roberta-base-bulgarian.\n",
      "  warnings.warn(\n",
      "d:\\Master\\AN1SEM2\\BioNLP\\CLEF2025-CheckThat\\task1\\.venv\\Lib\\site-packages\\peft\\utils\\save_and_load.py:195: UserWarning: Could not find a config file in iarfmoose/roberta-base-bulgarian - will assume that the vocabulary was not modified.\n",
      "  warnings.warn(\n",
      "d:\\Master\\AN1SEM2\\BioNLP\\CLEF2025-CheckThat\\task1\\.venv\\Lib\\site-packages\\torch\\utils\\data\\dataloader.py:665: UserWarning: 'pin_memory' argument is set as true but no accelerator is found, then device pinned memory won't be used.\n",
      "  warnings.warn(warn_msg)\n"
     ]
    },
    {
     "name": "stdout",
     "output_type": "stream",
     "text": [
      "{'loss': 0.5101, 'grad_norm': 2.5632503032684326, 'learning_rate': 4.4797687861271684e-05, 'epoch': 1.04}\n",
      "{'loss': 0.518, 'grad_norm': 5.770907402038574, 'learning_rate': 4.450867052023122e-05, 'epoch': 1.1}\n",
      "{'loss': 0.6454, 'grad_norm': 6.008738040924072, 'learning_rate': 4.421965317919075e-05, 'epoch': 1.16}\n",
      "{'loss': 0.4835, 'grad_norm': 6.237147808074951, 'learning_rate': 4.3930635838150294e-05, 'epoch': 1.21}\n",
      "{'loss': 0.5079, 'grad_norm': 8.138538360595703, 'learning_rate': 4.364161849710983e-05, 'epoch': 1.27}\n",
      "{'loss': 0.5629, 'grad_norm': 1.8587298393249512, 'learning_rate': 4.335260115606937e-05, 'epoch': 1.33}\n",
      "{'loss': 0.4119, 'grad_norm': 5.153204917907715, 'learning_rate': 4.3063583815028904e-05, 'epoch': 1.39}\n",
      "{'loss': 0.5818, 'grad_norm': 11.774129867553711, 'learning_rate': 4.2774566473988445e-05, 'epoch': 1.45}\n",
      "{'loss': 0.4605, 'grad_norm': 2.286097288131714, 'learning_rate': 4.248554913294798e-05, 'epoch': 1.5}\n",
      "{'loss': 0.4805, 'grad_norm': 4.888607501983643, 'learning_rate': 4.2196531791907514e-05, 'epoch': 1.56}\n",
      "{'loss': 0.6367, 'grad_norm': 5.559528827667236, 'learning_rate': 4.1907514450867055e-05, 'epoch': 1.62}\n",
      "{'loss': 0.4404, 'grad_norm': 7.047946929931641, 'learning_rate': 4.161849710982659e-05, 'epoch': 1.68}\n",
      "{'loss': 0.5196, 'grad_norm': 5.5099711418151855, 'learning_rate': 4.132947976878613e-05, 'epoch': 1.73}\n",
      "{'loss': 0.5367, 'grad_norm': 3.346320867538452, 'learning_rate': 4.1040462427745666e-05, 'epoch': 1.79}\n",
      "{'loss': 0.3883, 'grad_norm': 1.7629739046096802, 'learning_rate': 4.07514450867052e-05, 'epoch': 1.85}\n",
      "{'loss': 0.5581, 'grad_norm': 4.976661682128906, 'learning_rate': 4.046242774566474e-05, 'epoch': 1.91}\n",
      "{'loss': 0.5537, 'grad_norm': 3.9501852989196777, 'learning_rate': 4.0173410404624276e-05, 'epoch': 1.97}\n"
     ]
    },
    {
     "data": {
      "application/vnd.jupyter.widget-view+json": {
       "model_id": "89a14176d8034bf48712d8e7b36cae41",
       "version_major": 2,
       "version_minor": 0
      },
      "text/plain": [
       "  0%|          | 0/77 [00:00<?, ?it/s]"
      ]
     },
     "metadata": {},
     "output_type": "display_data"
    },
    {
     "name": "stdout",
     "output_type": "stream",
     "text": [
      "{'eval_loss': 0.7249338030815125, 'eval_accuracy': 0.6862745098039216, 'eval_f1_macro': 0.6667876588021778, 'eval_precision': 0.6989247311827957, 'eval_recall': 0.669754017145565, 'eval_runtime': 25.7342, 'eval_samples_per_second': 11.891, 'eval_steps_per_second': 2.992, 'epoch': 2.0}\n"
     ]
    },
    {
     "name": "stderr",
     "output_type": "stream",
     "text": [
      "d:\\Master\\AN1SEM2\\BioNLP\\CLEF2025-CheckThat\\task1\\.venv\\Lib\\site-packages\\huggingface_hub\\file_download.py:943: FutureWarning: `resume_download` is deprecated and will be removed in version 1.0.0. Downloads always resume when possible. If you want to force a new download, use `force_download=True`.\n",
      "  warnings.warn(\n",
      "d:\\Master\\AN1SEM2\\BioNLP\\CLEF2025-CheckThat\\task1\\.venv\\Lib\\site-packages\\torch\\utils\\data\\dataloader.py:665: UserWarning: 'pin_memory' argument is set as true but no accelerator is found, then device pinned memory won't be used.\n",
      "  warnings.warn(warn_msg)\n"
     ]
    },
    {
     "name": "stdout",
     "output_type": "stream",
     "text": [
      "{'loss': 0.3987, 'grad_norm': 6.583398818969727, 'learning_rate': 3.988439306358382e-05, 'epoch': 2.02}\n",
      "{'loss': 0.4369, 'grad_norm': 7.3686394691467285, 'learning_rate': 3.959537572254335e-05, 'epoch': 2.08}\n",
      "{'loss': 0.4946, 'grad_norm': 4.71972131729126, 'learning_rate': 3.930635838150289e-05, 'epoch': 2.14}\n",
      "{'loss': 0.3689, 'grad_norm': 9.574148178100586, 'learning_rate': 3.901734104046243e-05, 'epoch': 2.2}\n",
      "{'loss': 0.4922, 'grad_norm': 13.31404972076416, 'learning_rate': 3.872832369942196e-05, 'epoch': 2.25}\n",
      "{'loss': 0.4826, 'grad_norm': 2.911792278289795, 'learning_rate': 3.84393063583815e-05, 'epoch': 2.31}\n",
      "{'loss': 0.4803, 'grad_norm': 3.48557448387146, 'learning_rate': 3.815028901734104e-05, 'epoch': 2.37}\n",
      "{'loss': 0.8237, 'grad_norm': 4.774317741394043, 'learning_rate': 3.786127167630058e-05, 'epoch': 2.43}\n",
      "{'loss': 0.7175, 'grad_norm': 10.32775592803955, 'learning_rate': 3.757225433526011e-05, 'epoch': 2.49}\n",
      "{'loss': 0.5436, 'grad_norm': 6.715440273284912, 'learning_rate': 3.7283236994219654e-05, 'epoch': 2.54}\n",
      "{'loss': 0.4882, 'grad_norm': 0.9369069337844849, 'learning_rate': 3.699421965317919e-05, 'epoch': 2.6}\n",
      "{'loss': 0.4738, 'grad_norm': 1.6102020740509033, 'learning_rate': 3.670520231213873e-05, 'epoch': 2.66}\n",
      "{'loss': 0.3514, 'grad_norm': 0.9461985230445862, 'learning_rate': 3.6416184971098265e-05, 'epoch': 2.72}\n",
      "{'loss': 0.3694, 'grad_norm': 3.9636518955230713, 'learning_rate': 3.6127167630057806e-05, 'epoch': 2.77}\n",
      "{'loss': 0.3757, 'grad_norm': 3.0714426040649414, 'learning_rate': 3.583815028901734e-05, 'epoch': 2.83}\n",
      "{'loss': 0.4264, 'grad_norm': 5.553427219390869, 'learning_rate': 3.554913294797688e-05, 'epoch': 2.89}\n",
      "{'loss': 0.4303, 'grad_norm': 1.7802294492721558, 'learning_rate': 3.5260115606936416e-05, 'epoch': 2.95}\n"
     ]
    },
    {
     "data": {
      "application/vnd.jupyter.widget-view+json": {
       "model_id": "fbfcc447ec944ed486b0181e265e67a9",
       "version_major": 2,
       "version_minor": 0
      },
      "text/plain": [
       "  0%|          | 0/77 [00:00<?, ?it/s]"
      ]
     },
     "metadata": {},
     "output_type": "display_data"
    },
    {
     "name": "stdout",
     "output_type": "stream",
     "text": [
      "{'eval_loss': 0.8032066822052002, 'eval_accuracy': 0.696078431372549, 'eval_f1_macro': 0.6946402704007726, 'eval_precision': 0.6943921232876712, 'eval_recall': 0.695623142204799, 'eval_runtime': 25.983, 'eval_samples_per_second': 11.777, 'eval_steps_per_second': 2.963, 'epoch': 3.0}\n"
     ]
    },
    {
     "name": "stderr",
     "output_type": "stream",
     "text": [
      "d:\\Master\\AN1SEM2\\BioNLP\\CLEF2025-CheckThat\\task1\\.venv\\Lib\\site-packages\\peft\\utils\\other.py:611: UserWarning: Unable to fetch remote file due to the following error (ReadTimeoutError(\"HTTPSConnectionPool(host='huggingface.co', port=443): Read timed out. (read timeout=10)\"), '(Request ID: 75166f84-6456-4994-a4be-417847278c99)') - silently ignoring the lookup for the file config.json in iarfmoose/roberta-base-bulgarian.\n",
      "  warnings.warn(\n",
      "d:\\Master\\AN1SEM2\\BioNLP\\CLEF2025-CheckThat\\task1\\.venv\\Lib\\site-packages\\peft\\utils\\save_and_load.py:195: UserWarning: Could not find a config file in iarfmoose/roberta-base-bulgarian - will assume that the vocabulary was not modified.\n",
      "  warnings.warn(\n",
      "d:\\Master\\AN1SEM2\\BioNLP\\CLEF2025-CheckThat\\task1\\.venv\\Lib\\site-packages\\torch\\utils\\data\\dataloader.py:665: UserWarning: 'pin_memory' argument is set as true but no accelerator is found, then device pinned memory won't be used.\n",
      "  warnings.warn(warn_msg)\n"
     ]
    },
    {
     "name": "stdout",
     "output_type": "stream",
     "text": [
      "{'loss': 0.3017, 'grad_norm': 7.720668315887451, 'learning_rate': 3.497109826589596e-05, 'epoch': 3.01}\n",
      "{'loss': 0.3571, 'grad_norm': 7.114643573760986, 'learning_rate': 3.468208092485549e-05, 'epoch': 3.06}\n",
      "{'loss': 0.267, 'grad_norm': 4.712103366851807, 'learning_rate': 3.439306358381503e-05, 'epoch': 3.12}\n",
      "{'loss': 0.5322, 'grad_norm': 14.041618347167969, 'learning_rate': 3.410404624277457e-05, 'epoch': 3.18}\n",
      "{'loss': 0.3617, 'grad_norm': 9.11591625213623, 'learning_rate': 3.381502890173411e-05, 'epoch': 3.24}\n",
      "{'loss': 0.403, 'grad_norm': 3.099885940551758, 'learning_rate': 3.352601156069364e-05, 'epoch': 3.29}\n",
      "{'loss': 0.2954, 'grad_norm': 5.0465803146362305, 'learning_rate': 3.323699421965318e-05, 'epoch': 3.35}\n",
      "{'loss': 0.4931, 'grad_norm': 10.349910736083984, 'learning_rate': 3.294797687861272e-05, 'epoch': 3.41}\n",
      "{'loss': 0.2479, 'grad_norm': 6.267472743988037, 'learning_rate': 3.265895953757225e-05, 'epoch': 3.47}\n",
      "{'loss': 0.5907, 'grad_norm': 8.601286888122559, 'learning_rate': 3.2369942196531794e-05, 'epoch': 3.53}\n",
      "{'loss': 0.3628, 'grad_norm': 10.617578506469727, 'learning_rate': 3.208092485549133e-05, 'epoch': 3.58}\n",
      "{'loss': 0.6305, 'grad_norm': 6.585751056671143, 'learning_rate': 3.179190751445087e-05, 'epoch': 3.64}\n",
      "{'loss': 0.3994, 'grad_norm': 0.17407391965389252, 'learning_rate': 3.1502890173410405e-05, 'epoch': 3.7}\n",
      "{'loss': 0.9011, 'grad_norm': 11.671378135681152, 'learning_rate': 3.1213872832369946e-05, 'epoch': 3.76}\n",
      "{'loss': 0.2896, 'grad_norm': 8.086824417114258, 'learning_rate': 3.092485549132948e-05, 'epoch': 3.82}\n",
      "{'loss': 0.6829, 'grad_norm': 9.614642143249512, 'learning_rate': 3.063583815028902e-05, 'epoch': 3.87}\n",
      "{'loss': 0.6036, 'grad_norm': 3.755558490753174, 'learning_rate': 3.0346820809248556e-05, 'epoch': 3.93}\n",
      "{'loss': 0.2105, 'grad_norm': 6.9344987869262695, 'learning_rate': 3.0057803468208097e-05, 'epoch': 3.99}\n"
     ]
    },
    {
     "data": {
      "application/vnd.jupyter.widget-view+json": {
       "model_id": "e9a1bb288a63499db05faa53abed496a",
       "version_major": 2,
       "version_minor": 0
      },
      "text/plain": [
       "  0%|          | 0/77 [00:00<?, ?it/s]"
      ]
     },
     "metadata": {},
     "output_type": "display_data"
    },
    {
     "name": "stdout",
     "output_type": "stream",
     "text": [
      "{'eval_loss': 0.9310954213142395, 'eval_accuracy': 0.6993464052287581, 'eval_f1_macro': 0.6992307692307693, 'eval_precision': 0.7022917112872136, 'eval_recall': 0.7034420367897298, 'eval_runtime': 26.4629, 'eval_samples_per_second': 11.563, 'eval_steps_per_second': 2.91, 'epoch': 4.0}\n"
     ]
    },
    {
     "name": "stderr",
     "output_type": "stream",
     "text": [
      "d:\\Master\\AN1SEM2\\BioNLP\\CLEF2025-CheckThat\\task1\\.venv\\Lib\\site-packages\\huggingface_hub\\file_download.py:943: FutureWarning: `resume_download` is deprecated and will be removed in version 1.0.0. Downloads always resume when possible. If you want to force a new download, use `force_download=True`.\n",
      "  warnings.warn(\n",
      "d:\\Master\\AN1SEM2\\BioNLP\\CLEF2025-CheckThat\\task1\\.venv\\Lib\\site-packages\\torch\\utils\\data\\dataloader.py:665: UserWarning: 'pin_memory' argument is set as true but no accelerator is found, then device pinned memory won't be used.\n",
      "  warnings.warn(warn_msg)\n"
     ]
    },
    {
     "name": "stdout",
     "output_type": "stream",
     "text": [
      "{'loss': 0.4969, 'grad_norm': 8.867109298706055, 'learning_rate': 2.9768786127167632e-05, 'epoch': 4.05}\n",
      "{'loss': 0.4031, 'grad_norm': 9.616604804992676, 'learning_rate': 2.947976878612717e-05, 'epoch': 4.1}\n",
      "{'loss': 0.51, 'grad_norm': 0.6077240109443665, 'learning_rate': 2.9190751445086707e-05, 'epoch': 4.16}\n",
      "{'loss': 0.2293, 'grad_norm': 2.187213897705078, 'learning_rate': 2.8901734104046245e-05, 'epoch': 4.22}\n",
      "{'loss': 0.2786, 'grad_norm': 12.27725887298584, 'learning_rate': 2.861271676300578e-05, 'epoch': 4.28}\n",
      "{'loss': 0.5511, 'grad_norm': 10.162144660949707, 'learning_rate': 2.832369942196532e-05, 'epoch': 4.34}\n",
      "{'loss': 0.1446, 'grad_norm': 12.814311027526855, 'learning_rate': 2.8034682080924855e-05, 'epoch': 4.39}\n",
      "{'loss': 0.411, 'grad_norm': 9.853235244750977, 'learning_rate': 2.7745664739884393e-05, 'epoch': 4.45}\n",
      "{'loss': 0.3627, 'grad_norm': 0.022221120074391365, 'learning_rate': 2.745664739884393e-05, 'epoch': 4.51}\n",
      "{'loss': 0.511, 'grad_norm': 19.434661865234375, 'learning_rate': 2.7167630057803466e-05, 'epoch': 4.57}\n",
      "{'loss': 0.476, 'grad_norm': 1.4587247371673584, 'learning_rate': 2.6878612716763007e-05, 'epoch': 4.62}\n",
      "{'loss': 0.2984, 'grad_norm': 10.163939476013184, 'learning_rate': 2.658959537572254e-05, 'epoch': 4.68}\n",
      "{'loss': 0.3034, 'grad_norm': 18.485897064208984, 'learning_rate': 2.6300578034682083e-05, 'epoch': 4.74}\n",
      "{'loss': 0.5736, 'grad_norm': 0.6252769231796265, 'learning_rate': 2.6011560693641617e-05, 'epoch': 4.8}\n",
      "{'loss': 0.4711, 'grad_norm': 2.6164445877075195, 'learning_rate': 2.5722543352601158e-05, 'epoch': 4.86}\n",
      "{'loss': 0.4489, 'grad_norm': 3.8982930183410645, 'learning_rate': 2.5433526011560693e-05, 'epoch': 4.91}\n",
      "{'loss': 0.5212, 'grad_norm': 2.149136781692505, 'learning_rate': 2.5144508670520234e-05, 'epoch': 4.97}\n"
     ]
    },
    {
     "data": {
      "application/vnd.jupyter.widget-view+json": {
       "model_id": "e8b86549562447af90347f12bf1c9d87",
       "version_major": 2,
       "version_minor": 0
      },
      "text/plain": [
       "  0%|          | 0/77 [00:00<?, ?it/s]"
      ]
     },
     "metadata": {},
     "output_type": "display_data"
    },
    {
     "name": "stdout",
     "output_type": "stream",
     "text": [
      "{'eval_loss': 1.1017452478408813, 'eval_accuracy': 0.6895424836601307, 'eval_f1_macro': 0.6766946560640605, 'eval_precision': 0.6937735849056603, 'eval_recall': 0.6769698014043855, 'eval_runtime': 26.4913, 'eval_samples_per_second': 11.551, 'eval_steps_per_second': 2.907, 'epoch': 5.0}\n"
     ]
    },
    {
     "name": "stderr",
     "output_type": "stream",
     "text": [
      "d:\\Master\\AN1SEM2\\BioNLP\\CLEF2025-CheckThat\\task1\\.venv\\Lib\\site-packages\\peft\\utils\\other.py:611: UserWarning: Unable to fetch remote file due to the following error (ReadTimeoutError(\"HTTPSConnectionPool(host='huggingface.co', port=443): Read timed out. (read timeout=10)\"), '(Request ID: 136304eb-8aa0-45c1-9bb2-0522db97a9eb)') - silently ignoring the lookup for the file config.json in iarfmoose/roberta-base-bulgarian.\n",
      "  warnings.warn(\n",
      "d:\\Master\\AN1SEM2\\BioNLP\\CLEF2025-CheckThat\\task1\\.venv\\Lib\\site-packages\\peft\\utils\\save_and_load.py:195: UserWarning: Could not find a config file in iarfmoose/roberta-base-bulgarian - will assume that the vocabulary was not modified.\n",
      "  warnings.warn(\n",
      "d:\\Master\\AN1SEM2\\BioNLP\\CLEF2025-CheckThat\\task1\\.venv\\Lib\\site-packages\\torch\\utils\\data\\dataloader.py:665: UserWarning: 'pin_memory' argument is set as true but no accelerator is found, then device pinned memory won't be used.\n",
      "  warnings.warn(warn_msg)\n"
     ]
    },
    {
     "name": "stdout",
     "output_type": "stream",
     "text": [
      "{'loss': 0.437, 'grad_norm': 2.3072352409362793, 'learning_rate': 2.485549132947977e-05, 'epoch': 5.03}\n",
      "{'loss': 0.4282, 'grad_norm': 1.4059523344039917, 'learning_rate': 2.4566473988439306e-05, 'epoch': 5.09}\n",
      "{'loss': 0.5153, 'grad_norm': 0.38222524523735046, 'learning_rate': 2.4277456647398844e-05, 'epoch': 5.14}\n",
      "{'loss': 0.3304, 'grad_norm': 2.0769643783569336, 'learning_rate': 2.3988439306358382e-05, 'epoch': 5.2}\n",
      "{'loss': 0.1672, 'grad_norm': 4.187455654144287, 'learning_rate': 2.369942196531792e-05, 'epoch': 5.26}\n",
      "{'loss': 0.3121, 'grad_norm': 5.744872093200684, 'learning_rate': 2.3410404624277458e-05, 'epoch': 5.32}\n",
      "{'loss': 0.6128, 'grad_norm': 8.254083633422852, 'learning_rate': 2.3121387283236996e-05, 'epoch': 5.38}\n",
      "{'loss': 0.5979, 'grad_norm': 1.5035219192504883, 'learning_rate': 2.2832369942196533e-05, 'epoch': 5.43}\n",
      "{'loss': 0.3033, 'grad_norm': 13.069225311279297, 'learning_rate': 2.254335260115607e-05, 'epoch': 5.49}\n",
      "{'loss': 0.551, 'grad_norm': 4.943527698516846, 'learning_rate': 2.225433526011561e-05, 'epoch': 5.55}\n",
      "{'loss': 0.4366, 'grad_norm': 3.338102102279663, 'learning_rate': 2.1965317919075147e-05, 'epoch': 5.61}\n",
      "{'loss': 0.2074, 'grad_norm': 3.3512792587280273, 'learning_rate': 2.1676300578034685e-05, 'epoch': 5.66}\n",
      "{'loss': 0.4674, 'grad_norm': 13.768242835998535, 'learning_rate': 2.1387283236994223e-05, 'epoch': 5.72}\n",
      "{'loss': 0.1034, 'grad_norm': 4.078189849853516, 'learning_rate': 2.1098265895953757e-05, 'epoch': 5.78}\n",
      "{'loss': 0.3439, 'grad_norm': 3.8007144927978516, 'learning_rate': 2.0809248554913295e-05, 'epoch': 5.84}\n",
      "{'loss': 0.4237, 'grad_norm': 6.897842884063721, 'learning_rate': 2.0520231213872833e-05, 'epoch': 5.9}\n",
      "{'loss': 0.8085, 'grad_norm': 1.3027235269546509, 'learning_rate': 2.023121387283237e-05, 'epoch': 5.95}\n"
     ]
    },
    {
     "data": {
      "application/vnd.jupyter.widget-view+json": {
       "model_id": "29b4e0ccefd9448e93e9dd5d94507479",
       "version_major": 2,
       "version_minor": 0
      },
      "text/plain": [
       "  0%|          | 0/77 [00:00<?, ?it/s]"
      ]
     },
     "metadata": {},
     "output_type": "display_data"
    },
    {
     "name": "stdout",
     "output_type": "stream",
     "text": [
      "{'eval_loss': 1.0931638479232788, 'eval_accuracy': 0.7156862745098039, 'eval_f1_macro': 0.7127380631238198, 'eval_precision': 0.7132352941176471, 'eval_recall': 0.7123809934088657, 'eval_runtime': 26.5026, 'eval_samples_per_second': 11.546, 'eval_steps_per_second': 2.905, 'epoch': 6.0}\n"
     ]
    },
    {
     "name": "stderr",
     "output_type": "stream",
     "text": [
      "d:\\Master\\AN1SEM2\\BioNLP\\CLEF2025-CheckThat\\task1\\.venv\\Lib\\site-packages\\huggingface_hub\\file_download.py:943: FutureWarning: `resume_download` is deprecated and will be removed in version 1.0.0. Downloads always resume when possible. If you want to force a new download, use `force_download=True`.\n",
      "  warnings.warn(\n",
      "d:\\Master\\AN1SEM2\\BioNLP\\CLEF2025-CheckThat\\task1\\.venv\\Lib\\site-packages\\torch\\utils\\data\\dataloader.py:665: UserWarning: 'pin_memory' argument is set as true but no accelerator is found, then device pinned memory won't be used.\n",
      "  warnings.warn(warn_msg)\n"
     ]
    },
    {
     "name": "stdout",
     "output_type": "stream",
     "text": [
      "{'loss': 0.2757, 'grad_norm': 5.827968597412109, 'learning_rate': 1.994219653179191e-05, 'epoch': 6.01}\n",
      "{'loss': 0.1449, 'grad_norm': 6.6317853927612305, 'learning_rate': 1.9653179190751446e-05, 'epoch': 6.07}\n",
      "{'loss': 0.1619, 'grad_norm': 0.3979451060295105, 'learning_rate': 1.936416184971098e-05, 'epoch': 6.13}\n",
      "{'loss': 0.5137, 'grad_norm': 1.9354465007781982, 'learning_rate': 1.907514450867052e-05, 'epoch': 6.18}\n",
      "{'loss': 0.172, 'grad_norm': 0.8660446405410767, 'learning_rate': 1.8786127167630057e-05, 'epoch': 6.24}\n",
      "{'loss': 0.5201, 'grad_norm': 5.974310874938965, 'learning_rate': 1.8497109826589594e-05, 'epoch': 6.3}\n",
      "{'loss': 0.4195, 'grad_norm': 3.339695692062378, 'learning_rate': 1.8208092485549132e-05, 'epoch': 6.36}\n",
      "{'loss': 0.2364, 'grad_norm': 22.53510093688965, 'learning_rate': 1.791907514450867e-05, 'epoch': 6.42}\n",
      "{'loss': 0.4671, 'grad_norm': 2.4556586742401123, 'learning_rate': 1.7630057803468208e-05, 'epoch': 6.47}\n",
      "{'loss': 0.4879, 'grad_norm': 0.720646858215332, 'learning_rate': 1.7341040462427746e-05, 'epoch': 6.53}\n",
      "{'loss': 0.47, 'grad_norm': 10.333222389221191, 'learning_rate': 1.7052023121387284e-05, 'epoch': 6.59}\n",
      "{'loss': 0.5735, 'grad_norm': 10.02700138092041, 'learning_rate': 1.676300578034682e-05, 'epoch': 6.65}\n",
      "{'loss': 0.5553, 'grad_norm': 14.396570205688477, 'learning_rate': 1.647398843930636e-05, 'epoch': 6.71}\n",
      "{'loss': 0.6336, 'grad_norm': 4.5707268714904785, 'learning_rate': 1.6184971098265897e-05, 'epoch': 6.76}\n",
      "{'loss': 0.2448, 'grad_norm': 2.2104790210723877, 'learning_rate': 1.5895953757225435e-05, 'epoch': 6.82}\n",
      "{'loss': 0.3227, 'grad_norm': 13.467050552368164, 'learning_rate': 1.5606936416184973e-05, 'epoch': 6.88}\n",
      "{'loss': 0.1038, 'grad_norm': 0.17336329817771912, 'learning_rate': 1.531791907514451e-05, 'epoch': 6.94}\n",
      "{'loss': 0.2985, 'grad_norm': 0.04935511574149132, 'learning_rate': 1.5028901734104049e-05, 'epoch': 6.99}\n"
     ]
    },
    {
     "data": {
      "application/vnd.jupyter.widget-view+json": {
       "model_id": "a9c8cc55aaab4d0d93378dd0c614d32f",
       "version_major": 2,
       "version_minor": 0
      },
      "text/plain": [
       "  0%|          | 0/77 [00:00<?, ?it/s]"
      ]
     },
     "metadata": {},
     "output_type": "display_data"
    },
    {
     "name": "stdout",
     "output_type": "stream",
     "text": [
      "{'eval_loss': 1.1703863143920898, 'eval_accuracy': 0.7058823529411765, 'eval_f1_macro': 0.7002351097178683, 'eval_precision': 0.704353591160221, 'eval_recall': 0.6991771851979494, 'eval_runtime': 17.3091, 'eval_samples_per_second': 17.679, 'eval_steps_per_second': 4.449, 'epoch': 7.0}\n"
     ]
    },
    {
     "name": "stderr",
     "output_type": "stream",
     "text": [
      "d:\\Master\\AN1SEM2\\BioNLP\\CLEF2025-CheckThat\\task1\\.venv\\Lib\\site-packages\\huggingface_hub\\file_download.py:943: FutureWarning: `resume_download` is deprecated and will be removed in version 1.0.0. Downloads always resume when possible. If you want to force a new download, use `force_download=True`.\n",
      "  warnings.warn(\n",
      "d:\\Master\\AN1SEM2\\BioNLP\\CLEF2025-CheckThat\\task1\\.venv\\Lib\\site-packages\\torch\\utils\\data\\dataloader.py:665: UserWarning: 'pin_memory' argument is set as true but no accelerator is found, then device pinned memory won't be used.\n",
      "  warnings.warn(warn_msg)\n"
     ]
    },
    {
     "name": "stdout",
     "output_type": "stream",
     "text": [
      "{'loss': 0.5531, 'grad_norm': 11.481873512268066, 'learning_rate': 1.4739884393063585e-05, 'epoch': 7.05}\n",
      "{'loss': 0.0847, 'grad_norm': 0.07952035218477249, 'learning_rate': 1.4450867052023123e-05, 'epoch': 7.11}\n",
      "{'loss': 0.7055, 'grad_norm': 12.138911247253418, 'learning_rate': 1.416184971098266e-05, 'epoch': 7.17}\n",
      "{'loss': 0.2054, 'grad_norm': 1.1952322721481323, 'learning_rate': 1.3872832369942197e-05, 'epoch': 7.23}\n",
      "{'loss': 0.0857, 'grad_norm': 4.5800275802612305, 'learning_rate': 1.3583815028901733e-05, 'epoch': 7.28}\n",
      "{'loss': 0.4414, 'grad_norm': 9.918490409851074, 'learning_rate': 1.329479768786127e-05, 'epoch': 7.34}\n",
      "{'loss': 0.1137, 'grad_norm': 5.466392993927002, 'learning_rate': 1.3005780346820809e-05, 'epoch': 7.4}\n",
      "{'loss': 0.2163, 'grad_norm': 15.372408866882324, 'learning_rate': 1.2716763005780346e-05, 'epoch': 7.46}\n",
      "{'loss': 0.5174, 'grad_norm': 6.579858779907227, 'learning_rate': 1.2427745664739884e-05, 'epoch': 7.51}\n",
      "{'loss': 0.2607, 'grad_norm': 5.431713104248047, 'learning_rate': 1.2138728323699422e-05, 'epoch': 7.57}\n",
      "{'loss': 0.6044, 'grad_norm': 3.418123245239258, 'learning_rate': 1.184971098265896e-05, 'epoch': 7.63}\n",
      "{'loss': 0.0744, 'grad_norm': 1.5846779346466064, 'learning_rate': 1.1560693641618498e-05, 'epoch': 7.69}\n",
      "{'loss': 0.3417, 'grad_norm': 0.3694497048854828, 'learning_rate': 1.1271676300578036e-05, 'epoch': 7.75}\n",
      "{'loss': 0.3225, 'grad_norm': 13.956295013427734, 'learning_rate': 1.0982658959537573e-05, 'epoch': 7.8}\n",
      "{'loss': 0.4747, 'grad_norm': 0.03306816145777702, 'learning_rate': 1.0693641618497111e-05, 'epoch': 7.86}\n",
      "{'loss': 0.7208, 'grad_norm': 17.11757469177246, 'learning_rate': 1.0404624277456647e-05, 'epoch': 7.92}\n",
      "{'loss': 0.3116, 'grad_norm': 15.202738761901855, 'learning_rate': 1.0115606936416185e-05, 'epoch': 7.98}\n"
     ]
    },
    {
     "data": {
      "application/vnd.jupyter.widget-view+json": {
       "model_id": "2294b03e7bae489d8306180c87cacd0e",
       "version_major": 2,
       "version_minor": 0
      },
      "text/plain": [
       "  0%|          | 0/77 [00:00<?, ?it/s]"
      ]
     },
     "metadata": {},
     "output_type": "display_data"
    },
    {
     "name": "stdout",
     "output_type": "stream",
     "text": [
      "{'eval_loss': 1.2684245109558105, 'eval_accuracy': 0.7058823529411765, 'eval_f1_macro': 0.6996728462377317, 'eval_precision': 0.7047847527655604, 'eval_recall': 0.6985740748718391, 'eval_runtime': 17.7106, 'eval_samples_per_second': 17.278, 'eval_steps_per_second': 4.348, 'epoch': 8.0}\n"
     ]
    },
    {
     "name": "stderr",
     "output_type": "stream",
     "text": [
      "d:\\Master\\AN1SEM2\\BioNLP\\CLEF2025-CheckThat\\task1\\.venv\\Lib\\site-packages\\huggingface_hub\\file_download.py:943: FutureWarning: `resume_download` is deprecated and will be removed in version 1.0.0. Downloads always resume when possible. If you want to force a new download, use `force_download=True`.\n",
      "  warnings.warn(\n",
      "d:\\Master\\AN1SEM2\\BioNLP\\CLEF2025-CheckThat\\task1\\.venv\\Lib\\site-packages\\torch\\utils\\data\\dataloader.py:665: UserWarning: 'pin_memory' argument is set as true but no accelerator is found, then device pinned memory won't be used.\n",
      "  warnings.warn(warn_msg)\n"
     ]
    },
    {
     "name": "stdout",
     "output_type": "stream",
     "text": [
      "{'loss': 0.1812, 'grad_norm': 21.978464126586914, 'learning_rate': 9.826589595375723e-06, 'epoch': 8.03}\n",
      "{'loss': 0.3765, 'grad_norm': 4.030550003051758, 'learning_rate': 9.53757225433526e-06, 'epoch': 8.09}\n",
      "{'loss': 0.3329, 'grad_norm': 0.008379404433071613, 'learning_rate': 9.248554913294797e-06, 'epoch': 8.15}\n",
      "{'loss': 0.297, 'grad_norm': 14.608796119689941, 'learning_rate': 8.959537572254335e-06, 'epoch': 8.21}\n",
      "{'loss': 0.3083, 'grad_norm': 2.5587987899780273, 'learning_rate': 8.670520231213873e-06, 'epoch': 8.27}\n",
      "{'loss': 0.3966, 'grad_norm': 0.049117762595415115, 'learning_rate': 8.38150289017341e-06, 'epoch': 8.32}\n",
      "{'loss': 0.0808, 'grad_norm': 0.09989330917596817, 'learning_rate': 8.092485549132949e-06, 'epoch': 8.38}\n",
      "{'loss': 0.6771, 'grad_norm': 0.9374293684959412, 'learning_rate': 7.803468208092486e-06, 'epoch': 8.44}\n",
      "{'loss': 0.3571, 'grad_norm': 0.32272347807884216, 'learning_rate': 7.514450867052024e-06, 'epoch': 8.5}\n",
      "{'loss': 0.2178, 'grad_norm': 0.5035948753356934, 'learning_rate': 7.225433526011561e-06, 'epoch': 8.55}\n",
      "{'loss': 0.4025, 'grad_norm': 11.75605297088623, 'learning_rate': 6.936416184971098e-06, 'epoch': 8.61}\n",
      "{'loss': 0.1467, 'grad_norm': 0.2054767608642578, 'learning_rate': 6.647398843930635e-06, 'epoch': 8.67}\n",
      "{'loss': 0.432, 'grad_norm': 1.268432855606079, 'learning_rate': 6.358381502890173e-06, 'epoch': 8.73}\n",
      "{'loss': 0.4372, 'grad_norm': 0.20759317278862, 'learning_rate': 6.069364161849711e-06, 'epoch': 8.79}\n",
      "{'loss': 0.0776, 'grad_norm': 4.399792194366455, 'learning_rate': 5.780346820809249e-06, 'epoch': 8.84}\n",
      "{'loss': 0.1375, 'grad_norm': 0.04422828555107117, 'learning_rate': 5.491329479768787e-06, 'epoch': 8.9}\n",
      "{'loss': 0.2411, 'grad_norm': 0.16704072058200836, 'learning_rate': 5.202312138728324e-06, 'epoch': 8.96}\n"
     ]
    },
    {
     "data": {
      "application/vnd.jupyter.widget-view+json": {
       "model_id": "ac0b6c1a1fe842168248ee492cfab779",
       "version_major": 2,
       "version_minor": 0
      },
      "text/plain": [
       "  0%|          | 0/77 [00:00<?, ?it/s]"
      ]
     },
     "metadata": {},
     "output_type": "display_data"
    },
    {
     "name": "stdout",
     "output_type": "stream",
     "text": [
      "{'eval_loss': 1.2874430418014526, 'eval_accuracy': 0.7156862745098039, 'eval_f1_macro': 0.7104888260562232, 'eval_precision': 0.7142857142857143, 'eval_recall': 0.709365441778314, 'eval_runtime': 17.3417, 'eval_samples_per_second': 17.645, 'eval_steps_per_second': 4.44, 'epoch': 9.0}\n"
     ]
    },
    {
     "name": "stderr",
     "output_type": "stream",
     "text": [
      "d:\\Master\\AN1SEM2\\BioNLP\\CLEF2025-CheckThat\\task1\\.venv\\Lib\\site-packages\\huggingface_hub\\file_download.py:943: FutureWarning: `resume_download` is deprecated and will be removed in version 1.0.0. Downloads always resume when possible. If you want to force a new download, use `force_download=True`.\n",
      "  warnings.warn(\n",
      "d:\\Master\\AN1SEM2\\BioNLP\\CLEF2025-CheckThat\\task1\\.venv\\Lib\\site-packages\\torch\\utils\\data\\dataloader.py:665: UserWarning: 'pin_memory' argument is set as true but no accelerator is found, then device pinned memory won't be used.\n",
      "  warnings.warn(warn_msg)\n"
     ]
    },
    {
     "name": "stdout",
     "output_type": "stream",
     "text": [
      "{'loss': 0.4297, 'grad_norm': 0.5448151230812073, 'learning_rate': 4.913294797687862e-06, 'epoch': 9.02}\n",
      "{'loss': 0.1811, 'grad_norm': 0.43625694513320923, 'learning_rate': 4.624277456647399e-06, 'epoch': 9.08}\n",
      "{'loss': 0.428, 'grad_norm': 4.5861382484436035, 'learning_rate': 4.3352601156069365e-06, 'epoch': 9.13}\n",
      "{'loss': 0.1241, 'grad_norm': 11.271738052368164, 'learning_rate': 4.046242774566474e-06, 'epoch': 9.19}\n",
      "{'loss': 0.8872, 'grad_norm': 17.191640853881836, 'learning_rate': 3.757225433526012e-06, 'epoch': 9.25}\n",
      "{'loss': 0.1952, 'grad_norm': 0.07876572012901306, 'learning_rate': 3.468208092485549e-06, 'epoch': 9.31}\n",
      "{'loss': 0.1447, 'grad_norm': 0.057581398636102676, 'learning_rate': 3.1791907514450866e-06, 'epoch': 9.36}\n",
      "{'loss': 0.3575, 'grad_norm': 0.114822618663311, 'learning_rate': 2.8901734104046244e-06, 'epoch': 9.42}\n",
      "{'loss': 0.2187, 'grad_norm': 10.691125869750977, 'learning_rate': 2.601156069364162e-06, 'epoch': 9.48}\n",
      "{'loss': 0.2327, 'grad_norm': 0.04104460030794144, 'learning_rate': 2.3121387283236993e-06, 'epoch': 9.54}\n",
      "{'loss': 0.4546, 'grad_norm': 10.247857093811035, 'learning_rate': 2.023121387283237e-06, 'epoch': 9.6}\n",
      "{'loss': 0.2596, 'grad_norm': 0.14721918106079102, 'learning_rate': 1.7341040462427746e-06, 'epoch': 9.65}\n",
      "{'loss': 0.2562, 'grad_norm': 1.4494307041168213, 'learning_rate': 1.4450867052023122e-06, 'epoch': 9.71}\n",
      "{'loss': 0.5312, 'grad_norm': 15.482791900634766, 'learning_rate': 1.1560693641618497e-06, 'epoch': 9.77}\n",
      "{'loss': 0.1769, 'grad_norm': 0.12804771959781647, 'learning_rate': 8.670520231213873e-07, 'epoch': 9.83}\n",
      "{'loss': 0.2664, 'grad_norm': 2.7854411602020264, 'learning_rate': 5.780346820809248e-07, 'epoch': 9.88}\n",
      "{'loss': 0.4046, 'grad_norm': 1.2417011260986328, 'learning_rate': 2.890173410404624e-07, 'epoch': 9.94}\n",
      "{'loss': 0.1386, 'grad_norm': 2.1998040676116943, 'learning_rate': 0.0, 'epoch': 10.0}\n"
     ]
    },
    {
     "data": {
      "application/vnd.jupyter.widget-view+json": {
       "model_id": "9b4fd5b60afb42fa93b58c8367582f74",
       "version_major": 2,
       "version_minor": 0
      },
      "text/plain": [
       "  0%|          | 0/77 [00:00<?, ?it/s]"
      ]
     },
     "metadata": {},
     "output_type": "display_data"
    },
    {
     "name": "stdout",
     "output_type": "stream",
     "text": [
      "{'eval_loss': 1.2931360006332397, 'eval_accuracy': 0.7124183006535948, 'eval_f1_macro': 0.7083820662768031, 'eval_precision': 0.7101853871319521, 'eval_recall': 0.7075776504544867, 'eval_runtime': 18.3656, 'eval_samples_per_second': 16.662, 'eval_steps_per_second': 4.193, 'epoch': 10.0}\n"
     ]
    },
    {
     "name": "stderr",
     "output_type": "stream",
     "text": [
      "d:\\Master\\AN1SEM2\\BioNLP\\CLEF2025-CheckThat\\task1\\.venv\\Lib\\site-packages\\huggingface_hub\\file_download.py:943: FutureWarning: `resume_download` is deprecated and will be removed in version 1.0.0. Downloads always resume when possible. If you want to force a new download, use `force_download=True`.\n",
      "  warnings.warn(\n"
     ]
    },
    {
     "name": "stdout",
     "output_type": "stream",
     "text": [
      "{'train_runtime': 2534.6994, 'train_samples_per_second': 2.726, 'train_steps_per_second': 0.683, 'train_loss': 0.42331261124914094, 'epoch': 10.0}\n"
     ]
    },
    {
     "name": "stderr",
     "output_type": "stream",
     "text": [
      "d:\\Master\\AN1SEM2\\BioNLP\\CLEF2025-CheckThat\\task1\\.venv\\Lib\\site-packages\\torch\\utils\\data\\dataloader.py:665: UserWarning: 'pin_memory' argument is set as true but no accelerator is found, then device pinned memory won't be used.\n",
      "  warnings.warn(warn_msg)\n"
     ]
    },
    {
     "data": {
      "application/vnd.jupyter.widget-view+json": {
       "model_id": "9677de002d59417bb905e0ce190e673a",
       "version_major": 2,
       "version_minor": 0
      },
      "text/plain": [
       "  0%|          | 0/63 [00:00<?, ?it/s]"
      ]
     },
     "metadata": {},
     "output_type": "display_data"
    },
    {
     "data": {
      "text/plain": [
       "{'eval_loss': 0.8820622563362122,\n",
       " 'eval_accuracy': 0.744,\n",
       " 'eval_f1_macro': 0.7385791778315143,\n",
       " 'eval_precision': 0.7385791778315143,\n",
       " 'eval_recall': 0.7385791778315143,\n",
       " 'eval_runtime': 14.1982,\n",
       " 'eval_samples_per_second': 17.608,\n",
       " 'eval_steps_per_second': 4.437,\n",
       " 'epoch': 10.0}"
      ]
     },
     "execution_count": 7,
     "metadata": {},
     "output_type": "execute_result"
    }
   ],
   "source": [
    "trainer = Trainer(\n",
    "    model=model,\n",
    "    args=training_args,\n",
    "    train_dataset=train_dataset,\n",
    "    eval_dataset=val_dataset,\n",
    "    compute_metrics=compute_metrics\n",
    ")\n",
    "\n",
    "# === 10. Train ===\n",
    "trainer.train()\n",
    "\n",
    "# === 11. Evaluate on test set ===\n",
    "trainer.evaluate(eval_dataset=test_dataset)"
   ]
  }
 ],
 "metadata": {
  "kernelspec": {
   "display_name": ".venv",
   "language": "python",
   "name": "python3"
  },
  "language_info": {
   "codemirror_mode": {
    "name": "ipython",
    "version": 3
   },
   "file_extension": ".py",
   "mimetype": "text/x-python",
   "name": "python",
   "nbconvert_exporter": "python",
   "pygments_lexer": "ipython3",
   "version": "3.11.9"
  }
 },
 "nbformat": 4,
 "nbformat_minor": 5
}
