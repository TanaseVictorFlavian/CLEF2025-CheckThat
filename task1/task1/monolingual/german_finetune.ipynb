{
 "cells": [
  {
   "cell_type": "code",
   "execution_count": 1,
   "id": "221693fe",
   "metadata": {},
   "outputs": [
    {
     "name": "stderr",
     "output_type": "stream",
     "text": [
      "W0614 14:53:55.252000 27100 Lib\\site-packages\\torch\\distributed\\elastic\\multiprocessing\\redirects.py:29] NOTE: Redirects are currently not supported in Windows or MacOs.\n"
     ]
    }
   ],
   "source": [
    "import os \n",
    "\n",
    "os.chdir(\"../..\")\n",
    "\n",
    "from datasets import Dataset, load_dataset\n",
    "from transformers import AutoTokenizer, AutoModelForSeq2SeqLM, TrainingArguments, Trainer, DataCollatorForSeq2Seq, AutoModelForSequenceClassification\n",
    "from peft import get_peft_model, LoraConfig, TaskType\n",
    "import evaluate\n",
    "import numpy as np\n",
    "from task1.config import ProjectPaths\n",
    "import pandas as pd\n",
    "import torch\n",
    "\n",
    "paths = ProjectPaths()\n",
    "\n",
    "# === 3. Set device ===\n",
    "device = \"mps\" if torch.backends.mps.is_available() else \"cpu\"\n",
    "\n",
    "# === 4. Load and preprocess data ===\n",
    "def load_datasets(path):\n",
    "    df = pd.read_csv(path, sep='\\t')\n",
    "    df = df[df['label'].isin(['SUBJ', 'OBJ'])].copy()\n",
    "    df['label'] = df['label'].map({'OBJ': 0, 'SUBJ': 1})\n",
    "    df = df[['sentence', 'label']]\n",
    "    return Dataset.from_pandas(df)\n",
    "\n",
    "train_dataset = load_datasets(paths.german_data_dir / \"train_de.tsv\")\n",
    "val_dataset   = load_datasets(paths.german_data_dir / \"dev_de.tsv\")\n",
    "test_dataset  = load_datasets(paths.german_data_dir / \"dev_test_de.tsv\")"
   ]
  },
  {
   "cell_type": "code",
   "execution_count": 2,
   "id": "adeab5d2",
   "metadata": {},
   "outputs": [
    {
     "name": "stderr",
     "output_type": "stream",
     "text": [
      "Some weights of DebertaV2ForSequenceClassification were not initialized from the model checkpoint at microsoft/deberta-v3-base and are newly initialized: ['classifier.bias', 'classifier.weight', 'pooler.dense.bias', 'pooler.dense.weight']\n",
      "You should probably TRAIN this model on a down-stream task to be able to use it for predictions and inference.\n",
      "d:\\Master\\AN1SEM2\\BioNLP\\CLEF2025-CheckThat\\task1\\.venv\\Lib\\site-packages\\transformers\\convert_slow_tokenizer.py:560: UserWarning: The sentencepiece tokenizer that you are converting to a fast tokenizer uses the byte fallback option which is not implemented in the fast tokenizers. In practice this means that the fast version of the tokenizer can produce unknown tokens whereas the sentencepiece version would have converted these unknown tokens into a sequence of byte tokens matching the original piece of text.\n",
      "  warnings.warn(\n"
     ]
    }
   ],
   "source": [
    "model_name = \"microsoft/deberta-v3-base\"\n",
    "model = AutoModelForSequenceClassification.from_pretrained(model_name, num_labels=2)\n",
    "tokenizer = AutoTokenizer.from_pretrained(model_name)"
   ]
  },
  {
   "cell_type": "code",
   "execution_count": 3,
   "id": "fd9d579c",
   "metadata": {},
   "outputs": [
    {
     "data": {
      "application/vnd.jupyter.widget-view+json": {
       "model_id": "8b32d151a4c8439aa46144e2e87cc084",
       "version_major": 2,
       "version_minor": 0
      },
      "text/plain": [
       "Map:   0%|          | 0/800 [00:00<?, ? examples/s]"
      ]
     },
     "metadata": {},
     "output_type": "display_data"
    },
    {
     "data": {
      "application/vnd.jupyter.widget-view+json": {
       "model_id": "0e4f2f06587b445ca1c4c5c307f2b995",
       "version_major": 2,
       "version_minor": 0
      },
      "text/plain": [
       "Map:   0%|          | 0/491 [00:00<?, ? examples/s]"
      ]
     },
     "metadata": {},
     "output_type": "display_data"
    },
    {
     "data": {
      "application/vnd.jupyter.widget-view+json": {
       "model_id": "eb0bcc94c0474e7b85b1a8ca29ac17cd",
       "version_major": 2,
       "version_minor": 0
      },
      "text/plain": [
       "Map:   0%|          | 0/224 [00:00<?, ? examples/s]"
      ]
     },
     "metadata": {},
     "output_type": "display_data"
    }
   ],
   "source": [
    "def tokenize_fn(examples):\n",
    "    return tokenizer(\n",
    "        examples[\"sentence\"],\n",
    "        padding=\"max_length\",\n",
    "        truncation=True,\n",
    "        max_length=128\n",
    "    )\n",
    "\n",
    "train_dataset = train_dataset.map(tokenize_fn, batched=True)\n",
    "val_dataset = val_dataset.map(tokenize_fn, batched=True)\n",
    "test_dataset = test_dataset.map(tokenize_fn, batched=True)\n",
    "\n",
    "train_dataset = train_dataset.rename_column(\"label\", \"labels\")\n",
    "val_dataset = val_dataset.rename_column(\"label\", \"labels\")\n",
    "test_dataset = test_dataset.rename_column(\"label\", \"labels\")\n",
    "\n",
    "train_dataset.set_format(type=\"torch\", columns=[\"input_ids\", \"attention_mask\", \"labels\"])\n",
    "val_dataset.set_format(type=\"torch\", columns=[\"input_ids\", \"attention_mask\", \"labels\"])\n",
    "test_dataset.set_format(type=\"torch\", columns=[\"input_ids\", \"attention_mask\", \"labels\"])"
   ]
  },
  {
   "cell_type": "code",
   "execution_count": 4,
   "id": "7749e701",
   "metadata": {},
   "outputs": [],
   "source": [
    "lora_config = LoraConfig(\n",
    "    r=16,\n",
    "    lora_alpha=32,\n",
    "    lora_dropout=0.05,\n",
    "    task_type=TaskType.SEQ_CLS,\n",
    "    target_modules=[\"query_proj\", \"key_proj\", \"value_proj\", \"dense\"] \n",
    ")\n",
    "\n",
    "model = get_peft_model(model, lora_config).to(device)"
   ]
  },
  {
   "cell_type": "code",
   "execution_count": 6,
   "id": "5944b3b5",
   "metadata": {},
   "outputs": [],
   "source": [
    "f1 = evaluate.load(\"f1\")\n",
    "accuracy = evaluate.load(\"accuracy\")\n",
    "precision = evaluate.load(\"precision\")\n",
    "recall = evaluate.load(\"recall\")\n",
    "\n",
    "def compute_metrics(eval_pred):\n",
    "    logits, labels = eval_pred\n",
    "    preds = np.argmax(logits, axis=-1)\n",
    "    return {\n",
    "        \"accuracy\": accuracy.compute(predictions=preds, references=labels)[\"accuracy\"],\n",
    "        \"f1_macro\": f1.compute(predictions=preds, references=labels, average=\"macro\")[\"f1\"],\n",
    "        \"precision\": precision.compute(predictions=preds, references=labels, average=\"macro\")[\"precision\"],\n",
    "        \"recall\": recall.compute(predictions=preds, references=labels, average=\"macro\")[\"recall\"],\n",
    "    }"
   ]
  },
  {
   "cell_type": "code",
   "execution_count": null,
   "id": "4ec92d26",
   "metadata": {},
   "outputs": [],
   "source": [
    "# === 8. TrainingArguments ===\n",
    "training_args = TrainingArguments(\n",
    "    output_dir=\"./results/german-lora\",\n",
    "    per_device_train_batch_size=4,\n",
    "    per_device_eval_batch_size=4,\n",
    "    num_train_epochs=10,\n",
    "    eval_strategy=\"epoch\",\n",
    "    save_strategy=\"epoch\",\n",
    "    logging_steps=10,\n",
    "    load_best_model_at_end=True,\n",
    "    metric_for_best_model=\"f1_macro\",\n",
    ")"
   ]
  },
  {
   "cell_type": "code",
   "execution_count": 7,
   "id": "a6b722c5",
   "metadata": {},
   "outputs": [
    {
     "data": {
      "application/vnd.jupyter.widget-view+json": {
       "model_id": "9f1ae0b2a2cd4ccaa29932622cffe656",
       "version_major": 2,
       "version_minor": 0
      },
      "text/plain": [
       "  0%|          | 0/2000 [00:00<?, ?it/s]"
      ]
     },
     "metadata": {},
     "output_type": "display_data"
    },
    {
     "name": "stderr",
     "output_type": "stream",
     "text": [
      "d:\\Master\\AN1SEM2\\BioNLP\\CLEF2025-CheckThat\\task1\\.venv\\Lib\\site-packages\\torch\\utils\\data\\dataloader.py:665: UserWarning: 'pin_memory' argument is set as true but no accelerator is found, then device pinned memory won't be used.\n",
      "  warnings.warn(warn_msg)\n"
     ]
    },
    {
     "name": "stdout",
     "output_type": "stream",
     "text": [
      "{'loss': 0.698, 'grad_norm': 1.0093352794647217, 'learning_rate': 4.975e-05, 'epoch': 0.05}\n",
      "{'loss': 0.6847, 'grad_norm': 0.8912144899368286, 'learning_rate': 4.9500000000000004e-05, 'epoch': 0.1}\n",
      "{'loss': 0.6779, 'grad_norm': 4.017972469329834, 'learning_rate': 4.9250000000000004e-05, 'epoch': 0.15}\n",
      "{'loss': 0.6861, 'grad_norm': 2.537973165512085, 'learning_rate': 4.9e-05, 'epoch': 0.2}\n",
      "{'loss': 0.6901, 'grad_norm': 1.059810996055603, 'learning_rate': 4.875e-05, 'epoch': 0.25}\n",
      "{'loss': 0.6856, 'grad_norm': 1.1726713180541992, 'learning_rate': 4.85e-05, 'epoch': 0.3}\n",
      "{'loss': 0.6725, 'grad_norm': 1.6457667350769043, 'learning_rate': 4.825e-05, 'epoch': 0.35}\n",
      "{'loss': 0.6794, 'grad_norm': 1.1387596130371094, 'learning_rate': 4.8e-05, 'epoch': 0.4}\n",
      "{'loss': 0.6957, 'grad_norm': 1.1148936748504639, 'learning_rate': 4.775e-05, 'epoch': 0.45}\n",
      "{'loss': 0.675, 'grad_norm': 3.504206418991089, 'learning_rate': 4.75e-05, 'epoch': 0.5}\n",
      "{'loss': 0.68, 'grad_norm': 1.607285499572754, 'learning_rate': 4.7249999999999997e-05, 'epoch': 0.55}\n",
      "{'loss': 0.6466, 'grad_norm': 1.722039818763733, 'learning_rate': 4.7e-05, 'epoch': 0.6}\n",
      "{'loss': 0.6618, 'grad_norm': 1.371619462966919, 'learning_rate': 4.6750000000000005e-05, 'epoch': 0.65}\n",
      "{'loss': 0.6112, 'grad_norm': 1.379071593284607, 'learning_rate': 4.6500000000000005e-05, 'epoch': 0.7}\n",
      "{'loss': 0.6757, 'grad_norm': 1.2595160007476807, 'learning_rate': 4.6250000000000006e-05, 'epoch': 0.75}\n",
      "{'loss': 0.6253, 'grad_norm': 1.357336401939392, 'learning_rate': 4.600000000000001e-05, 'epoch': 0.8}\n",
      "{'loss': 0.7028, 'grad_norm': 2.1099908351898193, 'learning_rate': 4.575e-05, 'epoch': 0.85}\n",
      "{'loss': 0.6499, 'grad_norm': 3.3497798442840576, 'learning_rate': 4.55e-05, 'epoch': 0.9}\n",
      "{'loss': 0.6372, 'grad_norm': 3.587963104248047, 'learning_rate': 4.525e-05, 'epoch': 0.95}\n",
      "{'loss': 0.6167, 'grad_norm': 1.9448834657669067, 'learning_rate': 4.5e-05, 'epoch': 1.0}\n"
     ]
    },
    {
     "data": {
      "application/vnd.jupyter.widget-view+json": {
       "model_id": "29195172edff45359fa9fdebaa48258b",
       "version_major": 2,
       "version_minor": 0
      },
      "text/plain": [
       "  0%|          | 0/123 [00:00<?, ?it/s]"
      ]
     },
     "metadata": {},
     "output_type": "display_data"
    },
    {
     "name": "stderr",
     "output_type": "stream",
     "text": [
      "d:\\Master\\AN1SEM2\\BioNLP\\CLEF2025-CheckThat\\task1\\.venv\\Lib\\site-packages\\sklearn\\metrics\\_classification.py:1706: UndefinedMetricWarning: Precision is ill-defined and being set to 0.0 in labels with no predicted samples. Use `zero_division` parameter to control this behavior.\n",
      "  _warn_prf(average, modifier, f\"{metric.capitalize()} is\", result.shape[0])\n"
     ]
    },
    {
     "name": "stdout",
     "output_type": "stream",
     "text": [
      "{'eval_loss': 0.6099659204483032, 'eval_accuracy': 0.6456211812627292, 'eval_f1_macro': 0.39232673267326734, 'eval_precision': 0.3228105906313646, 'eval_recall': 0.5, 'eval_runtime': 34.4583, 'eval_samples_per_second': 14.249, 'eval_steps_per_second': 3.57, 'epoch': 1.0}\n"
     ]
    },
    {
     "name": "stderr",
     "output_type": "stream",
     "text": [
      "d:\\Master\\AN1SEM2\\BioNLP\\CLEF2025-CheckThat\\task1\\.venv\\Lib\\site-packages\\peft\\utils\\other.py:611: UserWarning: Unable to fetch remote file due to the following error (ReadTimeoutError(\"HTTPSConnectionPool(host='huggingface.co', port=443): Read timed out. (read timeout=10)\"), '(Request ID: 6a5789c4-a73c-4858-adda-5141c3d4bf8a)') - silently ignoring the lookup for the file config.json in microsoft/deberta-v3-base.\n",
      "  warnings.warn(\n",
      "d:\\Master\\AN1SEM2\\BioNLP\\CLEF2025-CheckThat\\task1\\.venv\\Lib\\site-packages\\peft\\utils\\save_and_load.py:195: UserWarning: Could not find a config file in microsoft/deberta-v3-base - will assume that the vocabulary was not modified.\n",
      "  warnings.warn(\n",
      "d:\\Master\\AN1SEM2\\BioNLP\\CLEF2025-CheckThat\\task1\\.venv\\Lib\\site-packages\\torch\\utils\\data\\dataloader.py:665: UserWarning: 'pin_memory' argument is set as true but no accelerator is found, then device pinned memory won't be used.\n",
      "  warnings.warn(warn_msg)\n"
     ]
    },
    {
     "name": "stdout",
     "output_type": "stream",
     "text": [
      "{'loss': 0.6153, 'grad_norm': 2.0795321464538574, 'learning_rate': 4.4750000000000004e-05, 'epoch': 1.05}\n",
      "{'loss': 0.6246, 'grad_norm': 5.234572887420654, 'learning_rate': 4.4500000000000004e-05, 'epoch': 1.1}\n",
      "{'loss': 0.5835, 'grad_norm': 6.685357093811035, 'learning_rate': 4.4250000000000005e-05, 'epoch': 1.15}\n",
      "{'loss': 0.5483, 'grad_norm': 2.2409069538116455, 'learning_rate': 4.4000000000000006e-05, 'epoch': 1.2}\n",
      "{'loss': 0.7534, 'grad_norm': 3.4226462841033936, 'learning_rate': 4.375e-05, 'epoch': 1.25}\n",
      "{'loss': 0.5258, 'grad_norm': 2.0268568992614746, 'learning_rate': 4.35e-05, 'epoch': 1.3}\n",
      "{'loss': 0.4316, 'grad_norm': 3.295642375946045, 'learning_rate': 4.325e-05, 'epoch': 1.35}\n",
      "{'loss': 0.5612, 'grad_norm': 6.478327751159668, 'learning_rate': 4.3e-05, 'epoch': 1.4}\n",
      "{'loss': 0.47, 'grad_norm': 2.8996994495391846, 'learning_rate': 4.275e-05, 'epoch': 1.45}\n",
      "{'loss': 0.4762, 'grad_norm': 2.0921897888183594, 'learning_rate': 4.25e-05, 'epoch': 1.5}\n",
      "{'loss': 0.5978, 'grad_norm': 1.5647293329238892, 'learning_rate': 4.2250000000000004e-05, 'epoch': 1.55}\n",
      "{'loss': 0.5431, 'grad_norm': 21.94977569580078, 'learning_rate': 4.2e-05, 'epoch': 1.6}\n",
      "{'loss': 0.6047, 'grad_norm': 11.363585472106934, 'learning_rate': 4.175e-05, 'epoch': 1.65}\n",
      "{'loss': 0.3948, 'grad_norm': 10.839645385742188, 'learning_rate': 4.15e-05, 'epoch': 1.7}\n",
      "{'loss': 0.4962, 'grad_norm': 5.172011852264404, 'learning_rate': 4.125e-05, 'epoch': 1.75}\n",
      "{'loss': 0.6793, 'grad_norm': 16.166107177734375, 'learning_rate': 4.1e-05, 'epoch': 1.8}\n",
      "{'loss': 0.4701, 'grad_norm': 2.578277826309204, 'learning_rate': 4.075e-05, 'epoch': 1.85}\n",
      "{'loss': 0.4916, 'grad_norm': 3.113140106201172, 'learning_rate': 4.05e-05, 'epoch': 1.9}\n",
      "{'loss': 0.4748, 'grad_norm': 4.812695503234863, 'learning_rate': 4.025e-05, 'epoch': 1.95}\n",
      "{'loss': 0.4183, 'grad_norm': 6.7429022789001465, 'learning_rate': 4e-05, 'epoch': 2.0}\n"
     ]
    },
    {
     "data": {
      "application/vnd.jupyter.widget-view+json": {
       "model_id": "e8a342c5df1242f58864e71b7daf75da",
       "version_major": 2,
       "version_minor": 0
      },
      "text/plain": [
       "  0%|          | 0/123 [00:00<?, ?it/s]"
      ]
     },
     "metadata": {},
     "output_type": "display_data"
    },
    {
     "name": "stdout",
     "output_type": "stream",
     "text": [
      "{'eval_loss': 0.5724183320999146, 'eval_accuracy': 0.790224032586558, 'eval_f1_macro': 0.7550766399496331, 'eval_precision': 0.784107294317218, 'eval_recall': 0.7429112730700895, 'eval_runtime': 34.4036, 'eval_samples_per_second': 14.272, 'eval_steps_per_second': 3.575, 'epoch': 2.0}\n"
     ]
    },
    {
     "name": "stderr",
     "output_type": "stream",
     "text": [
      "d:\\Master\\AN1SEM2\\BioNLP\\CLEF2025-CheckThat\\task1\\.venv\\Lib\\site-packages\\huggingface_hub\\file_download.py:943: FutureWarning: `resume_download` is deprecated and will be removed in version 1.0.0. Downloads always resume when possible. If you want to force a new download, use `force_download=True`.\n",
      "  warnings.warn(\n",
      "d:\\Master\\AN1SEM2\\BioNLP\\CLEF2025-CheckThat\\task1\\.venv\\Lib\\site-packages\\torch\\utils\\data\\dataloader.py:665: UserWarning: 'pin_memory' argument is set as true but no accelerator is found, then device pinned memory won't be used.\n",
      "  warnings.warn(warn_msg)\n"
     ]
    },
    {
     "name": "stdout",
     "output_type": "stream",
     "text": [
      "{'loss': 0.6848, 'grad_norm': 6.422117710113525, 'learning_rate': 3.9750000000000004e-05, 'epoch': 2.05}\n",
      "{'loss': 0.5914, 'grad_norm': 5.8491621017456055, 'learning_rate': 3.9500000000000005e-05, 'epoch': 2.1}\n",
      "{'loss': 0.5321, 'grad_norm': 4.48037576675415, 'learning_rate': 3.9250000000000005e-05, 'epoch': 2.15}\n",
      "{'loss': 0.4377, 'grad_norm': 6.738595008850098, 'learning_rate': 3.9000000000000006e-05, 'epoch': 2.2}\n",
      "{'loss': 0.5727, 'grad_norm': 8.040727615356445, 'learning_rate': 3.875e-05, 'epoch': 2.25}\n",
      "{'loss': 0.3754, 'grad_norm': 3.41043758392334, 'learning_rate': 3.85e-05, 'epoch': 2.3}\n",
      "{'loss': 0.3021, 'grad_norm': 6.2868733406066895, 'learning_rate': 3.825e-05, 'epoch': 2.35}\n",
      "{'loss': 0.3866, 'grad_norm': 0.870008111000061, 'learning_rate': 3.8e-05, 'epoch': 2.4}\n",
      "{'loss': 0.4233, 'grad_norm': 8.270454406738281, 'learning_rate': 3.775e-05, 'epoch': 2.45}\n",
      "{'loss': 0.292, 'grad_norm': 0.5077714920043945, 'learning_rate': 3.7500000000000003e-05, 'epoch': 2.5}\n",
      "{'loss': 0.6156, 'grad_norm': 6.575389385223389, 'learning_rate': 3.7250000000000004e-05, 'epoch': 2.55}\n",
      "{'loss': 0.5611, 'grad_norm': 0.6234756708145142, 'learning_rate': 3.7e-05, 'epoch': 2.6}\n",
      "{'loss': 0.4859, 'grad_norm': 1.2458200454711914, 'learning_rate': 3.675e-05, 'epoch': 2.65}\n",
      "{'loss': 0.2402, 'grad_norm': 0.27576157450675964, 'learning_rate': 3.65e-05, 'epoch': 2.7}\n",
      "{'loss': 0.5745, 'grad_norm': 20.12755012512207, 'learning_rate': 3.625e-05, 'epoch': 2.75}\n",
      "{'loss': 0.6312, 'grad_norm': 1.6180522441864014, 'learning_rate': 3.6e-05, 'epoch': 2.8}\n",
      "{'loss': 0.4679, 'grad_norm': 11.700082778930664, 'learning_rate': 3.575e-05, 'epoch': 2.85}\n",
      "{'loss': 0.5908, 'grad_norm': 7.0595316886901855, 'learning_rate': 3.55e-05, 'epoch': 2.9}\n",
      "{'loss': 0.386, 'grad_norm': 17.892959594726562, 'learning_rate': 3.525e-05, 'epoch': 2.95}\n",
      "{'loss': 0.3401, 'grad_norm': 16.428022384643555, 'learning_rate': 3.5e-05, 'epoch': 3.0}\n"
     ]
    },
    {
     "data": {
      "application/vnd.jupyter.widget-view+json": {
       "model_id": "9cfe86a91c7d4f28a20f79004e855cbe",
       "version_major": 2,
       "version_minor": 0
      },
      "text/plain": [
       "  0%|          | 0/123 [00:00<?, ?it/s]"
      ]
     },
     "metadata": {},
     "output_type": "display_data"
    },
    {
     "name": "stdout",
     "output_type": "stream",
     "text": [
      "{'eval_loss': 0.5591015219688416, 'eval_accuracy': 0.7942973523421588, 'eval_f1_macro': 0.7606900711786705, 'eval_precision': 0.7880560339395977, 'eval_recall': 0.7486583995068712, 'eval_runtime': 33.7568, 'eval_samples_per_second': 14.545, 'eval_steps_per_second': 3.644, 'epoch': 3.0}\n"
     ]
    },
    {
     "name": "stderr",
     "output_type": "stream",
     "text": [
      "d:\\Master\\AN1SEM2\\BioNLP\\CLEF2025-CheckThat\\task1\\.venv\\Lib\\site-packages\\peft\\utils\\other.py:611: UserWarning: Unable to fetch remote file due to the following error (ReadTimeoutError(\"HTTPSConnectionPool(host='huggingface.co', port=443): Read timed out. (read timeout=10)\"), '(Request ID: 8193cc70-2f70-4145-9298-3aeb3a40b80d)') - silently ignoring the lookup for the file config.json in microsoft/deberta-v3-base.\n",
      "  warnings.warn(\n",
      "d:\\Master\\AN1SEM2\\BioNLP\\CLEF2025-CheckThat\\task1\\.venv\\Lib\\site-packages\\peft\\utils\\save_and_load.py:195: UserWarning: Could not find a config file in microsoft/deberta-v3-base - will assume that the vocabulary was not modified.\n",
      "  warnings.warn(\n",
      "d:\\Master\\AN1SEM2\\BioNLP\\CLEF2025-CheckThat\\task1\\.venv\\Lib\\site-packages\\torch\\utils\\data\\dataloader.py:665: UserWarning: 'pin_memory' argument is set as true but no accelerator is found, then device pinned memory won't be used.\n",
      "  warnings.warn(warn_msg)\n"
     ]
    },
    {
     "name": "stdout",
     "output_type": "stream",
     "text": [
      "{'loss': 0.3755, 'grad_norm': 11.864304542541504, 'learning_rate': 3.475e-05, 'epoch': 3.05}\n",
      "{'loss': 0.6366, 'grad_norm': 1.7812657356262207, 'learning_rate': 3.45e-05, 'epoch': 3.1}\n",
      "{'loss': 0.2009, 'grad_norm': 6.208560466766357, 'learning_rate': 3.4250000000000006e-05, 'epoch': 3.15}\n",
      "{'loss': 0.4098, 'grad_norm': 1.1339534521102905, 'learning_rate': 3.4000000000000007e-05, 'epoch': 3.2}\n",
      "{'loss': 0.3046, 'grad_norm': 1.8611352443695068, 'learning_rate': 3.375000000000001e-05, 'epoch': 3.25}\n",
      "{'loss': 0.278, 'grad_norm': 2.419081926345825, 'learning_rate': 3.35e-05, 'epoch': 3.3}\n",
      "{'loss': 0.3122, 'grad_norm': 12.009300231933594, 'learning_rate': 3.325e-05, 'epoch': 3.35}\n",
      "{'loss': 0.5878, 'grad_norm': 6.370048999786377, 'learning_rate': 3.3e-05, 'epoch': 3.4}\n",
      "{'loss': 0.3893, 'grad_norm': 57.58097839355469, 'learning_rate': 3.275e-05, 'epoch': 3.45}\n",
      "{'loss': 0.4884, 'grad_norm': 5.851184368133545, 'learning_rate': 3.2500000000000004e-05, 'epoch': 3.5}\n",
      "{'loss': 0.4942, 'grad_norm': 5.628174304962158, 'learning_rate': 3.2250000000000005e-05, 'epoch': 3.55}\n",
      "{'loss': 0.677, 'grad_norm': 43.151519775390625, 'learning_rate': 3.2000000000000005e-05, 'epoch': 3.6}\n",
      "{'loss': 0.2303, 'grad_norm': 19.815723419189453, 'learning_rate': 3.175e-05, 'epoch': 3.65}\n",
      "{'loss': 0.4786, 'grad_norm': 9.025120735168457, 'learning_rate': 3.15e-05, 'epoch': 3.7}\n",
      "{'loss': 0.6428, 'grad_norm': 12.072432518005371, 'learning_rate': 3.125e-05, 'epoch': 3.75}\n",
      "{'loss': 0.9993, 'grad_norm': 27.17485809326172, 'learning_rate': 3.1e-05, 'epoch': 3.8}\n",
      "{'loss': 0.5659, 'grad_norm': 9.15536117553711, 'learning_rate': 3.075e-05, 'epoch': 3.85}\n",
      "{'loss': 0.4781, 'grad_norm': 8.187472343444824, 'learning_rate': 3.05e-05, 'epoch': 3.9}\n",
      "{'loss': 0.2214, 'grad_norm': 2.505319833755493, 'learning_rate': 3.025e-05, 'epoch': 3.95}\n",
      "{'loss': 0.2222, 'grad_norm': 0.8176316022872925, 'learning_rate': 3e-05, 'epoch': 4.0}\n"
     ]
    },
    {
     "data": {
      "application/vnd.jupyter.widget-view+json": {
       "model_id": "cf125bda459842a9acc2e56fcc7872df",
       "version_major": 2,
       "version_minor": 0
      },
      "text/plain": [
       "  0%|          | 0/123 [00:00<?, ?it/s]"
      ]
     },
     "metadata": {},
     "output_type": "display_data"
    },
    {
     "name": "stdout",
     "output_type": "stream",
     "text": [
      "{'eval_loss': 0.6268304586410522, 'eval_accuracy': 0.8105906313645621, 'eval_f1_macro': 0.7916615338288233, 'eval_precision': 0.7937355286853615, 'eval_recall': 0.7897947713840241, 'eval_runtime': 33.4253, 'eval_samples_per_second': 14.689, 'eval_steps_per_second': 3.68, 'epoch': 4.0}\n"
     ]
    },
    {
     "name": "stderr",
     "output_type": "stream",
     "text": [
      "d:\\Master\\AN1SEM2\\BioNLP\\CLEF2025-CheckThat\\task1\\.venv\\Lib\\site-packages\\huggingface_hub\\file_download.py:943: FutureWarning: `resume_download` is deprecated and will be removed in version 1.0.0. Downloads always resume when possible. If you want to force a new download, use `force_download=True`.\n",
      "  warnings.warn(\n",
      "d:\\Master\\AN1SEM2\\BioNLP\\CLEF2025-CheckThat\\task1\\.venv\\Lib\\site-packages\\torch\\utils\\data\\dataloader.py:665: UserWarning: 'pin_memory' argument is set as true but no accelerator is found, then device pinned memory won't be used.\n",
      "  warnings.warn(warn_msg)\n"
     ]
    },
    {
     "name": "stdout",
     "output_type": "stream",
     "text": [
      "{'loss': 0.3204, 'grad_norm': 10.230814933776855, 'learning_rate': 2.975e-05, 'epoch': 4.05}\n",
      "{'loss': 0.2886, 'grad_norm': 0.5215737223625183, 'learning_rate': 2.95e-05, 'epoch': 4.1}\n",
      "{'loss': 0.3885, 'grad_norm': 19.768505096435547, 'learning_rate': 2.925e-05, 'epoch': 4.15}\n",
      "{'loss': 0.4613, 'grad_norm': 80.20777130126953, 'learning_rate': 2.9e-05, 'epoch': 4.2}\n",
      "{'loss': 0.3234, 'grad_norm': 2.183642864227295, 'learning_rate': 2.8749999999999997e-05, 'epoch': 4.25}\n",
      "{'loss': 0.6794, 'grad_norm': 0.24566130340099335, 'learning_rate': 2.8499999999999998e-05, 'epoch': 4.3}\n",
      "{'loss': 0.3668, 'grad_norm': 0.22714310884475708, 'learning_rate': 2.825e-05, 'epoch': 4.35}\n",
      "{'loss': 0.3986, 'grad_norm': 23.453969955444336, 'learning_rate': 2.8000000000000003e-05, 'epoch': 4.4}\n",
      "{'loss': 0.2513, 'grad_norm': 8.12495231628418, 'learning_rate': 2.7750000000000004e-05, 'epoch': 4.45}\n",
      "{'loss': 0.6551, 'grad_norm': 0.5264950394630432, 'learning_rate': 2.7500000000000004e-05, 'epoch': 4.5}\n",
      "{'loss': 0.3314, 'grad_norm': 34.752342224121094, 'learning_rate': 2.725e-05, 'epoch': 4.55}\n",
      "{'loss': 0.2268, 'grad_norm': 32.775184631347656, 'learning_rate': 2.7000000000000002e-05, 'epoch': 4.6}\n",
      "{'loss': 0.5101, 'grad_norm': 4.988672733306885, 'learning_rate': 2.6750000000000003e-05, 'epoch': 4.65}\n",
      "{'loss': 0.5889, 'grad_norm': 0.41217195987701416, 'learning_rate': 2.6500000000000004e-05, 'epoch': 4.7}\n",
      "{'loss': 0.6127, 'grad_norm': 41.111480712890625, 'learning_rate': 2.625e-05, 'epoch': 4.75}\n",
      "{'loss': 0.2918, 'grad_norm': 1.0031565427780151, 'learning_rate': 2.6000000000000002e-05, 'epoch': 4.8}\n",
      "{'loss': 0.3431, 'grad_norm': 11.958558082580566, 'learning_rate': 2.5750000000000002e-05, 'epoch': 4.85}\n",
      "{'loss': 0.0211, 'grad_norm': 0.1855415403842926, 'learning_rate': 2.5500000000000003e-05, 'epoch': 4.9}\n",
      "{'loss': 0.6912, 'grad_norm': 15.172371864318848, 'learning_rate': 2.525e-05, 'epoch': 4.95}\n",
      "{'loss': 0.318, 'grad_norm': 12.996142387390137, 'learning_rate': 2.5e-05, 'epoch': 5.0}\n"
     ]
    },
    {
     "data": {
      "application/vnd.jupyter.widget-view+json": {
       "model_id": "213814d9f29542f0b024018eccc8e42c",
       "version_major": 2,
       "version_minor": 0
      },
      "text/plain": [
       "  0%|          | 0/123 [00:00<?, ?it/s]"
      ]
     },
     "metadata": {},
     "output_type": "display_data"
    },
    {
     "name": "stdout",
     "output_type": "stream",
     "text": [
      "{'eval_loss': 0.8309823870658875, 'eval_accuracy': 0.8044806517311609, 'eval_f1_macro': 0.7840571742715778, 'eval_precision': 0.7874698795180723, 'eval_recall': 0.7811740817288517, 'eval_runtime': 34.0473, 'eval_samples_per_second': 14.421, 'eval_steps_per_second': 3.613, 'epoch': 5.0}\n"
     ]
    },
    {
     "name": "stderr",
     "output_type": "stream",
     "text": [
      "d:\\Master\\AN1SEM2\\BioNLP\\CLEF2025-CheckThat\\task1\\.venv\\Lib\\site-packages\\peft\\utils\\other.py:611: UserWarning: Unable to fetch remote file due to the following error (ReadTimeoutError(\"HTTPSConnectionPool(host='huggingface.co', port=443): Read timed out. (read timeout=10)\"), '(Request ID: 1581f0e0-d42c-4747-a069-6c205bc94ea7)') - silently ignoring the lookup for the file config.json in microsoft/deberta-v3-base.\n",
      "  warnings.warn(\n",
      "d:\\Master\\AN1SEM2\\BioNLP\\CLEF2025-CheckThat\\task1\\.venv\\Lib\\site-packages\\peft\\utils\\save_and_load.py:195: UserWarning: Could not find a config file in microsoft/deberta-v3-base - will assume that the vocabulary was not modified.\n",
      "  warnings.warn(\n",
      "d:\\Master\\AN1SEM2\\BioNLP\\CLEF2025-CheckThat\\task1\\.venv\\Lib\\site-packages\\torch\\utils\\data\\dataloader.py:665: UserWarning: 'pin_memory' argument is set as true but no accelerator is found, then device pinned memory won't be used.\n",
      "  warnings.warn(warn_msg)\n"
     ]
    },
    {
     "name": "stdout",
     "output_type": "stream",
     "text": [
      "{'loss': 0.3091, 'grad_norm': 3.64620304107666, 'learning_rate': 2.4750000000000002e-05, 'epoch': 5.05}\n",
      "{'loss': 0.8129, 'grad_norm': 70.44954681396484, 'learning_rate': 2.45e-05, 'epoch': 5.1}\n",
      "{'loss': 0.6313, 'grad_norm': 19.144224166870117, 'learning_rate': 2.425e-05, 'epoch': 5.15}\n",
      "{'loss': 0.2371, 'grad_norm': 0.2112981379032135, 'learning_rate': 2.4e-05, 'epoch': 5.2}\n",
      "{'loss': 0.5429, 'grad_norm': 38.014671325683594, 'learning_rate': 2.375e-05, 'epoch': 5.25}\n",
      "{'loss': 0.4821, 'grad_norm': 0.14207525551319122, 'learning_rate': 2.35e-05, 'epoch': 5.3}\n",
      "{'loss': 0.0869, 'grad_norm': 0.35188719630241394, 'learning_rate': 2.3250000000000003e-05, 'epoch': 5.35}\n",
      "{'loss': 0.2992, 'grad_norm': 0.3308786153793335, 'learning_rate': 2.3000000000000003e-05, 'epoch': 5.4}\n",
      "{'loss': 0.2581, 'grad_norm': 4.784211158752441, 'learning_rate': 2.275e-05, 'epoch': 5.45}\n",
      "{'loss': 0.2344, 'grad_norm': 24.362953186035156, 'learning_rate': 2.25e-05, 'epoch': 5.5}\n",
      "{'loss': 0.5609, 'grad_norm': 0.11162679642438889, 'learning_rate': 2.2250000000000002e-05, 'epoch': 5.55}\n",
      "{'loss': 0.3935, 'grad_norm': 10.216913223266602, 'learning_rate': 2.2000000000000003e-05, 'epoch': 5.6}\n",
      "{'loss': 0.1714, 'grad_norm': 0.3158942461013794, 'learning_rate': 2.175e-05, 'epoch': 5.65}\n",
      "{'loss': 0.2431, 'grad_norm': 0.3172363042831421, 'learning_rate': 2.15e-05, 'epoch': 5.7}\n",
      "{'loss': 0.3386, 'grad_norm': 0.12829723954200745, 'learning_rate': 2.125e-05, 'epoch': 5.75}\n",
      "{'loss': 0.4652, 'grad_norm': 3.260680675506592, 'learning_rate': 2.1e-05, 'epoch': 5.8}\n",
      "{'loss': 0.3843, 'grad_norm': 0.1917184442281723, 'learning_rate': 2.075e-05, 'epoch': 5.85}\n",
      "{'loss': 0.2333, 'grad_norm': 3.0010483264923096, 'learning_rate': 2.05e-05, 'epoch': 5.9}\n",
      "{'loss': 0.5627, 'grad_norm': 17.557640075683594, 'learning_rate': 2.025e-05, 'epoch': 5.95}\n",
      "{'loss': 0.2887, 'grad_norm': 10.986666679382324, 'learning_rate': 2e-05, 'epoch': 6.0}\n"
     ]
    },
    {
     "data": {
      "application/vnd.jupyter.widget-view+json": {
       "model_id": "4eb26878bfe24016b6e12f10c49aeded",
       "version_major": 2,
       "version_minor": 0
      },
      "text/plain": [
       "  0%|          | 0/123 [00:00<?, ?it/s]"
      ]
     },
     "metadata": {},
     "output_type": "display_data"
    },
    {
     "name": "stdout",
     "output_type": "stream",
     "text": [
      "{'eval_loss': 0.8500701785087585, 'eval_accuracy': 0.7983706720977597, 'eval_f1_macro': 0.772349841938883, 'eval_precision': 0.7844663030775224, 'eval_recall': 0.7647757351608108, 'eval_runtime': 34.1442, 'eval_samples_per_second': 14.38, 'eval_steps_per_second': 3.602, 'epoch': 6.0}\n"
     ]
    },
    {
     "name": "stderr",
     "output_type": "stream",
     "text": [
      "d:\\Master\\AN1SEM2\\BioNLP\\CLEF2025-CheckThat\\task1\\.venv\\Lib\\site-packages\\huggingface_hub\\file_download.py:943: FutureWarning: `resume_download` is deprecated and will be removed in version 1.0.0. Downloads always resume when possible. If you want to force a new download, use `force_download=True`.\n",
      "  warnings.warn(\n",
      "d:\\Master\\AN1SEM2\\BioNLP\\CLEF2025-CheckThat\\task1\\.venv\\Lib\\site-packages\\torch\\utils\\data\\dataloader.py:665: UserWarning: 'pin_memory' argument is set as true but no accelerator is found, then device pinned memory won't be used.\n",
      "  warnings.warn(warn_msg)\n"
     ]
    },
    {
     "name": "stdout",
     "output_type": "stream",
     "text": [
      "{'loss': 0.5457, 'grad_norm': 0.2998816668987274, 'learning_rate': 1.9750000000000002e-05, 'epoch': 6.05}\n",
      "{'loss': 0.3119, 'grad_norm': 50.33544158935547, 'learning_rate': 1.9500000000000003e-05, 'epoch': 6.1}\n",
      "{'loss': 0.1656, 'grad_norm': 0.1412527859210968, 'learning_rate': 1.925e-05, 'epoch': 6.15}\n",
      "{'loss': 0.4591, 'grad_norm': 8.897539138793945, 'learning_rate': 1.9e-05, 'epoch': 6.2}\n",
      "{'loss': 0.2548, 'grad_norm': 0.13835477828979492, 'learning_rate': 1.8750000000000002e-05, 'epoch': 6.25}\n",
      "{'loss': 0.3071, 'grad_norm': 8.795724868774414, 'learning_rate': 1.85e-05, 'epoch': 6.3}\n",
      "{'loss': 0.1292, 'grad_norm': 0.2912594676017761, 'learning_rate': 1.825e-05, 'epoch': 6.35}\n",
      "{'loss': 0.229, 'grad_norm': 0.1426173895597458, 'learning_rate': 1.8e-05, 'epoch': 6.4}\n",
      "{'loss': 0.1916, 'grad_norm': 4.958477973937988, 'learning_rate': 1.775e-05, 'epoch': 6.45}\n",
      "{'loss': 0.3501, 'grad_norm': 0.9313207268714905, 'learning_rate': 1.75e-05, 'epoch': 6.5}\n",
      "{'loss': 0.4213, 'grad_norm': 0.13779520988464355, 'learning_rate': 1.725e-05, 'epoch': 6.55}\n",
      "{'loss': 0.0949, 'grad_norm': 7.483842849731445, 'learning_rate': 1.7000000000000003e-05, 'epoch': 6.6}\n",
      "{'loss': 0.1339, 'grad_norm': 40.25743103027344, 'learning_rate': 1.675e-05, 'epoch': 6.65}\n",
      "{'loss': 0.5055, 'grad_norm': 0.12692905962467194, 'learning_rate': 1.65e-05, 'epoch': 6.7}\n",
      "{'loss': 0.3982, 'grad_norm': 36.24256896972656, 'learning_rate': 1.6250000000000002e-05, 'epoch': 6.75}\n",
      "{'loss': 0.3198, 'grad_norm': 0.16514678299427032, 'learning_rate': 1.6000000000000003e-05, 'epoch': 6.8}\n",
      "{'loss': 0.3711, 'grad_norm': 0.6210997104644775, 'learning_rate': 1.575e-05, 'epoch': 6.85}\n",
      "{'loss': 0.4392, 'grad_norm': 8.1782808303833, 'learning_rate': 1.55e-05, 'epoch': 6.9}\n",
      "{'loss': 0.5363, 'grad_norm': 0.18701714277267456, 'learning_rate': 1.525e-05, 'epoch': 6.95}\n",
      "{'loss': 0.159, 'grad_norm': 0.21160387992858887, 'learning_rate': 1.5e-05, 'epoch': 7.0}\n"
     ]
    },
    {
     "data": {
      "application/vnd.jupyter.widget-view+json": {
       "model_id": "98962dd9aa2b49b3b1d71ea6291a0177",
       "version_major": 2,
       "version_minor": 0
      },
      "text/plain": [
       "  0%|          | 0/123 [00:00<?, ?it/s]"
      ]
     },
     "metadata": {},
     "output_type": "display_data"
    },
    {
     "name": "stdout",
     "output_type": "stream",
     "text": [
      "{'eval_loss': 0.9580276012420654, 'eval_accuracy': 0.7820773930753564, 'eval_f1_macro': 0.7687194319347412, 'eval_precision': 0.763965374819302, 'eval_recall': 0.7780829616737373, 'eval_runtime': 33.3847, 'eval_samples_per_second': 14.707, 'eval_steps_per_second': 3.684, 'epoch': 7.0}\n"
     ]
    },
    {
     "name": "stderr",
     "output_type": "stream",
     "text": [
      "d:\\Master\\AN1SEM2\\BioNLP\\CLEF2025-CheckThat\\task1\\.venv\\Lib\\site-packages\\peft\\utils\\other.py:611: UserWarning: Unable to fetch remote file due to the following error (ReadTimeoutError(\"HTTPSConnectionPool(host='huggingface.co', port=443): Read timed out. (read timeout=10)\"), '(Request ID: 9ed8a14c-354c-4ad4-9dfc-ef9832ce2691)') - silently ignoring the lookup for the file config.json in microsoft/deberta-v3-base.\n",
      "  warnings.warn(\n",
      "d:\\Master\\AN1SEM2\\BioNLP\\CLEF2025-CheckThat\\task1\\.venv\\Lib\\site-packages\\peft\\utils\\save_and_load.py:195: UserWarning: Could not find a config file in microsoft/deberta-v3-base - will assume that the vocabulary was not modified.\n",
      "  warnings.warn(\n",
      "d:\\Master\\AN1SEM2\\BioNLP\\CLEF2025-CheckThat\\task1\\.venv\\Lib\\site-packages\\torch\\utils\\data\\dataloader.py:665: UserWarning: 'pin_memory' argument is set as true but no accelerator is found, then device pinned memory won't be used.\n",
      "  warnings.warn(warn_msg)\n"
     ]
    },
    {
     "name": "stdout",
     "output_type": "stream",
     "text": [
      "{'loss': 0.2533, 'grad_norm': 0.23080196976661682, 'learning_rate': 1.475e-05, 'epoch': 7.05}\n",
      "{'loss': 0.294, 'grad_norm': 0.10749437659978867, 'learning_rate': 1.45e-05, 'epoch': 7.1}\n",
      "{'loss': 0.1227, 'grad_norm': 1.7650617361068726, 'learning_rate': 1.4249999999999999e-05, 'epoch': 7.15}\n",
      "{'loss': 0.4779, 'grad_norm': 47.398284912109375, 'learning_rate': 1.4000000000000001e-05, 'epoch': 7.2}\n",
      "{'loss': 0.1262, 'grad_norm': 0.15706726908683777, 'learning_rate': 1.3750000000000002e-05, 'epoch': 7.25}\n",
      "{'loss': 0.0346, 'grad_norm': 0.19711123406887054, 'learning_rate': 1.3500000000000001e-05, 'epoch': 7.3}\n",
      "{'loss': 0.1444, 'grad_norm': 0.10522834956645966, 'learning_rate': 1.3250000000000002e-05, 'epoch': 7.35}\n",
      "{'loss': 0.4961, 'grad_norm': 0.09169311076402664, 'learning_rate': 1.3000000000000001e-05, 'epoch': 7.4}\n",
      "{'loss': 0.2951, 'grad_norm': 15.649847030639648, 'learning_rate': 1.2750000000000002e-05, 'epoch': 7.45}\n",
      "{'loss': 0.2575, 'grad_norm': 0.16833791136741638, 'learning_rate': 1.25e-05, 'epoch': 7.5}\n",
      "{'loss': 0.1364, 'grad_norm': 0.8281763792037964, 'learning_rate': 1.225e-05, 'epoch': 7.55}\n",
      "{'loss': 0.4227, 'grad_norm': 0.09647522121667862, 'learning_rate': 1.2e-05, 'epoch': 7.6}\n",
      "{'loss': 0.5064, 'grad_norm': 61.63663864135742, 'learning_rate': 1.175e-05, 'epoch': 7.65}\n",
      "{'loss': 0.1333, 'grad_norm': 0.6961128115653992, 'learning_rate': 1.1500000000000002e-05, 'epoch': 7.7}\n",
      "{'loss': 0.1869, 'grad_norm': 0.34893345832824707, 'learning_rate': 1.125e-05, 'epoch': 7.75}\n",
      "{'loss': 0.2358, 'grad_norm': 0.06282211095094681, 'learning_rate': 1.1000000000000001e-05, 'epoch': 7.8}\n",
      "{'loss': 0.1124, 'grad_norm': 1.7886691093444824, 'learning_rate': 1.075e-05, 'epoch': 7.85}\n",
      "{'loss': 0.4218, 'grad_norm': 0.11472594738006592, 'learning_rate': 1.05e-05, 'epoch': 7.9}\n",
      "{'loss': 0.3373, 'grad_norm': 0.185042604804039, 'learning_rate': 1.025e-05, 'epoch': 7.95}\n",
      "{'loss': 0.4687, 'grad_norm': 20.036977767944336, 'learning_rate': 1e-05, 'epoch': 8.0}\n"
     ]
    },
    {
     "data": {
      "application/vnd.jupyter.widget-view+json": {
       "model_id": "1a4eb58b05094592b8f7b459daf77ecc",
       "version_major": 2,
       "version_minor": 0
      },
      "text/plain": [
       "  0%|          | 0/123 [00:00<?, ?it/s]"
      ]
     },
     "metadata": {},
     "output_type": "display_data"
    },
    {
     "name": "stdout",
     "output_type": "stream",
     "text": [
      "{'eval_loss': 1.0785268545150757, 'eval_accuracy': 0.7780040733197556, 'eval_f1_macro': 0.7675764879595248, 'eval_precision': 0.7633414395244368, 'eval_recall': 0.7827060444541136, 'eval_runtime': 34.2359, 'eval_samples_per_second': 14.342, 'eval_steps_per_second': 3.593, 'epoch': 8.0}\n"
     ]
    },
    {
     "name": "stderr",
     "output_type": "stream",
     "text": [
      "d:\\Master\\AN1SEM2\\BioNLP\\CLEF2025-CheckThat\\task1\\.venv\\Lib\\site-packages\\huggingface_hub\\file_download.py:943: FutureWarning: `resume_download` is deprecated and will be removed in version 1.0.0. Downloads always resume when possible. If you want to force a new download, use `force_download=True`.\n",
      "  warnings.warn(\n",
      "d:\\Master\\AN1SEM2\\BioNLP\\CLEF2025-CheckThat\\task1\\.venv\\Lib\\site-packages\\torch\\utils\\data\\dataloader.py:665: UserWarning: 'pin_memory' argument is set as true but no accelerator is found, then device pinned memory won't be used.\n",
      "  warnings.warn(warn_msg)\n"
     ]
    },
    {
     "name": "stdout",
     "output_type": "stream",
     "text": [
      "{'loss': 0.152, 'grad_norm': 16.217744827270508, 'learning_rate': 9.750000000000002e-06, 'epoch': 8.05}\n",
      "{'loss': 0.2218, 'grad_norm': 71.45085906982422, 'learning_rate': 9.5e-06, 'epoch': 8.1}\n",
      "{'loss': 0.0808, 'grad_norm': 0.1747199296951294, 'learning_rate': 9.25e-06, 'epoch': 8.15}\n",
      "{'loss': 0.1914, 'grad_norm': 0.09392975270748138, 'learning_rate': 9e-06, 'epoch': 8.2}\n",
      "{'loss': 0.027, 'grad_norm': 2.2244338989257812, 'learning_rate': 8.75e-06, 'epoch': 8.25}\n",
      "{'loss': 0.4031, 'grad_norm': 0.10591121762990952, 'learning_rate': 8.500000000000002e-06, 'epoch': 8.3}\n",
      "{'loss': 0.2664, 'grad_norm': 12.813729286193848, 'learning_rate': 8.25e-06, 'epoch': 8.35}\n",
      "{'loss': 0.3007, 'grad_norm': 29.248395919799805, 'learning_rate': 8.000000000000001e-06, 'epoch': 8.4}\n",
      "{'loss': 0.1531, 'grad_norm': 0.14035263657569885, 'learning_rate': 7.75e-06, 'epoch': 8.45}\n",
      "{'loss': 0.4997, 'grad_norm': 36.45167922973633, 'learning_rate': 7.5e-06, 'epoch': 8.5}\n",
      "{'loss': 0.135, 'grad_norm': 0.06193707510828972, 'learning_rate': 7.25e-06, 'epoch': 8.55}\n",
      "{'loss': 0.029, 'grad_norm': 0.05823729932308197, 'learning_rate': 7.000000000000001e-06, 'epoch': 8.6}\n",
      "{'loss': 0.3802, 'grad_norm': 0.11750702559947968, 'learning_rate': 6.750000000000001e-06, 'epoch': 8.65}\n",
      "{'loss': 0.6872, 'grad_norm': 0.17962467670440674, 'learning_rate': 6.5000000000000004e-06, 'epoch': 8.7}\n",
      "{'loss': 0.1047, 'grad_norm': 106.88992309570312, 'learning_rate': 6.25e-06, 'epoch': 8.75}\n",
      "{'loss': 0.7901, 'grad_norm': 9.134718894958496, 'learning_rate': 6e-06, 'epoch': 8.8}\n",
      "{'loss': 0.5292, 'grad_norm': 0.0768594816327095, 'learning_rate': 5.750000000000001e-06, 'epoch': 8.85}\n",
      "{'loss': 0.4454, 'grad_norm': 0.08881262689828873, 'learning_rate': 5.500000000000001e-06, 'epoch': 8.9}\n",
      "{'loss': 0.5191, 'grad_norm': 0.086945541203022, 'learning_rate': 5.25e-06, 'epoch': 8.95}\n",
      "{'loss': 0.3014, 'grad_norm': 0.10429616272449493, 'learning_rate': 5e-06, 'epoch': 9.0}\n"
     ]
    },
    {
     "data": {
      "application/vnd.jupyter.widget-view+json": {
       "model_id": "56744f1560d04a43863fb3cc377cd96b",
       "version_major": 2,
       "version_minor": 0
      },
      "text/plain": [
       "  0%|          | 0/123 [00:00<?, ?it/s]"
      ]
     },
     "metadata": {},
     "output_type": "display_data"
    },
    {
     "name": "stdout",
     "output_type": "stream",
     "text": [
      "{'eval_loss': 1.0276789665222168, 'eval_accuracy': 0.780040733197556, 'eval_f1_macro': 0.7663141195134849, 'eval_precision': 0.7616609783845278, 'eval_recall': 0.7752093984553464, 'eval_runtime': 34.8589, 'eval_samples_per_second': 14.085, 'eval_steps_per_second': 3.529, 'epoch': 9.0}\n"
     ]
    },
    {
     "name": "stderr",
     "output_type": "stream",
     "text": [
      "d:\\Master\\AN1SEM2\\BioNLP\\CLEF2025-CheckThat\\task1\\.venv\\Lib\\site-packages\\peft\\utils\\other.py:611: UserWarning: Unable to fetch remote file due to the following error (ReadTimeoutError(\"HTTPSConnectionPool(host='huggingface.co', port=443): Read timed out. (read timeout=10)\"), '(Request ID: 051e8453-ecb6-434e-91d8-c86bf2cabb67)') - silently ignoring the lookup for the file config.json in microsoft/deberta-v3-base.\n",
      "  warnings.warn(\n",
      "d:\\Master\\AN1SEM2\\BioNLP\\CLEF2025-CheckThat\\task1\\.venv\\Lib\\site-packages\\peft\\utils\\save_and_load.py:195: UserWarning: Could not find a config file in microsoft/deberta-v3-base - will assume that the vocabulary was not modified.\n",
      "  warnings.warn(\n",
      "d:\\Master\\AN1SEM2\\BioNLP\\CLEF2025-CheckThat\\task1\\.venv\\Lib\\site-packages\\torch\\utils\\data\\dataloader.py:665: UserWarning: 'pin_memory' argument is set as true but no accelerator is found, then device pinned memory won't be used.\n",
      "  warnings.warn(warn_msg)\n"
     ]
    },
    {
     "name": "stdout",
     "output_type": "stream",
     "text": [
      "{'loss': 0.0113, 'grad_norm': 2.2192533016204834, 'learning_rate': 4.75e-06, 'epoch': 9.05}\n",
      "{'loss': 0.2576, 'grad_norm': 0.15804658830165863, 'learning_rate': 4.5e-06, 'epoch': 9.1}\n",
      "{'loss': 0.4138, 'grad_norm': 0.27065786719322205, 'learning_rate': 4.250000000000001e-06, 'epoch': 9.15}\n",
      "{'loss': 0.3153, 'grad_norm': 0.9093875288963318, 'learning_rate': 4.000000000000001e-06, 'epoch': 9.2}\n",
      "{'loss': 0.3247, 'grad_norm': 63.24653625488281, 'learning_rate': 3.75e-06, 'epoch': 9.25}\n",
      "{'loss': 0.2971, 'grad_norm': 0.4986174404621124, 'learning_rate': 3.5000000000000004e-06, 'epoch': 9.3}\n",
      "{'loss': 0.1393, 'grad_norm': 0.0940680131316185, 'learning_rate': 3.2500000000000002e-06, 'epoch': 9.35}\n",
      "{'loss': 0.5426, 'grad_norm': 38.61668395996094, 'learning_rate': 3e-06, 'epoch': 9.4}\n",
      "{'loss': 0.0506, 'grad_norm': 0.10592406988143921, 'learning_rate': 2.7500000000000004e-06, 'epoch': 9.45}\n",
      "{'loss': 0.3521, 'grad_norm': 0.33213943243026733, 'learning_rate': 2.5e-06, 'epoch': 9.5}\n",
      "{'loss': 0.2169, 'grad_norm': 0.10763447731733322, 'learning_rate': 2.25e-06, 'epoch': 9.55}\n",
      "{'loss': 0.6708, 'grad_norm': 0.20149533450603485, 'learning_rate': 2.0000000000000003e-06, 'epoch': 9.6}\n",
      "{'loss': 0.0482, 'grad_norm': 0.13623018562793732, 'learning_rate': 1.7500000000000002e-06, 'epoch': 9.65}\n",
      "{'loss': 0.2083, 'grad_norm': 0.11078222095966339, 'learning_rate': 1.5e-06, 'epoch': 9.7}\n",
      "{'loss': 0.237, 'grad_norm': 16.03923988342285, 'learning_rate': 1.25e-06, 'epoch': 9.75}\n",
      "{'loss': 0.2571, 'grad_norm': 0.0852779746055603, 'learning_rate': 1.0000000000000002e-06, 'epoch': 9.8}\n",
      "{'loss': 0.2637, 'grad_norm': 0.08016246557235718, 'learning_rate': 7.5e-07, 'epoch': 9.85}\n",
      "{'loss': 0.1369, 'grad_norm': 0.2717132568359375, 'learning_rate': 5.000000000000001e-07, 'epoch': 9.9}\n",
      "{'loss': 0.1803, 'grad_norm': 27.237884521484375, 'learning_rate': 2.5000000000000004e-07, 'epoch': 9.95}\n",
      "{'loss': 0.1769, 'grad_norm': 26.60393714904785, 'learning_rate': 0.0, 'epoch': 10.0}\n"
     ]
    },
    {
     "data": {
      "application/vnd.jupyter.widget-view+json": {
       "model_id": "33f1a83728204022af2747e378fe9b2e",
       "version_major": 2,
       "version_minor": 0
      },
      "text/plain": [
       "  0%|          | 0/123 [00:00<?, ?it/s]"
      ]
     },
     "metadata": {},
     "output_type": "display_data"
    },
    {
     "name": "stdout",
     "output_type": "stream",
     "text": [
      "{'eval_loss': 1.0055826902389526, 'eval_accuracy': 0.7861507128309573, 'eval_f1_macro': 0.7710752425567815, 'eval_precision': 0.7669808027923212, 'eval_recall': 0.7773487073497951, 'eval_runtime': 34.2975, 'eval_samples_per_second': 14.316, 'eval_steps_per_second': 3.586, 'epoch': 10.0}\n"
     ]
    },
    {
     "name": "stderr",
     "output_type": "stream",
     "text": [
      "d:\\Master\\AN1SEM2\\BioNLP\\CLEF2025-CheckThat\\task1\\.venv\\Lib\\site-packages\\huggingface_hub\\file_download.py:943: FutureWarning: `resume_download` is deprecated and will be removed in version 1.0.0. Downloads always resume when possible. If you want to force a new download, use `force_download=True`.\n",
      "  warnings.warn(\n"
     ]
    },
    {
     "name": "stdout",
     "output_type": "stream",
     "text": [
      "{'train_runtime': 3138.4817, 'train_samples_per_second': 2.549, 'train_steps_per_second': 0.637, 'train_loss': 0.40653089388459923, 'epoch': 10.0}\n"
     ]
    },
    {
     "name": "stderr",
     "output_type": "stream",
     "text": [
      "d:\\Master\\AN1SEM2\\BioNLP\\CLEF2025-CheckThat\\task1\\.venv\\Lib\\site-packages\\torch\\utils\\data\\dataloader.py:665: UserWarning: 'pin_memory' argument is set as true but no accelerator is found, then device pinned memory won't be used.\n",
      "  warnings.warn(warn_msg)\n"
     ]
    },
    {
     "data": {
      "application/vnd.jupyter.widget-view+json": {
       "model_id": "cc3b64c9e8f049afb1528a9b4a1c03af",
       "version_major": 2,
       "version_minor": 0
      },
      "text/plain": [
       "  0%|          | 0/56 [00:00<?, ?it/s]"
      ]
     },
     "metadata": {},
     "output_type": "display_data"
    },
    {
     "data": {
      "text/plain": [
       "{'eval_loss': 0.49777624011039734,\n",
       " 'eval_accuracy': 0.8392857142857143,\n",
       " 'eval_f1_macro': 0.8183783783783785,\n",
       " 'eval_precision': 0.8126159554730983,\n",
       " 'eval_recall': 0.8257387462027064,\n",
       " 'eval_runtime': 15.5094,\n",
       " 'eval_samples_per_second': 14.443,\n",
       " 'eval_steps_per_second': 3.611,\n",
       " 'epoch': 10.0}"
      ]
     },
     "execution_count": 7,
     "metadata": {},
     "output_type": "execute_result"
    }
   ],
   "source": [
    "trainer = Trainer(\n",
    "    model=model,\n",
    "    args=training_args,\n",
    "    train_dataset=train_dataset,\n",
    "    eval_dataset=val_dataset,\n",
    "    compute_metrics=compute_metrics\n",
    ")\n",
    "\n",
    "# === 10. Train ===\n",
    "trainer.train()\n",
    "\n",
    "# === 11. Evaluate on test set ===\n",
    "trainer.evaluate(eval_dataset=test_dataset)"
   ]
  }
 ],
 "metadata": {
  "kernelspec": {
   "display_name": ".venv",
   "language": "python",
   "name": "python3"
  },
  "language_info": {
   "codemirror_mode": {
    "name": "ipython",
    "version": 3
   },
   "file_extension": ".py",
   "mimetype": "text/x-python",
   "name": "python",
   "nbconvert_exporter": "python",
   "pygments_lexer": "ipython3",
   "version": "3.11.9"
  }
 },
 "nbformat": 4,
 "nbformat_minor": 5
}
