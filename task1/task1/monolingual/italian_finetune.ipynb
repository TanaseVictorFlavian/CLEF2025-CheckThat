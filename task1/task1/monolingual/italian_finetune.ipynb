{
 "cells": [
  {
   "cell_type": "code",
   "execution_count": 1,
   "id": "2221ce46",
   "metadata": {},
   "outputs": [
    {
     "name": "stderr",
     "output_type": "stream",
     "text": [
      "W0615 11:19:09.821000 8624 Lib\\site-packages\\torch\\distributed\\elastic\\multiprocessing\\redirects.py:29] NOTE: Redirects are currently not supported in Windows or MacOs.\n"
     ]
    }
   ],
   "source": [
    "import os \n",
    "\n",
    "os.chdir(\"../..\")\n",
    "\n",
    "from datasets import Dataset, load_dataset\n",
    "from transformers import AutoTokenizer, AutoModelForSeq2SeqLM, TrainingArguments, Trainer, DataCollatorForSeq2Seq, AutoModelForSequenceClassification\n",
    "from peft import get_peft_model, LoraConfig, TaskType\n",
    "import evaluate\n",
    "import numpy as np\n",
    "from task1.config import ProjectPaths\n",
    "import pandas as pd\n",
    "import torch\n",
    "\n",
    "paths = ProjectPaths()\n",
    "\n",
    "# === 3. Set device ===\n",
    "device = \"mps\" if torch.backends.mps.is_available() else \"cpu\"\n",
    "\n",
    "# === 4. Load and preprocess data ===\n",
    "def load_datasets(path):\n",
    "    df = pd.read_csv(path, sep='\\t')\n",
    "    df = df[df['label'].isin(['SUBJ', 'OBJ'])].copy()\n",
    "    df['label'] = df['label'].map({'OBJ': 0, 'SUBJ': 1})\n",
    "    df = df[['sentence', 'label']]\n",
    "    return Dataset.from_pandas(df)\n",
    "\n",
    "train_dataset = load_datasets(paths.italian_data_dir / \"train_it.tsv\")\n",
    "val_dataset   = load_datasets(paths.italian_data_dir / \"dev_it.tsv\")\n",
    "test_dataset  = load_datasets(paths.italian_data_dir / \"dev_test_it.tsv\")\n",
    "competition_test_dataset = load_datasets(paths.italian_data_dir / \"test_it_labeled.tsv\")"
   ]
  },
  {
   "cell_type": "code",
   "execution_count": 2,
   "id": "31ba617c",
   "metadata": {},
   "outputs": [
    {
     "name": "stderr",
     "output_type": "stream",
     "text": [
      "Some weights of CamembertForSequenceClassification were not initialized from the model checkpoint at Musixmatch/umberto-commoncrawl-cased-v1 and are newly initialized: ['classifier.dense.bias', 'classifier.dense.weight', 'classifier.out_proj.bias', 'classifier.out_proj.weight']\n",
      "You should probably TRAIN this model on a down-stream task to be able to use it for predictions and inference.\n",
      "d:\\Master\\AN1SEM2\\BioNLP\\CLEF2025-CheckThat\\task1\\.venv\\Lib\\site-packages\\huggingface_hub\\file_download.py:943: FutureWarning: `resume_download` is deprecated and will be removed in version 1.0.0. Downloads always resume when possible. If you want to force a new download, use `force_download=True`.\n",
      "  warnings.warn(\n"
     ]
    }
   ],
   "source": [
    "model_name = \"Musixmatch/umberto-commoncrawl-cased-v1\"\n",
    "model = AutoModelForSequenceClassification.from_pretrained(model_name, num_labels=2)\n",
    "tokenizer = AutoTokenizer.from_pretrained(model_name)"
   ]
  },
  {
   "cell_type": "code",
   "execution_count": 3,
   "id": "4f49ee70",
   "metadata": {},
   "outputs": [
    {
     "data": {
      "application/vnd.jupyter.widget-view+json": {
       "model_id": "483cb6b0abd644b38636036b9de41101",
       "version_major": 2,
       "version_minor": 0
      },
      "text/plain": [
       "Map:   0%|          | 0/1613 [00:00<?, ? examples/s]"
      ]
     },
     "metadata": {},
     "output_type": "display_data"
    },
    {
     "data": {
      "application/vnd.jupyter.widget-view+json": {
       "model_id": "d4cf7698d71c4552a1de1eb7ac2e3d7e",
       "version_major": 2,
       "version_minor": 0
      },
      "text/plain": [
       "Map:   0%|          | 0/667 [00:00<?, ? examples/s]"
      ]
     },
     "metadata": {},
     "output_type": "display_data"
    },
    {
     "data": {
      "application/vnd.jupyter.widget-view+json": {
       "model_id": "6924604e01a04d93a425407e3abdd4a7",
       "version_major": 2,
       "version_minor": 0
      },
      "text/plain": [
       "Map:   0%|          | 0/462 [00:00<?, ? examples/s]"
      ]
     },
     "metadata": {},
     "output_type": "display_data"
    },
    {
     "data": {
      "application/vnd.jupyter.widget-view+json": {
       "model_id": "af47f7351e9f4272a1c70ba0d3f94b1e",
       "version_major": 2,
       "version_minor": 0
      },
      "text/plain": [
       "Map:   0%|          | 0/299 [00:00<?, ? examples/s]"
      ]
     },
     "metadata": {},
     "output_type": "display_data"
    }
   ],
   "source": [
    "def tokenize_fn(examples):\n",
    "    return tokenizer(\n",
    "        examples[\"sentence\"],\n",
    "        padding=\"max_length\",\n",
    "        truncation=True,\n",
    "        max_length=128\n",
    "    )\n",
    "\n",
    "train_dataset = train_dataset.map(tokenize_fn, batched=True)\n",
    "val_dataset = val_dataset.map(tokenize_fn, batched=True)\n",
    "test_dataset = test_dataset.map(tokenize_fn, batched=True)\n",
    "competition_test_dataset = competition_test_dataset.map(tokenize_fn, batched=True)\n",
    "\n",
    "train_dataset = train_dataset.rename_column(\"label\", \"labels\")\n",
    "val_dataset = val_dataset.rename_column(\"label\", \"labels\")\n",
    "test_dataset = test_dataset.rename_column(\"label\", \"labels\")\n",
    "competition_test_dataset = competition_test_dataset.rename_column(\"label\", \"labels\")\n",
    "\n",
    "train_dataset.set_format(type=\"torch\", columns=[\"input_ids\", \"attention_mask\", \"labels\"])\n",
    "val_dataset.set_format(type=\"torch\", columns=[\"input_ids\", \"attention_mask\", \"labels\"])\n",
    "test_dataset.set_format(type=\"torch\", columns=[\"input_ids\", \"attention_mask\", \"labels\"])\n",
    "competition_test_dataset.set_format(type=\"torch\", columns=[\"input_ids\", \"attention_mask\", \"labels\"])"
   ]
  },
  {
   "cell_type": "code",
   "execution_count": 4,
   "id": "982d55d0",
   "metadata": {},
   "outputs": [],
   "source": [
    "lora_config = LoraConfig(\n",
    "    r=16,\n",
    "    lora_alpha=32,\n",
    "    lora_dropout=0.05,\n",
    "    task_type=TaskType.SEQ_CLS,\n",
    "    target_modules=[\"query\", \"key\", \"value\", \"dense\"] \n",
    ")\n",
    "\n",
    "model = get_peft_model(model, lora_config).to(device)"
   ]
  },
  {
   "cell_type": "code",
   "execution_count": 5,
   "id": "2e03970a",
   "metadata": {},
   "outputs": [],
   "source": [
    "f1 = evaluate.load(\"f1\")\n",
    "accuracy = evaluate.load(\"accuracy\")\n",
    "precision = evaluate.load(\"precision\")\n",
    "recall = evaluate.load(\"recall\")\n",
    "\n",
    "def compute_metrics(eval_pred):\n",
    "    logits, labels = eval_pred\n",
    "    preds = np.argmax(logits, axis=-1)\n",
    "    return {\n",
    "        \"accuracy\": accuracy.compute(predictions=preds, references=labels)[\"accuracy\"],\n",
    "        \"f1_macro\": f1.compute(predictions=preds, references=labels, average=\"macro\")[\"f1\"],\n",
    "        \"precision\": precision.compute(predictions=preds, references=labels, average=\"macro\")[\"precision\"],\n",
    "        \"recall\": recall.compute(predictions=preds, references=labels, average=\"macro\")[\"recall\"],\n",
    "    }"
   ]
  },
  {
   "cell_type": "code",
   "execution_count": 6,
   "id": "b6f3deb9",
   "metadata": {},
   "outputs": [],
   "source": [
    "# === 8. TrainingArguments ===\n",
    "training_args = TrainingArguments(\n",
    "    output_dir=\"./results/italian-lora\",\n",
    "    per_device_train_batch_size=4,\n",
    "    per_device_eval_batch_size=4,\n",
    "    num_train_epochs=10,\n",
    "    eval_strategy=\"epoch\",\n",
    "    save_strategy=\"epoch\",\n",
    "    logging_steps=10,\n",
    "    load_best_model_at_end=True,\n",
    "    metric_for_best_model=\"f1_macro\",\n",
    ")"
   ]
  },
  {
   "cell_type": "code",
   "execution_count": 7,
   "id": "13ed02a3",
   "metadata": {},
   "outputs": [
    {
     "data": {
      "application/vnd.jupyter.widget-view+json": {
       "model_id": "38fdcbd3f02f49b0988ef238a584eb8a",
       "version_major": 2,
       "version_minor": 0
      },
      "text/plain": [
       "  0%|          | 0/4040 [00:00<?, ?it/s]"
      ]
     },
     "metadata": {},
     "output_type": "display_data"
    },
    {
     "name": "stderr",
     "output_type": "stream",
     "text": [
      "d:\\Master\\AN1SEM2\\BioNLP\\CLEF2025-CheckThat\\task1\\.venv\\Lib\\site-packages\\torch\\utils\\data\\dataloader.py:665: UserWarning: 'pin_memory' argument is set as true but no accelerator is found, then device pinned memory won't be used.\n",
      "  warnings.warn(warn_msg)\n"
     ]
    },
    {
     "name": "stdout",
     "output_type": "stream",
     "text": [
      "{'loss': 0.6477, 'grad_norm': 1.2946667671203613, 'learning_rate': 4.987623762376238e-05, 'epoch': 0.02}\n",
      "{'loss': 0.635, 'grad_norm': 2.679760217666626, 'learning_rate': 4.975247524752475e-05, 'epoch': 0.05}\n",
      "{'loss': 0.5162, 'grad_norm': 2.4853668212890625, 'learning_rate': 4.9628712871287133e-05, 'epoch': 0.07}\n",
      "{'loss': 0.5719, 'grad_norm': 2.0953242778778076, 'learning_rate': 4.950495049504951e-05, 'epoch': 0.1}\n",
      "{'loss': 0.547, 'grad_norm': 1.3017030954360962, 'learning_rate': 4.938118811881188e-05, 'epoch': 0.12}\n",
      "{'loss': 0.5817, 'grad_norm': 2.492706537246704, 'learning_rate': 4.925742574257426e-05, 'epoch': 0.15}\n",
      "{'loss': 0.6319, 'grad_norm': 1.0773237943649292, 'learning_rate': 4.913366336633663e-05, 'epoch': 0.17}\n",
      "{'loss': 0.4662, 'grad_norm': 2.4209187030792236, 'learning_rate': 4.9009900990099014e-05, 'epoch': 0.2}\n",
      "{'loss': 0.6549, 'grad_norm': 1.5622074604034424, 'learning_rate': 4.888613861386139e-05, 'epoch': 0.22}\n",
      "{'loss': 0.5656, 'grad_norm': 1.5578254461288452, 'learning_rate': 4.8762376237623764e-05, 'epoch': 0.25}\n",
      "{'loss': 0.5341, 'grad_norm': 1.0860282182693481, 'learning_rate': 4.863861386138614e-05, 'epoch': 0.27}\n",
      "{'loss': 0.5883, 'grad_norm': 2.1295599937438965, 'learning_rate': 4.851485148514851e-05, 'epoch': 0.3}\n",
      "{'loss': 0.5015, 'grad_norm': 1.1069421768188477, 'learning_rate': 4.8391089108910895e-05, 'epoch': 0.32}\n",
      "{'loss': 0.4176, 'grad_norm': 1.1520651578903198, 'learning_rate': 4.826732673267327e-05, 'epoch': 0.35}\n",
      "{'loss': 0.5559, 'grad_norm': 1.2368134260177612, 'learning_rate': 4.8143564356435644e-05, 'epoch': 0.37}\n",
      "{'loss': 0.479, 'grad_norm': 1.5415555238723755, 'learning_rate': 4.801980198019802e-05, 'epoch': 0.4}\n",
      "{'loss': 0.5148, 'grad_norm': 1.487290859222412, 'learning_rate': 4.7896039603960394e-05, 'epoch': 0.42}\n",
      "{'loss': 0.5928, 'grad_norm': 1.0332789421081543, 'learning_rate': 4.7772277227722775e-05, 'epoch': 0.45}\n",
      "{'loss': 0.3751, 'grad_norm': 1.087457537651062, 'learning_rate': 4.764851485148515e-05, 'epoch': 0.47}\n",
      "{'loss': 0.6436, 'grad_norm': 1.4196648597717285, 'learning_rate': 4.7524752475247525e-05, 'epoch': 0.5}\n",
      "{'loss': 0.605, 'grad_norm': 1.2301442623138428, 'learning_rate': 4.74009900990099e-05, 'epoch': 0.52}\n",
      "{'loss': 0.5895, 'grad_norm': 2.4490609169006348, 'learning_rate': 4.7277227722772274e-05, 'epoch': 0.54}\n",
      "{'loss': 0.6201, 'grad_norm': 1.7387667894363403, 'learning_rate': 4.7153465346534656e-05, 'epoch': 0.57}\n",
      "{'loss': 0.5506, 'grad_norm': 1.6842209100723267, 'learning_rate': 4.702970297029703e-05, 'epoch': 0.59}\n",
      "{'loss': 0.5396, 'grad_norm': 1.6351439952850342, 'learning_rate': 4.6905940594059406e-05, 'epoch': 0.62}\n",
      "{'loss': 0.5088, 'grad_norm': 2.9318320751190186, 'learning_rate': 4.678217821782179e-05, 'epoch': 0.64}\n",
      "{'loss': 0.4655, 'grad_norm': 1.8646129369735718, 'learning_rate': 4.665841584158416e-05, 'epoch': 0.67}\n",
      "{'loss': 0.3839, 'grad_norm': 2.147005558013916, 'learning_rate': 4.653465346534654e-05, 'epoch': 0.69}\n",
      "{'loss': 0.5618, 'grad_norm': 4.001557350158691, 'learning_rate': 4.641089108910892e-05, 'epoch': 0.72}\n",
      "{'loss': 0.375, 'grad_norm': 5.149747848510742, 'learning_rate': 4.628712871287129e-05, 'epoch': 0.74}\n",
      "{'loss': 0.4257, 'grad_norm': 1.0832306146621704, 'learning_rate': 4.616336633663367e-05, 'epoch': 0.77}\n",
      "{'loss': 0.4468, 'grad_norm': 5.12796688079834, 'learning_rate': 4.603960396039604e-05, 'epoch': 0.79}\n",
      "{'loss': 0.6169, 'grad_norm': 0.4864051342010498, 'learning_rate': 4.591584158415842e-05, 'epoch': 0.82}\n",
      "{'loss': 0.4687, 'grad_norm': 0.43436166644096375, 'learning_rate': 4.57920792079208e-05, 'epoch': 0.84}\n",
      "{'loss': 0.4301, 'grad_norm': 3.572305202484131, 'learning_rate': 4.5668316831683174e-05, 'epoch': 0.87}\n",
      "{'loss': 0.4524, 'grad_norm': 7.583107948303223, 'learning_rate': 4.554455445544555e-05, 'epoch': 0.89}\n",
      "{'loss': 0.4391, 'grad_norm': 0.7071182727813721, 'learning_rate': 4.542079207920792e-05, 'epoch': 0.92}\n",
      "{'loss': 0.5178, 'grad_norm': 3.7024781703948975, 'learning_rate': 4.52970297029703e-05, 'epoch': 0.94}\n",
      "{'loss': 0.5754, 'grad_norm': 4.805708408355713, 'learning_rate': 4.517326732673268e-05, 'epoch': 0.97}\n",
      "{'loss': 0.5808, 'grad_norm': 2.0583064556121826, 'learning_rate': 4.5049504950495054e-05, 'epoch': 0.99}\n"
     ]
    },
    {
     "data": {
      "application/vnd.jupyter.widget-view+json": {
       "model_id": "2b483f43db7144d684193790c43c5c8d",
       "version_major": 2,
       "version_minor": 0
      },
      "text/plain": [
       "  0%|          | 0/167 [00:00<?, ?it/s]"
      ]
     },
     "metadata": {},
     "output_type": "display_data"
    },
    {
     "name": "stdout",
     "output_type": "stream",
     "text": [
      "{'eval_loss': 0.47414451837539673, 'eval_accuracy': 0.7571214392803598, 'eval_f1_macro': 0.6790297283809795, 'eval_precision': 0.685347261434218, 'eval_recall': 0.6740977747031016, 'eval_runtime': 32.6237, 'eval_samples_per_second': 20.445, 'eval_steps_per_second': 5.119, 'epoch': 1.0}\n"
     ]
    },
    {
     "name": "stderr",
     "output_type": "stream",
     "text": [
      "d:\\Master\\AN1SEM2\\BioNLP\\CLEF2025-CheckThat\\task1\\.venv\\Lib\\site-packages\\peft\\utils\\other.py:611: UserWarning: Unable to fetch remote file due to the following error (ReadTimeoutError(\"HTTPSConnectionPool(host='huggingface.co', port=443): Read timed out. (read timeout=10)\"), '(Request ID: cda36887-42d1-4859-aa07-8385c66a0481)') - silently ignoring the lookup for the file config.json in Musixmatch/umberto-commoncrawl-cased-v1.\n",
      "  warnings.warn(\n",
      "d:\\Master\\AN1SEM2\\BioNLP\\CLEF2025-CheckThat\\task1\\.venv\\Lib\\site-packages\\peft\\utils\\save_and_load.py:195: UserWarning: Could not find a config file in Musixmatch/umberto-commoncrawl-cased-v1 - will assume that the vocabulary was not modified.\n",
      "  warnings.warn(\n",
      "d:\\Master\\AN1SEM2\\BioNLP\\CLEF2025-CheckThat\\task1\\.venv\\Lib\\site-packages\\torch\\utils\\data\\dataloader.py:665: UserWarning: 'pin_memory' argument is set as true but no accelerator is found, then device pinned memory won't be used.\n",
      "  warnings.warn(warn_msg)\n"
     ]
    },
    {
     "name": "stdout",
     "output_type": "stream",
     "text": [
      "{'loss': 0.5636, 'grad_norm': 2.0574791431427, 'learning_rate': 4.492574257425743e-05, 'epoch': 1.01}\n",
      "{'loss': 0.3478, 'grad_norm': 3.224621295928955, 'learning_rate': 4.4801980198019804e-05, 'epoch': 1.04}\n",
      "{'loss': 0.6063, 'grad_norm': 6.774715900421143, 'learning_rate': 4.467821782178218e-05, 'epoch': 1.06}\n",
      "{'loss': 0.5476, 'grad_norm': 6.400738716125488, 'learning_rate': 4.455445544554456e-05, 'epoch': 1.09}\n",
      "{'loss': 0.3547, 'grad_norm': 3.479358673095703, 'learning_rate': 4.4430693069306935e-05, 'epoch': 1.11}\n",
      "{'loss': 0.4181, 'grad_norm': 1.2321308851242065, 'learning_rate': 4.430693069306931e-05, 'epoch': 1.14}\n",
      "{'loss': 0.3813, 'grad_norm': 1.5671265125274658, 'learning_rate': 4.4183168316831684e-05, 'epoch': 1.16}\n",
      "{'loss': 0.3333, 'grad_norm': 9.203937530517578, 'learning_rate': 4.405940594059406e-05, 'epoch': 1.19}\n",
      "{'loss': 0.5131, 'grad_norm': 0.8447697162628174, 'learning_rate': 4.393564356435644e-05, 'epoch': 1.21}\n",
      "{'loss': 0.5567, 'grad_norm': 6.54458475112915, 'learning_rate': 4.3811881188118816e-05, 'epoch': 1.24}\n",
      "{'loss': 0.3079, 'grad_norm': 7.751212120056152, 'learning_rate': 4.368811881188119e-05, 'epoch': 1.26}\n",
      "{'loss': 0.5021, 'grad_norm': 5.466342449188232, 'learning_rate': 4.3564356435643565e-05, 'epoch': 1.29}\n",
      "{'loss': 0.5402, 'grad_norm': 5.599113464355469, 'learning_rate': 4.344059405940594e-05, 'epoch': 1.31}\n",
      "{'loss': 0.3401, 'grad_norm': 2.1157827377319336, 'learning_rate': 4.331683168316832e-05, 'epoch': 1.34}\n",
      "{'loss': 0.5297, 'grad_norm': 3.6353089809417725, 'learning_rate': 4.3193069306930696e-05, 'epoch': 1.36}\n",
      "{'loss': 0.7429, 'grad_norm': 7.957650661468506, 'learning_rate': 4.306930693069307e-05, 'epoch': 1.39}\n",
      "{'loss': 0.3555, 'grad_norm': 2.0437514781951904, 'learning_rate': 4.2945544554455446e-05, 'epoch': 1.41}\n",
      "{'loss': 0.5021, 'grad_norm': 5.04527473449707, 'learning_rate': 4.282178217821782e-05, 'epoch': 1.44}\n",
      "{'loss': 0.4739, 'grad_norm': 2.420750617980957, 'learning_rate': 4.26980198019802e-05, 'epoch': 1.46}\n",
      "{'loss': 0.6052, 'grad_norm': 0.8625784516334534, 'learning_rate': 4.257425742574258e-05, 'epoch': 1.49}\n",
      "{'loss': 0.4189, 'grad_norm': 2.1614201068878174, 'learning_rate': 4.245049504950495e-05, 'epoch': 1.51}\n",
      "{'loss': 0.59, 'grad_norm': 2.773588180541992, 'learning_rate': 4.2326732673267326e-05, 'epoch': 1.53}\n",
      "{'loss': 0.5009, 'grad_norm': 3.251553773880005, 'learning_rate': 4.22029702970297e-05, 'epoch': 1.56}\n",
      "{'loss': 0.3071, 'grad_norm': 0.8981863260269165, 'learning_rate': 4.207920792079208e-05, 'epoch': 1.58}\n",
      "{'loss': 0.5449, 'grad_norm': 2.8227572441101074, 'learning_rate': 4.195544554455446e-05, 'epoch': 1.61}\n",
      "{'loss': 0.5955, 'grad_norm': 3.5371830463409424, 'learning_rate': 4.183168316831683e-05, 'epoch': 1.63}\n",
      "{'loss': 0.3007, 'grad_norm': 0.44512230157852173, 'learning_rate': 4.170792079207921e-05, 'epoch': 1.66}\n",
      "{'loss': 0.3436, 'grad_norm': 0.7158994674682617, 'learning_rate': 4.158415841584158e-05, 'epoch': 1.68}\n",
      "{'loss': 0.3868, 'grad_norm': 3.2929463386535645, 'learning_rate': 4.146039603960396e-05, 'epoch': 1.71}\n",
      "{'loss': 0.4309, 'grad_norm': 0.37049412727355957, 'learning_rate': 4.133663366336634e-05, 'epoch': 1.73}\n",
      "{'loss': 0.4023, 'grad_norm': 7.253843307495117, 'learning_rate': 4.121287128712871e-05, 'epoch': 1.76}\n",
      "{'loss': 0.2718, 'grad_norm': 5.739450931549072, 'learning_rate': 4.108910891089109e-05, 'epoch': 1.78}\n",
      "{'loss': 0.393, 'grad_norm': 5.527040481567383, 'learning_rate': 4.096534653465346e-05, 'epoch': 1.81}\n",
      "{'loss': 0.5132, 'grad_norm': 0.24263988435268402, 'learning_rate': 4.0841584158415844e-05, 'epoch': 1.83}\n",
      "{'loss': 0.7693, 'grad_norm': 3.3329601287841797, 'learning_rate': 4.071782178217822e-05, 'epoch': 1.86}\n",
      "{'loss': 0.4464, 'grad_norm': 10.363943099975586, 'learning_rate': 4.05940594059406e-05, 'epoch': 1.88}\n",
      "{'loss': 0.4295, 'grad_norm': 3.503697156906128, 'learning_rate': 4.0470297029702975e-05, 'epoch': 1.91}\n",
      "{'loss': 0.4209, 'grad_norm': 6.7449140548706055, 'learning_rate': 4.034653465346535e-05, 'epoch': 1.93}\n",
      "{'loss': 0.5832, 'grad_norm': 6.979301452636719, 'learning_rate': 4.0222772277227725e-05, 'epoch': 1.96}\n",
      "{'loss': 0.3682, 'grad_norm': 3.045410633087158, 'learning_rate': 4.0099009900990106e-05, 'epoch': 1.98}\n"
     ]
    },
    {
     "data": {
      "application/vnd.jupyter.widget-view+json": {
       "model_id": "3944e6ad69084a548b95c59b675a30a4",
       "version_major": 2,
       "version_minor": 0
      },
      "text/plain": [
       "  0%|          | 0/167 [00:00<?, ?it/s]"
      ]
     },
     "metadata": {},
     "output_type": "display_data"
    },
    {
     "name": "stdout",
     "output_type": "stream",
     "text": [
      "{'eval_loss': 0.514875054359436, 'eval_accuracy': 0.7886056971514243, 'eval_f1_macro': 0.6641814228021125, 'eval_precision': 0.7567998039696153, 'eval_recall': 0.6450017295053614, 'eval_runtime': 32.7498, 'eval_samples_per_second': 20.367, 'eval_steps_per_second': 5.099, 'epoch': 2.0}\n"
     ]
    },
    {
     "name": "stderr",
     "output_type": "stream",
     "text": [
      "d:\\Master\\AN1SEM2\\BioNLP\\CLEF2025-CheckThat\\task1\\.venv\\Lib\\site-packages\\huggingface_hub\\file_download.py:943: FutureWarning: `resume_download` is deprecated and will be removed in version 1.0.0. Downloads always resume when possible. If you want to force a new download, use `force_download=True`.\n",
      "  warnings.warn(\n",
      "d:\\Master\\AN1SEM2\\BioNLP\\CLEF2025-CheckThat\\task1\\.venv\\Lib\\site-packages\\torch\\utils\\data\\dataloader.py:665: UserWarning: 'pin_memory' argument is set as true but no accelerator is found, then device pinned memory won't be used.\n",
      "  warnings.warn(warn_msg)\n"
     ]
    },
    {
     "name": "stdout",
     "output_type": "stream",
     "text": [
      "{'loss': 0.3128, 'grad_norm': 1.678525447845459, 'learning_rate': 3.997524752475248e-05, 'epoch': 2.0}\n",
      "{'loss': 0.6148, 'grad_norm': 3.3997509479522705, 'learning_rate': 3.9851485148514856e-05, 'epoch': 2.03}\n",
      "{'loss': 0.5547, 'grad_norm': 3.86856746673584, 'learning_rate': 3.972772277227723e-05, 'epoch': 2.05}\n",
      "{'loss': 0.2814, 'grad_norm': 4.017655372619629, 'learning_rate': 3.9603960396039605e-05, 'epoch': 2.08}\n",
      "{'loss': 0.4783, 'grad_norm': 5.097978591918945, 'learning_rate': 3.948019801980199e-05, 'epoch': 2.1}\n",
      "{'loss': 0.5077, 'grad_norm': 1.9345548152923584, 'learning_rate': 3.935643564356436e-05, 'epoch': 2.13}\n",
      "{'loss': 0.5057, 'grad_norm': 2.992550849914551, 'learning_rate': 3.9232673267326736e-05, 'epoch': 2.15}\n",
      "{'loss': 0.3618, 'grad_norm': 1.1169309616088867, 'learning_rate': 3.910891089108911e-05, 'epoch': 2.18}\n",
      "{'loss': 0.6053, 'grad_norm': 1.3776308298110962, 'learning_rate': 3.8985148514851486e-05, 'epoch': 2.2}\n",
      "{'loss': 0.3229, 'grad_norm': 3.1980204582214355, 'learning_rate': 3.886138613861387e-05, 'epoch': 2.23}\n",
      "{'loss': 0.4284, 'grad_norm': 7.192607879638672, 'learning_rate': 3.873762376237624e-05, 'epoch': 2.25}\n",
      "{'loss': 0.2529, 'grad_norm': 0.18724213540554047, 'learning_rate': 3.861386138613862e-05, 'epoch': 2.28}\n",
      "{'loss': 0.2644, 'grad_norm': 1.0918185710906982, 'learning_rate': 3.849009900990099e-05, 'epoch': 2.3}\n",
      "{'loss': 0.3306, 'grad_norm': 9.97968864440918, 'learning_rate': 3.8366336633663367e-05, 'epoch': 2.33}\n",
      "{'loss': 0.4063, 'grad_norm': 3.621389150619507, 'learning_rate': 3.824257425742575e-05, 'epoch': 2.35}\n",
      "{'loss': 0.3054, 'grad_norm': 10.445094108581543, 'learning_rate': 3.811881188118812e-05, 'epoch': 2.38}\n",
      "{'loss': 0.4076, 'grad_norm': 4.32410192489624, 'learning_rate': 3.79950495049505e-05, 'epoch': 2.4}\n",
      "{'loss': 0.3677, 'grad_norm': 6.034614086151123, 'learning_rate': 3.787128712871287e-05, 'epoch': 2.43}\n",
      "{'loss': 0.4598, 'grad_norm': 0.4301411807537079, 'learning_rate': 3.774752475247525e-05, 'epoch': 2.45}\n",
      "{'loss': 0.3497, 'grad_norm': 2.1244008541107178, 'learning_rate': 3.762376237623763e-05, 'epoch': 2.48}\n",
      "{'loss': 0.2745, 'grad_norm': 4.191103935241699, 'learning_rate': 3.7500000000000003e-05, 'epoch': 2.5}\n",
      "{'loss': 0.5732, 'grad_norm': 1.0898715257644653, 'learning_rate': 3.737623762376238e-05, 'epoch': 2.52}\n",
      "{'loss': 0.4046, 'grad_norm': 0.33620938658714294, 'learning_rate': 3.725247524752475e-05, 'epoch': 2.55}\n",
      "{'loss': 0.4266, 'grad_norm': 4.3256330490112305, 'learning_rate': 3.712871287128713e-05, 'epoch': 2.57}\n",
      "{'loss': 0.6795, 'grad_norm': 8.056748390197754, 'learning_rate': 3.700495049504951e-05, 'epoch': 2.6}\n",
      "{'loss': 0.3232, 'grad_norm': 3.9806931018829346, 'learning_rate': 3.6881188118811884e-05, 'epoch': 2.62}\n",
      "{'loss': 0.3282, 'grad_norm': 5.32992696762085, 'learning_rate': 3.675742574257426e-05, 'epoch': 2.65}\n",
      "{'loss': 0.7394, 'grad_norm': 0.9348160624504089, 'learning_rate': 3.6633663366336634e-05, 'epoch': 2.67}\n",
      "{'loss': 0.5453, 'grad_norm': 11.195321083068848, 'learning_rate': 3.650990099009901e-05, 'epoch': 2.7}\n",
      "{'loss': 0.4077, 'grad_norm': 0.4635206162929535, 'learning_rate': 3.638613861386139e-05, 'epoch': 2.72}\n",
      "{'loss': 0.5045, 'grad_norm': 28.21940040588379, 'learning_rate': 3.6262376237623765e-05, 'epoch': 2.75}\n",
      "{'loss': 0.4149, 'grad_norm': 4.154519081115723, 'learning_rate': 3.613861386138614e-05, 'epoch': 2.77}\n",
      "{'loss': 0.3909, 'grad_norm': 6.471695899963379, 'learning_rate': 3.6014851485148514e-05, 'epoch': 2.8}\n",
      "{'loss': 0.285, 'grad_norm': 9.552680969238281, 'learning_rate': 3.589108910891089e-05, 'epoch': 2.82}\n",
      "{'loss': 0.6305, 'grad_norm': 3.8291687965393066, 'learning_rate': 3.576732673267327e-05, 'epoch': 2.85}\n",
      "{'loss': 0.4835, 'grad_norm': 13.302380561828613, 'learning_rate': 3.5643564356435645e-05, 'epoch': 2.87}\n",
      "{'loss': 0.5448, 'grad_norm': 0.18140263855457306, 'learning_rate': 3.551980198019802e-05, 'epoch': 2.9}\n",
      "{'loss': 0.1651, 'grad_norm': 1.4626182317733765, 'learning_rate': 3.5396039603960395e-05, 'epoch': 2.92}\n",
      "{'loss': 0.802, 'grad_norm': 0.15768024325370789, 'learning_rate': 3.527227722772277e-05, 'epoch': 2.95}\n",
      "{'loss': 0.5143, 'grad_norm': 2.49160099029541, 'learning_rate': 3.514851485148515e-05, 'epoch': 2.97}\n",
      "{'loss': 0.5632, 'grad_norm': 3.2543561458587646, 'learning_rate': 3.5024752475247526e-05, 'epoch': 3.0}\n"
     ]
    },
    {
     "data": {
      "application/vnd.jupyter.widget-view+json": {
       "model_id": "745cc741cd3e486fabdb3758855443ee",
       "version_major": 2,
       "version_minor": 0
      },
      "text/plain": [
       "  0%|          | 0/167 [00:00<?, ?it/s]"
      ]
     },
     "metadata": {},
     "output_type": "display_data"
    },
    {
     "name": "stdout",
     "output_type": "stream",
     "text": [
      "{'eval_loss': 0.48362499475479126, 'eval_accuracy': 0.7796101949025487, 'eval_f1_macro': 0.7046654598139117, 'eval_precision': 0.7158552948026632, 'eval_recall': 0.6966216995272685, 'eval_runtime': 32.909, 'eval_samples_per_second': 20.268, 'eval_steps_per_second': 5.075, 'epoch': 3.0}\n"
     ]
    },
    {
     "name": "stderr",
     "output_type": "stream",
     "text": [
      "d:\\Master\\AN1SEM2\\BioNLP\\CLEF2025-CheckThat\\task1\\.venv\\Lib\\site-packages\\peft\\utils\\other.py:611: UserWarning: Unable to fetch remote file due to the following error (ReadTimeoutError(\"HTTPSConnectionPool(host='huggingface.co', port=443): Read timed out. (read timeout=10)\"), '(Request ID: 788e8cea-e673-4b34-8f64-a7f38a546105)') - silently ignoring the lookup for the file config.json in Musixmatch/umberto-commoncrawl-cased-v1.\n",
      "  warnings.warn(\n",
      "d:\\Master\\AN1SEM2\\BioNLP\\CLEF2025-CheckThat\\task1\\.venv\\Lib\\site-packages\\peft\\utils\\save_and_load.py:195: UserWarning: Could not find a config file in Musixmatch/umberto-commoncrawl-cased-v1 - will assume that the vocabulary was not modified.\n",
      "  warnings.warn(\n",
      "d:\\Master\\AN1SEM2\\BioNLP\\CLEF2025-CheckThat\\task1\\.venv\\Lib\\site-packages\\torch\\utils\\data\\dataloader.py:665: UserWarning: 'pin_memory' argument is set as true but no accelerator is found, then device pinned memory won't be used.\n",
      "  warnings.warn(warn_msg)\n"
     ]
    },
    {
     "name": "stdout",
     "output_type": "stream",
     "text": [
      "{'loss': 0.397, 'grad_norm': 3.608808755874634, 'learning_rate': 3.49009900990099e-05, 'epoch': 3.02}\n",
      "{'loss': 0.2299, 'grad_norm': 6.467466831207275, 'learning_rate': 3.4777227722772276e-05, 'epoch': 3.04}\n",
      "{'loss': 0.4534, 'grad_norm': 4.749697685241699, 'learning_rate': 3.465346534653465e-05, 'epoch': 3.07}\n",
      "{'loss': 0.2439, 'grad_norm': 1.773861050605774, 'learning_rate': 3.452970297029703e-05, 'epoch': 3.09}\n",
      "{'loss': 0.5209, 'grad_norm': 7.974883079528809, 'learning_rate': 3.440594059405941e-05, 'epoch': 3.12}\n",
      "{'loss': 0.2245, 'grad_norm': 2.905939817428589, 'learning_rate': 3.428217821782179e-05, 'epoch': 3.14}\n",
      "{'loss': 0.2857, 'grad_norm': 4.490268707275391, 'learning_rate': 3.415841584158416e-05, 'epoch': 3.17}\n",
      "{'loss': 0.5301, 'grad_norm': 10.517884254455566, 'learning_rate': 3.403465346534654e-05, 'epoch': 3.19}\n",
      "{'loss': 0.2658, 'grad_norm': 9.900703430175781, 'learning_rate': 3.391089108910891e-05, 'epoch': 3.22}\n",
      "{'loss': 0.2709, 'grad_norm': 0.37651267647743225, 'learning_rate': 3.3787128712871294e-05, 'epoch': 3.24}\n",
      "{'loss': 0.5682, 'grad_norm': 7.546642303466797, 'learning_rate': 3.366336633663367e-05, 'epoch': 3.27}\n",
      "{'loss': 0.5729, 'grad_norm': 7.30430793762207, 'learning_rate': 3.3539603960396044e-05, 'epoch': 3.29}\n",
      "{'loss': 0.6161, 'grad_norm': 0.42387109994888306, 'learning_rate': 3.341584158415842e-05, 'epoch': 3.32}\n",
      "{'loss': 0.3558, 'grad_norm': 8.185051918029785, 'learning_rate': 3.329207920792079e-05, 'epoch': 3.34}\n",
      "{'loss': 0.3449, 'grad_norm': 0.5580762028694153, 'learning_rate': 3.3168316831683175e-05, 'epoch': 3.37}\n",
      "{'loss': 0.3486, 'grad_norm': 11.761725425720215, 'learning_rate': 3.304455445544555e-05, 'epoch': 3.39}\n",
      "{'loss': 0.3621, 'grad_norm': 2.6349520683288574, 'learning_rate': 3.2920792079207924e-05, 'epoch': 3.42}\n",
      "{'loss': 0.5628, 'grad_norm': 16.910991668701172, 'learning_rate': 3.27970297029703e-05, 'epoch': 3.44}\n",
      "{'loss': 0.2893, 'grad_norm': 8.641111373901367, 'learning_rate': 3.2673267326732674e-05, 'epoch': 3.47}\n",
      "{'loss': 0.2524, 'grad_norm': 15.236648559570312, 'learning_rate': 3.2549504950495055e-05, 'epoch': 3.49}\n",
      "{'loss': 0.4414, 'grad_norm': 6.390271186828613, 'learning_rate': 3.242574257425743e-05, 'epoch': 3.51}\n",
      "{'loss': 0.5358, 'grad_norm': 0.6503633260726929, 'learning_rate': 3.2301980198019805e-05, 'epoch': 3.54}\n",
      "{'loss': 0.6597, 'grad_norm': 16.153905868530273, 'learning_rate': 3.217821782178218e-05, 'epoch': 3.56}\n",
      "{'loss': 0.3807, 'grad_norm': 0.18767179548740387, 'learning_rate': 3.2054455445544554e-05, 'epoch': 3.59}\n",
      "{'loss': 0.3099, 'grad_norm': 13.343132019042969, 'learning_rate': 3.1930693069306936e-05, 'epoch': 3.61}\n",
      "{'loss': 0.4376, 'grad_norm': 1.9004220962524414, 'learning_rate': 3.180693069306931e-05, 'epoch': 3.64}\n",
      "{'loss': 0.6095, 'grad_norm': 11.600190162658691, 'learning_rate': 3.1683168316831686e-05, 'epoch': 3.66}\n",
      "{'loss': 0.4, 'grad_norm': 18.11239242553711, 'learning_rate': 3.155940594059406e-05, 'epoch': 3.69}\n",
      "{'loss': 0.6758, 'grad_norm': 1.4060040712356567, 'learning_rate': 3.1435643564356435e-05, 'epoch': 3.71}\n",
      "{'loss': 0.3006, 'grad_norm': 0.2955012023448944, 'learning_rate': 3.131188118811882e-05, 'epoch': 3.74}\n",
      "{'loss': 0.2466, 'grad_norm': 3.2639572620391846, 'learning_rate': 3.118811881188119e-05, 'epoch': 3.76}\n",
      "{'loss': 0.434, 'grad_norm': 5.893662452697754, 'learning_rate': 3.1064356435643566e-05, 'epoch': 3.79}\n",
      "{'loss': 0.6795, 'grad_norm': 5.984285354614258, 'learning_rate': 3.094059405940594e-05, 'epoch': 3.81}\n",
      "{'loss': 0.376, 'grad_norm': 10.238937377929688, 'learning_rate': 3.0816831683168316e-05, 'epoch': 3.84}\n",
      "{'loss': 0.4032, 'grad_norm': 0.6192083358764648, 'learning_rate': 3.06930693069307e-05, 'epoch': 3.86}\n",
      "{'loss': 0.2904, 'grad_norm': 5.537929058074951, 'learning_rate': 3.056930693069307e-05, 'epoch': 3.89}\n",
      "{'loss': 0.1836, 'grad_norm': 0.46875348687171936, 'learning_rate': 3.0445544554455447e-05, 'epoch': 3.91}\n",
      "{'loss': 0.7938, 'grad_norm': 16.731943130493164, 'learning_rate': 3.032178217821782e-05, 'epoch': 3.94}\n",
      "{'loss': 0.2242, 'grad_norm': 5.571683406829834, 'learning_rate': 3.01980198019802e-05, 'epoch': 3.96}\n",
      "{'loss': 0.371, 'grad_norm': 5.579568386077881, 'learning_rate': 3.0074257425742575e-05, 'epoch': 3.99}\n"
     ]
    },
    {
     "data": {
      "application/vnd.jupyter.widget-view+json": {
       "model_id": "380f64ac0b8b4d3d90356a981e2a7375",
       "version_major": 2,
       "version_minor": 0
      },
      "text/plain": [
       "  0%|          | 0/167 [00:00<?, ?it/s]"
      ]
     },
     "metadata": {},
     "output_type": "display_data"
    },
    {
     "name": "stdout",
     "output_type": "stream",
     "text": [
      "{'eval_loss': 0.6086726188659668, 'eval_accuracy': 0.7886056971514243, 'eval_f1_macro': 0.7107785701764906, 'eval_precision': 0.7293260038240919, 'eval_recall': 0.6991352473192667, 'eval_runtime': 33.5164, 'eval_samples_per_second': 19.901, 'eval_steps_per_second': 4.983, 'epoch': 4.0}\n"
     ]
    },
    {
     "name": "stderr",
     "output_type": "stream",
     "text": [
      "d:\\Master\\AN1SEM2\\BioNLP\\CLEF2025-CheckThat\\task1\\.venv\\Lib\\site-packages\\huggingface_hub\\file_download.py:943: FutureWarning: `resume_download` is deprecated and will be removed in version 1.0.0. Downloads always resume when possible. If you want to force a new download, use `force_download=True`.\n",
      "  warnings.warn(\n",
      "d:\\Master\\AN1SEM2\\BioNLP\\CLEF2025-CheckThat\\task1\\.venv\\Lib\\site-packages\\torch\\utils\\data\\dataloader.py:665: UserWarning: 'pin_memory' argument is set as true but no accelerator is found, then device pinned memory won't be used.\n",
      "  warnings.warn(warn_msg)\n"
     ]
    },
    {
     "name": "stdout",
     "output_type": "stream",
     "text": [
      "{'loss': 0.2311, 'grad_norm': 11.19477653503418, 'learning_rate': 2.995049504950495e-05, 'epoch': 4.01}\n",
      "{'loss': 0.3875, 'grad_norm': 29.747661590576172, 'learning_rate': 2.9826732673267327e-05, 'epoch': 4.03}\n",
      "{'loss': 0.5762, 'grad_norm': 3.092421531677246, 'learning_rate': 2.9702970297029702e-05, 'epoch': 4.06}\n",
      "{'loss': 0.313, 'grad_norm': 14.304679870605469, 'learning_rate': 2.957920792079208e-05, 'epoch': 4.08}\n",
      "{'loss': 0.3682, 'grad_norm': 17.73147201538086, 'learning_rate': 2.9455445544554455e-05, 'epoch': 4.11}\n",
      "{'loss': 0.3895, 'grad_norm': 0.45905545353889465, 'learning_rate': 2.933168316831683e-05, 'epoch': 4.13}\n",
      "{'loss': 0.3651, 'grad_norm': 21.205453872680664, 'learning_rate': 2.9207920792079208e-05, 'epoch': 4.16}\n",
      "{'loss': 0.5213, 'grad_norm': 28.31267547607422, 'learning_rate': 2.9084158415841583e-05, 'epoch': 4.18}\n",
      "{'loss': 0.4226, 'grad_norm': 18.780338287353516, 'learning_rate': 2.896039603960396e-05, 'epoch': 4.21}\n",
      "{'loss': 0.233, 'grad_norm': 23.844398498535156, 'learning_rate': 2.8836633663366336e-05, 'epoch': 4.23}\n",
      "{'loss': 0.3476, 'grad_norm': 21.378753662109375, 'learning_rate': 2.871287128712871e-05, 'epoch': 4.26}\n",
      "{'loss': 0.5529, 'grad_norm': 12.310108184814453, 'learning_rate': 2.858910891089109e-05, 'epoch': 4.28}\n",
      "{'loss': 0.3579, 'grad_norm': 11.677367210388184, 'learning_rate': 2.8465346534653464e-05, 'epoch': 4.31}\n",
      "{'loss': 0.4892, 'grad_norm': 7.148479461669922, 'learning_rate': 2.834158415841584e-05, 'epoch': 4.33}\n",
      "{'loss': 0.5275, 'grad_norm': 0.310992032289505, 'learning_rate': 2.8217821782178216e-05, 'epoch': 4.36}\n",
      "{'loss': 0.2048, 'grad_norm': 36.32006072998047, 'learning_rate': 2.8094059405940598e-05, 'epoch': 4.38}\n",
      "{'loss': 0.3957, 'grad_norm': 0.25974711775779724, 'learning_rate': 2.7970297029702973e-05, 'epoch': 4.41}\n",
      "{'loss': 0.1756, 'grad_norm': 0.6366637945175171, 'learning_rate': 2.784653465346535e-05, 'epoch': 4.43}\n",
      "{'loss': 0.5068, 'grad_norm': 5.719615936279297, 'learning_rate': 2.7722772277227726e-05, 'epoch': 4.46}\n",
      "{'loss': 0.3612, 'grad_norm': 24.500120162963867, 'learning_rate': 2.7599009900990104e-05, 'epoch': 4.48}\n",
      "{'loss': 0.3951, 'grad_norm': 8.140509605407715, 'learning_rate': 2.747524752475248e-05, 'epoch': 4.5}\n",
      "{'loss': 0.3374, 'grad_norm': 0.24356557428836823, 'learning_rate': 2.7351485148514853e-05, 'epoch': 4.53}\n",
      "{'loss': 0.3676, 'grad_norm': 0.10177597403526306, 'learning_rate': 2.722772277227723e-05, 'epoch': 4.55}\n",
      "{'loss': 0.1417, 'grad_norm': 0.3941929042339325, 'learning_rate': 2.7103960396039606e-05, 'epoch': 4.58}\n",
      "{'loss': 0.5338, 'grad_norm': 17.17485237121582, 'learning_rate': 2.6980198019801985e-05, 'epoch': 4.6}\n",
      "{'loss': 0.5493, 'grad_norm': 6.138302326202393, 'learning_rate': 2.685643564356436e-05, 'epoch': 4.63}\n",
      "{'loss': 0.4453, 'grad_norm': 20.311735153198242, 'learning_rate': 2.6732673267326734e-05, 'epoch': 4.65}\n",
      "{'loss': 0.2734, 'grad_norm': 3.3892271518707275, 'learning_rate': 2.6608910891089112e-05, 'epoch': 4.68}\n",
      "{'loss': 0.525, 'grad_norm': 11.556523323059082, 'learning_rate': 2.6485148514851487e-05, 'epoch': 4.7}\n",
      "{'loss': 0.5838, 'grad_norm': 0.4844125211238861, 'learning_rate': 2.6361386138613865e-05, 'epoch': 4.73}\n",
      "{'loss': 0.6774, 'grad_norm': 2.444791793823242, 'learning_rate': 2.623762376237624e-05, 'epoch': 4.75}\n",
      "{'loss': 0.4084, 'grad_norm': 10.087644577026367, 'learning_rate': 2.6113861386138615e-05, 'epoch': 4.78}\n",
      "{'loss': 0.607, 'grad_norm': 17.31894874572754, 'learning_rate': 2.5990099009900993e-05, 'epoch': 4.8}\n",
      "{'loss': 0.2572, 'grad_norm': 0.7964449524879456, 'learning_rate': 2.5866336633663368e-05, 'epoch': 4.83}\n",
      "{'loss': 0.1688, 'grad_norm': 4.151668548583984, 'learning_rate': 2.5742574257425746e-05, 'epoch': 4.85}\n",
      "{'loss': 0.3012, 'grad_norm': 0.11692745983600616, 'learning_rate': 2.561881188118812e-05, 'epoch': 4.88}\n",
      "{'loss': 0.1039, 'grad_norm': 1.0504536628723145, 'learning_rate': 2.5495049504950495e-05, 'epoch': 4.9}\n",
      "{'loss': 0.1642, 'grad_norm': 9.814627647399902, 'learning_rate': 2.5371287128712873e-05, 'epoch': 4.93}\n",
      "{'loss': 0.3279, 'grad_norm': 13.576264381408691, 'learning_rate': 2.5247524752475248e-05, 'epoch': 4.95}\n",
      "{'loss': 0.1528, 'grad_norm': 13.321980476379395, 'learning_rate': 2.5123762376237626e-05, 'epoch': 4.98}\n",
      "{'loss': 0.704, 'grad_norm': 65.32174682617188, 'learning_rate': 2.5e-05, 'epoch': 5.0}\n"
     ]
    },
    {
     "data": {
      "application/vnd.jupyter.widget-view+json": {
       "model_id": "94da63c606074252b1b609128ac6ad74",
       "version_major": 2,
       "version_minor": 0
      },
      "text/plain": [
       "  0%|          | 0/167 [00:00<?, ?it/s]"
      ]
     },
     "metadata": {},
     "output_type": "display_data"
    },
    {
     "name": "stdout",
     "output_type": "stream",
     "text": [
      "{'eval_loss': 0.7821573615074158, 'eval_accuracy': 0.7871064467766117, 'eval_f1_macro': 0.6871647509578545, 'eval_precision': 0.7344733395099199, 'eval_recall': 0.669243629655252, 'eval_runtime': 32.3026, 'eval_samples_per_second': 20.648, 'eval_steps_per_second': 5.17, 'epoch': 5.0}\n"
     ]
    },
    {
     "name": "stderr",
     "output_type": "stream",
     "text": [
      "d:\\Master\\AN1SEM2\\BioNLP\\CLEF2025-CheckThat\\task1\\.venv\\Lib\\site-packages\\peft\\utils\\other.py:611: UserWarning: Unable to fetch remote file due to the following error (ReadTimeoutError(\"HTTPSConnectionPool(host='huggingface.co', port=443): Read timed out. (read timeout=10)\"), '(Request ID: a95b806e-6a2a-45f0-bcae-686c44b5b422)') - silently ignoring the lookup for the file config.json in Musixmatch/umberto-commoncrawl-cased-v1.\n",
      "  warnings.warn(\n",
      "d:\\Master\\AN1SEM2\\BioNLP\\CLEF2025-CheckThat\\task1\\.venv\\Lib\\site-packages\\peft\\utils\\save_and_load.py:195: UserWarning: Could not find a config file in Musixmatch/umberto-commoncrawl-cased-v1 - will assume that the vocabulary was not modified.\n",
      "  warnings.warn(\n",
      "d:\\Master\\AN1SEM2\\BioNLP\\CLEF2025-CheckThat\\task1\\.venv\\Lib\\site-packages\\torch\\utils\\data\\dataloader.py:665: UserWarning: 'pin_memory' argument is set as true but no accelerator is found, then device pinned memory won't be used.\n",
      "  warnings.warn(warn_msg)\n"
     ]
    },
    {
     "name": "stdout",
     "output_type": "stream",
     "text": [
      "{'loss': 0.3941, 'grad_norm': 35.068397521972656, 'learning_rate': 2.4876237623762376e-05, 'epoch': 5.02}\n",
      "{'loss': 0.2628, 'grad_norm': 5.479031085968018, 'learning_rate': 2.4752475247524754e-05, 'epoch': 5.05}\n",
      "{'loss': 0.5881, 'grad_norm': 0.5611746907234192, 'learning_rate': 2.462871287128713e-05, 'epoch': 5.07}\n",
      "{'loss': 0.2618, 'grad_norm': 0.747341513633728, 'learning_rate': 2.4504950495049507e-05, 'epoch': 5.1}\n",
      "{'loss': 0.3006, 'grad_norm': 4.886248588562012, 'learning_rate': 2.4381188118811882e-05, 'epoch': 5.12}\n",
      "{'loss': 0.5108, 'grad_norm': 2.7582340240478516, 'learning_rate': 2.4257425742574257e-05, 'epoch': 5.15}\n",
      "{'loss': 0.3364, 'grad_norm': 7.430686950683594, 'learning_rate': 2.4133663366336635e-05, 'epoch': 5.17}\n",
      "{'loss': 0.2386, 'grad_norm': 0.1517215520143509, 'learning_rate': 2.400990099009901e-05, 'epoch': 5.2}\n",
      "{'loss': 0.3358, 'grad_norm': 9.547091484069824, 'learning_rate': 2.3886138613861388e-05, 'epoch': 5.22}\n",
      "{'loss': 0.4105, 'grad_norm': 0.5709012150764465, 'learning_rate': 2.3762376237623762e-05, 'epoch': 5.25}\n",
      "{'loss': 0.6551, 'grad_norm': 0.4292683005332947, 'learning_rate': 2.3638613861386137e-05, 'epoch': 5.27}\n",
      "{'loss': 0.1987, 'grad_norm': 0.7761209607124329, 'learning_rate': 2.3514851485148515e-05, 'epoch': 5.3}\n",
      "{'loss': 0.4649, 'grad_norm': 0.20505456626415253, 'learning_rate': 2.3391089108910894e-05, 'epoch': 5.32}\n",
      "{'loss': 0.3202, 'grad_norm': 21.118738174438477, 'learning_rate': 2.326732673267327e-05, 'epoch': 5.35}\n",
      "{'loss': 0.3306, 'grad_norm': 1.2507282495498657, 'learning_rate': 2.3143564356435647e-05, 'epoch': 5.37}\n",
      "{'loss': 0.1764, 'grad_norm': 0.5870791077613831, 'learning_rate': 2.301980198019802e-05, 'epoch': 5.4}\n",
      "{'loss': 0.6099, 'grad_norm': 6.7275166511535645, 'learning_rate': 2.28960396039604e-05, 'epoch': 5.42}\n",
      "{'loss': 0.2346, 'grad_norm': 13.94383716583252, 'learning_rate': 2.2772277227722774e-05, 'epoch': 5.45}\n",
      "{'loss': 0.5369, 'grad_norm': 0.6137029528617859, 'learning_rate': 2.264851485148515e-05, 'epoch': 5.47}\n",
      "{'loss': 0.2452, 'grad_norm': 0.2141285389661789, 'learning_rate': 2.2524752475247527e-05, 'epoch': 5.5}\n",
      "{'loss': 0.3537, 'grad_norm': 0.10536527633666992, 'learning_rate': 2.2400990099009902e-05, 'epoch': 5.52}\n",
      "{'loss': 0.1537, 'grad_norm': 8.126816749572754, 'learning_rate': 2.227722772277228e-05, 'epoch': 5.54}\n",
      "{'loss': 0.3053, 'grad_norm': 25.77959442138672, 'learning_rate': 2.2153465346534655e-05, 'epoch': 5.57}\n",
      "{'loss': 0.3625, 'grad_norm': 25.73587417602539, 'learning_rate': 2.202970297029703e-05, 'epoch': 5.59}\n",
      "{'loss': 0.5065, 'grad_norm': 0.1942492574453354, 'learning_rate': 2.1905940594059408e-05, 'epoch': 5.62}\n",
      "{'loss': 0.5388, 'grad_norm': 0.349241703748703, 'learning_rate': 2.1782178217821783e-05, 'epoch': 5.64}\n",
      "{'loss': 0.6552, 'grad_norm': 17.595426559448242, 'learning_rate': 2.165841584158416e-05, 'epoch': 5.67}\n",
      "{'loss': 0.5343, 'grad_norm': 19.139631271362305, 'learning_rate': 2.1534653465346535e-05, 'epoch': 5.69}\n",
      "{'loss': 0.3943, 'grad_norm': 0.3895488679409027, 'learning_rate': 2.141089108910891e-05, 'epoch': 5.72}\n",
      "{'loss': 0.2467, 'grad_norm': 0.19001002609729767, 'learning_rate': 2.128712871287129e-05, 'epoch': 5.74}\n",
      "{'loss': 0.2422, 'grad_norm': 16.510866165161133, 'learning_rate': 2.1163366336633663e-05, 'epoch': 5.77}\n",
      "{'loss': 0.4717, 'grad_norm': 22.51413345336914, 'learning_rate': 2.103960396039604e-05, 'epoch': 5.79}\n",
      "{'loss': 0.2065, 'grad_norm': 1.524208426475525, 'learning_rate': 2.0915841584158416e-05, 'epoch': 5.82}\n",
      "{'loss': 0.3003, 'grad_norm': 1.07926344871521, 'learning_rate': 2.079207920792079e-05, 'epoch': 5.84}\n",
      "{'loss': 0.299, 'grad_norm': 5.209534168243408, 'learning_rate': 2.066831683168317e-05, 'epoch': 5.87}\n",
      "{'loss': 0.2652, 'grad_norm': 21.754962921142578, 'learning_rate': 2.0544554455445544e-05, 'epoch': 5.89}\n",
      "{'loss': 0.2216, 'grad_norm': 22.54743194580078, 'learning_rate': 2.0420792079207922e-05, 'epoch': 5.92}\n",
      "{'loss': 0.3414, 'grad_norm': 2.341193675994873, 'learning_rate': 2.02970297029703e-05, 'epoch': 5.94}\n",
      "{'loss': 0.5799, 'grad_norm': 1.4026765823364258, 'learning_rate': 2.0173267326732675e-05, 'epoch': 5.97}\n",
      "{'loss': 0.4931, 'grad_norm': 8.696168899536133, 'learning_rate': 2.0049504950495053e-05, 'epoch': 5.99}\n"
     ]
    },
    {
     "data": {
      "application/vnd.jupyter.widget-view+json": {
       "model_id": "b48825ee9c6e4af09942be243ac97094",
       "version_major": 2,
       "version_minor": 0
      },
      "text/plain": [
       "  0%|          | 0/167 [00:00<?, ?it/s]"
      ]
     },
     "metadata": {},
     "output_type": "display_data"
    },
    {
     "name": "stdout",
     "output_type": "stream",
     "text": [
      "{'eval_loss': 0.728874683380127, 'eval_accuracy': 0.7841079460269865, 'eval_f1_macro': 0.7064906490649066, 'eval_precision': 0.7224686028257457, 'eval_recall': 0.6960740228294708, 'eval_runtime': 33.3266, 'eval_samples_per_second': 20.014, 'eval_steps_per_second': 5.011, 'epoch': 6.0}\n"
     ]
    },
    {
     "name": "stderr",
     "output_type": "stream",
     "text": [
      "d:\\Master\\AN1SEM2\\BioNLP\\CLEF2025-CheckThat\\task1\\.venv\\Lib\\site-packages\\huggingface_hub\\file_download.py:943: FutureWarning: `resume_download` is deprecated and will be removed in version 1.0.0. Downloads always resume when possible. If you want to force a new download, use `force_download=True`.\n",
      "  warnings.warn(\n",
      "d:\\Master\\AN1SEM2\\BioNLP\\CLEF2025-CheckThat\\task1\\.venv\\Lib\\site-packages\\torch\\utils\\data\\dataloader.py:665: UserWarning: 'pin_memory' argument is set as true but no accelerator is found, then device pinned memory won't be used.\n",
      "  warnings.warn(warn_msg)\n"
     ]
    },
    {
     "name": "stdout",
     "output_type": "stream",
     "text": [
      "{'loss': 0.5163, 'grad_norm': 0.09704329073429108, 'learning_rate': 1.9925742574257428e-05, 'epoch': 6.01}\n",
      "{'loss': 0.5098, 'grad_norm': 0.25432005524635315, 'learning_rate': 1.9801980198019803e-05, 'epoch': 6.04}\n",
      "{'loss': 0.3233, 'grad_norm': 19.964330673217773, 'learning_rate': 1.967821782178218e-05, 'epoch': 6.06}\n",
      "{'loss': 0.4546, 'grad_norm': 57.22744369506836, 'learning_rate': 1.9554455445544556e-05, 'epoch': 6.09}\n",
      "{'loss': 0.2086, 'grad_norm': 2.4479644298553467, 'learning_rate': 1.9430693069306934e-05, 'epoch': 6.11}\n",
      "{'loss': 0.4054, 'grad_norm': 4.290477752685547, 'learning_rate': 1.930693069306931e-05, 'epoch': 6.14}\n",
      "{'loss': 0.0394, 'grad_norm': 4.113261699676514, 'learning_rate': 1.9183168316831683e-05, 'epoch': 6.16}\n",
      "{'loss': 0.3971, 'grad_norm': 0.38177141547203064, 'learning_rate': 1.905940594059406e-05, 'epoch': 6.19}\n",
      "{'loss': 0.4877, 'grad_norm': 9.536050796508789, 'learning_rate': 1.8935643564356436e-05, 'epoch': 6.21}\n",
      "{'loss': 0.6383, 'grad_norm': 0.17019475996494293, 'learning_rate': 1.8811881188118814e-05, 'epoch': 6.24}\n",
      "{'loss': 0.382, 'grad_norm': 25.995594024658203, 'learning_rate': 1.868811881188119e-05, 'epoch': 6.26}\n",
      "{'loss': 0.1351, 'grad_norm': 1.3971256017684937, 'learning_rate': 1.8564356435643564e-05, 'epoch': 6.29}\n",
      "{'loss': 0.1864, 'grad_norm': 8.879509925842285, 'learning_rate': 1.8440594059405942e-05, 'epoch': 6.31}\n",
      "{'loss': 0.1841, 'grad_norm': 0.4278513491153717, 'learning_rate': 1.8316831683168317e-05, 'epoch': 6.34}\n",
      "{'loss': 0.1491, 'grad_norm': 0.35654622316360474, 'learning_rate': 1.8193069306930695e-05, 'epoch': 6.36}\n",
      "{'loss': 0.2618, 'grad_norm': 8.82640266418457, 'learning_rate': 1.806930693069307e-05, 'epoch': 6.39}\n",
      "{'loss': 0.1429, 'grad_norm': 34.98110580444336, 'learning_rate': 1.7945544554455445e-05, 'epoch': 6.41}\n",
      "{'loss': 0.5033, 'grad_norm': 0.07733024656772614, 'learning_rate': 1.7821782178217823e-05, 'epoch': 6.44}\n",
      "{'loss': 0.2048, 'grad_norm': 5.878341197967529, 'learning_rate': 1.7698019801980197e-05, 'epoch': 6.46}\n",
      "{'loss': 0.4156, 'grad_norm': 17.679224014282227, 'learning_rate': 1.7574257425742576e-05, 'epoch': 6.49}\n",
      "{'loss': 0.3745, 'grad_norm': 21.75855255126953, 'learning_rate': 1.745049504950495e-05, 'epoch': 6.51}\n",
      "{'loss': 0.2077, 'grad_norm': 2.9062676429748535, 'learning_rate': 1.7326732673267325e-05, 'epoch': 6.53}\n",
      "{'loss': 0.3362, 'grad_norm': 2.5448577404022217, 'learning_rate': 1.7202970297029703e-05, 'epoch': 6.56}\n",
      "{'loss': 0.4871, 'grad_norm': 38.39460754394531, 'learning_rate': 1.707920792079208e-05, 'epoch': 6.58}\n",
      "{'loss': 0.1682, 'grad_norm': 0.29903125762939453, 'learning_rate': 1.6955445544554456e-05, 'epoch': 6.61}\n",
      "{'loss': 0.4758, 'grad_norm': 0.05960622802376747, 'learning_rate': 1.6831683168316834e-05, 'epoch': 6.63}\n",
      "{'loss': 0.3326, 'grad_norm': 17.352712631225586, 'learning_rate': 1.670792079207921e-05, 'epoch': 6.66}\n",
      "{'loss': 0.4914, 'grad_norm': 29.725522994995117, 'learning_rate': 1.6584158415841587e-05, 'epoch': 6.68}\n",
      "{'loss': 0.2197, 'grad_norm': 3.9626505374908447, 'learning_rate': 1.6460396039603962e-05, 'epoch': 6.71}\n",
      "{'loss': 0.1056, 'grad_norm': 0.09021754562854767, 'learning_rate': 1.6336633663366337e-05, 'epoch': 6.73}\n",
      "{'loss': 0.4075, 'grad_norm': 0.6158342361450195, 'learning_rate': 1.6212871287128715e-05, 'epoch': 6.76}\n",
      "{'loss': 0.1349, 'grad_norm': 1.1526461839675903, 'learning_rate': 1.608910891089109e-05, 'epoch': 6.78}\n",
      "{'loss': 0.3603, 'grad_norm': 0.07750966399908066, 'learning_rate': 1.5965346534653468e-05, 'epoch': 6.81}\n",
      "{'loss': 0.1199, 'grad_norm': 0.06322399526834488, 'learning_rate': 1.5841584158415843e-05, 'epoch': 6.83}\n",
      "{'loss': 0.3784, 'grad_norm': 7.222787857055664, 'learning_rate': 1.5717821782178218e-05, 'epoch': 6.86}\n",
      "{'loss': 0.2877, 'grad_norm': 14.50704288482666, 'learning_rate': 1.5594059405940596e-05, 'epoch': 6.88}\n",
      "{'loss': 0.5706, 'grad_norm': 47.409210205078125, 'learning_rate': 1.547029702970297e-05, 'epoch': 6.91}\n",
      "{'loss': 0.1503, 'grad_norm': 11.069524765014648, 'learning_rate': 1.534653465346535e-05, 'epoch': 6.93}\n",
      "{'loss': 0.1105, 'grad_norm': 0.7774202823638916, 'learning_rate': 1.5222772277227723e-05, 'epoch': 6.96}\n",
      "{'loss': 0.1659, 'grad_norm': 30.45374298095703, 'learning_rate': 1.50990099009901e-05, 'epoch': 6.98}\n"
     ]
    },
    {
     "data": {
      "application/vnd.jupyter.widget-view+json": {
       "model_id": "6222bbdd77fc4d54ba1800043308bb83",
       "version_major": 2,
       "version_minor": 0
      },
      "text/plain": [
       "  0%|          | 0/167 [00:00<?, ?it/s]"
      ]
     },
     "metadata": {},
     "output_type": "display_data"
    },
    {
     "name": "stdout",
     "output_type": "stream",
     "text": [
      "{'eval_loss': 0.818067729473114, 'eval_accuracy': 0.7901049475262368, 'eval_f1_macro': 0.7071478749560942, 'eval_precision': 0.7329922027290449, 'eval_recall': 0.6929378531073447, 'eval_runtime': 32.8294, 'eval_samples_per_second': 20.317, 'eval_steps_per_second': 5.087, 'epoch': 7.0}\n"
     ]
    },
    {
     "name": "stderr",
     "output_type": "stream",
     "text": [
      "d:\\Master\\AN1SEM2\\BioNLP\\CLEF2025-CheckThat\\task1\\.venv\\Lib\\site-packages\\peft\\utils\\other.py:611: UserWarning: Unable to fetch remote file due to the following error (ReadTimeoutError(\"HTTPSConnectionPool(host='huggingface.co', port=443): Read timed out. (read timeout=10)\"), '(Request ID: dda8037f-81c4-4441-ae0f-f1daf4d41387)') - silently ignoring the lookup for the file config.json in Musixmatch/umberto-commoncrawl-cased-v1.\n",
      "  warnings.warn(\n",
      "d:\\Master\\AN1SEM2\\BioNLP\\CLEF2025-CheckThat\\task1\\.venv\\Lib\\site-packages\\peft\\utils\\save_and_load.py:195: UserWarning: Could not find a config file in Musixmatch/umberto-commoncrawl-cased-v1 - will assume that the vocabulary was not modified.\n",
      "  warnings.warn(\n",
      "d:\\Master\\AN1SEM2\\BioNLP\\CLEF2025-CheckThat\\task1\\.venv\\Lib\\site-packages\\torch\\utils\\data\\dataloader.py:665: UserWarning: 'pin_memory' argument is set as true but no accelerator is found, then device pinned memory won't be used.\n",
      "  warnings.warn(warn_msg)\n"
     ]
    },
    {
     "name": "stdout",
     "output_type": "stream",
     "text": [
      "{'loss': 0.5656, 'grad_norm': 15.043818473815918, 'learning_rate': 1.4975247524752475e-05, 'epoch': 7.0}\n",
      "{'loss': 0.3255, 'grad_norm': 1.5345538854599, 'learning_rate': 1.4851485148514851e-05, 'epoch': 7.03}\n",
      "{'loss': 0.1142, 'grad_norm': 15.945876121520996, 'learning_rate': 1.4727722772277228e-05, 'epoch': 7.05}\n",
      "{'loss': 0.2255, 'grad_norm': 0.15017184615135193, 'learning_rate': 1.4603960396039604e-05, 'epoch': 7.08}\n",
      "{'loss': 0.5186, 'grad_norm': 5.707466125488281, 'learning_rate': 1.448019801980198e-05, 'epoch': 7.1}\n",
      "{'loss': 0.1814, 'grad_norm': 0.06441420316696167, 'learning_rate': 1.4356435643564355e-05, 'epoch': 7.13}\n",
      "{'loss': 0.2055, 'grad_norm': 0.2953103184700012, 'learning_rate': 1.4232673267326732e-05, 'epoch': 7.15}\n",
      "{'loss': 0.2918, 'grad_norm': 0.1334735006093979, 'learning_rate': 1.4108910891089108e-05, 'epoch': 7.18}\n",
      "{'loss': 0.1721, 'grad_norm': 0.09749078005552292, 'learning_rate': 1.3985148514851486e-05, 'epoch': 7.2}\n",
      "{'loss': 0.4485, 'grad_norm': 1.9058643579483032, 'learning_rate': 1.3861386138613863e-05, 'epoch': 7.23}\n",
      "{'loss': 0.3006, 'grad_norm': 0.23619329929351807, 'learning_rate': 1.373762376237624e-05, 'epoch': 7.25}\n",
      "{'loss': 0.3961, 'grad_norm': 45.090736389160156, 'learning_rate': 1.3613861386138616e-05, 'epoch': 7.28}\n",
      "{'loss': 0.613, 'grad_norm': 8.738606452941895, 'learning_rate': 1.3490099009900992e-05, 'epoch': 7.3}\n",
      "{'loss': 0.0768, 'grad_norm': 0.6416966915130615, 'learning_rate': 1.3366336633663367e-05, 'epoch': 7.33}\n",
      "{'loss': 0.1747, 'grad_norm': 0.8748613595962524, 'learning_rate': 1.3242574257425743e-05, 'epoch': 7.35}\n",
      "{'loss': 0.2815, 'grad_norm': 0.27935925126075745, 'learning_rate': 1.311881188118812e-05, 'epoch': 7.38}\n",
      "{'loss': 0.2969, 'grad_norm': 4.395529270172119, 'learning_rate': 1.2995049504950496e-05, 'epoch': 7.4}\n",
      "{'loss': 0.3003, 'grad_norm': 29.583480834960938, 'learning_rate': 1.2871287128712873e-05, 'epoch': 7.43}\n",
      "{'loss': 0.0189, 'grad_norm': 0.24040426313877106, 'learning_rate': 1.2747524752475248e-05, 'epoch': 7.45}\n",
      "{'loss': 0.3955, 'grad_norm': 0.47495999932289124, 'learning_rate': 1.2623762376237624e-05, 'epoch': 7.48}\n",
      "{'loss': 0.1804, 'grad_norm': 9.551405906677246, 'learning_rate': 1.25e-05, 'epoch': 7.5}\n",
      "{'loss': 0.3913, 'grad_norm': 0.07450989633798599, 'learning_rate': 1.2376237623762377e-05, 'epoch': 7.52}\n",
      "{'loss': 0.1521, 'grad_norm': 0.8062739968299866, 'learning_rate': 1.2252475247524754e-05, 'epoch': 7.55}\n",
      "{'loss': 0.2449, 'grad_norm': 0.374404639005661, 'learning_rate': 1.2128712871287128e-05, 'epoch': 7.57}\n",
      "{'loss': 0.6259, 'grad_norm': 47.73740005493164, 'learning_rate': 1.2004950495049505e-05, 'epoch': 7.6}\n",
      "{'loss': 0.5546, 'grad_norm': 8.258176803588867, 'learning_rate': 1.1881188118811881e-05, 'epoch': 7.62}\n",
      "{'loss': 0.2197, 'grad_norm': 0.22689154744148254, 'learning_rate': 1.1757425742574258e-05, 'epoch': 7.65}\n",
      "{'loss': 0.1709, 'grad_norm': 0.166637122631073, 'learning_rate': 1.1633663366336634e-05, 'epoch': 7.67}\n",
      "{'loss': 0.2535, 'grad_norm': 10.857367515563965, 'learning_rate': 1.150990099009901e-05, 'epoch': 7.7}\n",
      "{'loss': 0.0363, 'grad_norm': 0.2154109925031662, 'learning_rate': 1.1386138613861387e-05, 'epoch': 7.72}\n",
      "{'loss': 0.1864, 'grad_norm': 0.039826665073633194, 'learning_rate': 1.1262376237623764e-05, 'epoch': 7.75}\n",
      "{'loss': 0.3503, 'grad_norm': 0.05192355066537857, 'learning_rate': 1.113861386138614e-05, 'epoch': 7.77}\n",
      "{'loss': 0.539, 'grad_norm': 25.2346248626709, 'learning_rate': 1.1014851485148515e-05, 'epoch': 7.8}\n",
      "{'loss': 0.252, 'grad_norm': 0.06901322305202484, 'learning_rate': 1.0891089108910891e-05, 'epoch': 7.82}\n",
      "{'loss': 0.5069, 'grad_norm': 0.0749448761343956, 'learning_rate': 1.0767326732673268e-05, 'epoch': 7.85}\n",
      "{'loss': 0.2939, 'grad_norm': 5.79042387008667, 'learning_rate': 1.0643564356435644e-05, 'epoch': 7.87}\n",
      "{'loss': 0.379, 'grad_norm': 27.732255935668945, 'learning_rate': 1.051980198019802e-05, 'epoch': 7.9}\n",
      "{'loss': 0.5173, 'grad_norm': 0.19938895106315613, 'learning_rate': 1.0396039603960395e-05, 'epoch': 7.92}\n",
      "{'loss': 0.2087, 'grad_norm': 0.17654800415039062, 'learning_rate': 1.0272277227722772e-05, 'epoch': 7.95}\n",
      "{'loss': 0.1705, 'grad_norm': 11.539046287536621, 'learning_rate': 1.014851485148515e-05, 'epoch': 7.97}\n",
      "{'loss': 0.2958, 'grad_norm': 1.4166145324707031, 'learning_rate': 1.0024752475247527e-05, 'epoch': 8.0}\n"
     ]
    },
    {
     "data": {
      "application/vnd.jupyter.widget-view+json": {
       "model_id": "206b07984ff54e9b92d07c29b74c43b9",
       "version_major": 2,
       "version_minor": 0
      },
      "text/plain": [
       "  0%|          | 0/167 [00:00<?, ?it/s]"
      ]
     },
     "metadata": {},
     "output_type": "display_data"
    },
    {
     "name": "stdout",
     "output_type": "stream",
     "text": [
      "{'eval_loss': 0.8107857704162598, 'eval_accuracy': 0.7871064467766117, 'eval_f1_macro': 0.7186556878401178, 'eval_precision': 0.7262845849802372, 'eval_recall': 0.7125504439063761, 'eval_runtime': 32.2006, 'eval_samples_per_second': 20.714, 'eval_steps_per_second': 5.186, 'epoch': 8.0}\n"
     ]
    },
    {
     "name": "stderr",
     "output_type": "stream",
     "text": [
      "d:\\Master\\AN1SEM2\\BioNLP\\CLEF2025-CheckThat\\task1\\.venv\\Lib\\site-packages\\huggingface_hub\\file_download.py:943: FutureWarning: `resume_download` is deprecated and will be removed in version 1.0.0. Downloads always resume when possible. If you want to force a new download, use `force_download=True`.\n",
      "  warnings.warn(\n",
      "d:\\Master\\AN1SEM2\\BioNLP\\CLEF2025-CheckThat\\task1\\.venv\\Lib\\site-packages\\torch\\utils\\data\\dataloader.py:665: UserWarning: 'pin_memory' argument is set as true but no accelerator is found, then device pinned memory won't be used.\n",
      "  warnings.warn(warn_msg)\n"
     ]
    },
    {
     "name": "stdout",
     "output_type": "stream",
     "text": [
      "{'loss': 0.3751, 'grad_norm': 0.24987567961215973, 'learning_rate': 9.900990099009901e-06, 'epoch': 8.02}\n",
      "{'loss': 0.1653, 'grad_norm': 79.06468200683594, 'learning_rate': 9.777227722772278e-06, 'epoch': 8.04}\n",
      "{'loss': 0.3855, 'grad_norm': 0.12470856308937073, 'learning_rate': 9.653465346534654e-06, 'epoch': 8.07}\n",
      "{'loss': 0.3208, 'grad_norm': 0.9925429224967957, 'learning_rate': 9.52970297029703e-06, 'epoch': 8.09}\n",
      "{'loss': 0.1706, 'grad_norm': 14.46657657623291, 'learning_rate': 9.405940594059407e-06, 'epoch': 8.12}\n",
      "{'loss': 0.2277, 'grad_norm': 73.15108489990234, 'learning_rate': 9.282178217821782e-06, 'epoch': 8.14}\n",
      "{'loss': 0.1329, 'grad_norm': 10.850229263305664, 'learning_rate': 9.158415841584158e-06, 'epoch': 8.17}\n",
      "{'loss': 0.2151, 'grad_norm': 0.17985272407531738, 'learning_rate': 9.034653465346535e-06, 'epoch': 8.19}\n",
      "{'loss': 0.4871, 'grad_norm': 14.784942626953125, 'learning_rate': 8.910891089108911e-06, 'epoch': 8.22}\n",
      "{'loss': 0.3588, 'grad_norm': 6.7634735107421875, 'learning_rate': 8.787128712871288e-06, 'epoch': 8.24}\n",
      "{'loss': 0.2383, 'grad_norm': 29.043081283569336, 'learning_rate': 8.663366336633663e-06, 'epoch': 8.27}\n",
      "{'loss': 0.2167, 'grad_norm': 55.60382843017578, 'learning_rate': 8.53960396039604e-06, 'epoch': 8.29}\n",
      "{'loss': 0.0065, 'grad_norm': 0.8620046377182007, 'learning_rate': 8.415841584158417e-06, 'epoch': 8.32}\n",
      "{'loss': 0.3289, 'grad_norm': 3.8542208671569824, 'learning_rate': 8.292079207920794e-06, 'epoch': 8.34}\n",
      "{'loss': 0.1125, 'grad_norm': 41.678157806396484, 'learning_rate': 8.168316831683168e-06, 'epoch': 8.37}\n",
      "{'loss': 0.1493, 'grad_norm': 0.04431594908237457, 'learning_rate': 8.044554455445545e-06, 'epoch': 8.39}\n",
      "{'loss': 0.4943, 'grad_norm': 47.16268539428711, 'learning_rate': 7.920792079207921e-06, 'epoch': 8.42}\n",
      "{'loss': 0.4876, 'grad_norm': 0.376282274723053, 'learning_rate': 7.797029702970298e-06, 'epoch': 8.44}\n",
      "{'loss': 0.2388, 'grad_norm': 14.192756652832031, 'learning_rate': 7.673267326732674e-06, 'epoch': 8.47}\n",
      "{'loss': 0.4323, 'grad_norm': 0.9266584515571594, 'learning_rate': 7.54950495049505e-06, 'epoch': 8.49}\n",
      "{'loss': 0.5155, 'grad_norm': 0.10651933401823044, 'learning_rate': 7.4257425742574256e-06, 'epoch': 8.51}\n",
      "{'loss': 0.3262, 'grad_norm': 0.08105633407831192, 'learning_rate': 7.301980198019802e-06, 'epoch': 8.54}\n",
      "{'loss': 0.1475, 'grad_norm': 0.09668329358100891, 'learning_rate': 7.178217821782178e-06, 'epoch': 8.56}\n",
      "{'loss': 0.3168, 'grad_norm': 75.5217056274414, 'learning_rate': 7.054455445544554e-06, 'epoch': 8.59}\n",
      "{'loss': 0.3304, 'grad_norm': 12.263628959655762, 'learning_rate': 6.9306930693069314e-06, 'epoch': 8.61}\n",
      "{'loss': 0.0618, 'grad_norm': 2.3022525310516357, 'learning_rate': 6.806930693069308e-06, 'epoch': 8.64}\n",
      "{'loss': 0.0677, 'grad_norm': 8.248000144958496, 'learning_rate': 6.6831683168316835e-06, 'epoch': 8.66}\n",
      "{'loss': 0.1071, 'grad_norm': 7.533193111419678, 'learning_rate': 6.55940594059406e-06, 'epoch': 8.69}\n",
      "{'loss': 0.2763, 'grad_norm': 69.10062408447266, 'learning_rate': 6.4356435643564364e-06, 'epoch': 8.71}\n",
      "{'loss': 0.2882, 'grad_norm': 0.42433857917785645, 'learning_rate': 6.311881188118812e-06, 'epoch': 8.74}\n",
      "{'loss': 0.2441, 'grad_norm': 11.922246932983398, 'learning_rate': 6.1881188118811885e-06, 'epoch': 8.76}\n",
      "{'loss': 0.1496, 'grad_norm': 0.19913242757320404, 'learning_rate': 6.064356435643564e-06, 'epoch': 8.79}\n",
      "{'loss': 0.1311, 'grad_norm': 0.28541260957717896, 'learning_rate': 5.940594059405941e-06, 'epoch': 8.81}\n",
      "{'loss': 0.3899, 'grad_norm': 0.03143687918782234, 'learning_rate': 5.816831683168317e-06, 'epoch': 8.84}\n",
      "{'loss': 0.0121, 'grad_norm': 0.2421572208404541, 'learning_rate': 5.6930693069306936e-06, 'epoch': 8.86}\n",
      "{'loss': 0.2017, 'grad_norm': 0.6274667382240295, 'learning_rate': 5.56930693069307e-06, 'epoch': 8.89}\n",
      "{'loss': 0.3349, 'grad_norm': 9.544883728027344, 'learning_rate': 5.445544554455446e-06, 'epoch': 8.91}\n",
      "{'loss': 0.279, 'grad_norm': 96.00223541259766, 'learning_rate': 5.321782178217822e-06, 'epoch': 8.94}\n",
      "{'loss': 0.3134, 'grad_norm': 140.70248413085938, 'learning_rate': 5.198019801980198e-06, 'epoch': 8.96}\n",
      "{'loss': 0.3917, 'grad_norm': 70.19319915771484, 'learning_rate': 5.074257425742575e-06, 'epoch': 8.99}\n"
     ]
    },
    {
     "data": {
      "application/vnd.jupyter.widget-view+json": {
       "model_id": "588fc7264c2f45a7af188ab90502c4e1",
       "version_major": 2,
       "version_minor": 0
      },
      "text/plain": [
       "  0%|          | 0/167 [00:00<?, ?it/s]"
      ]
     },
     "metadata": {},
     "output_type": "display_data"
    },
    {
     "name": "stdout",
     "output_type": "stream",
     "text": [
      "{'eval_loss': 0.8725814819335938, 'eval_accuracy': 0.7901049475262368, 'eval_f1_macro': 0.7226182837860318, 'eval_precision': 0.730378317334839, 'eval_recall': 0.7163957108267036, 'eval_runtime': 44.5599, 'eval_samples_per_second': 14.969, 'eval_steps_per_second': 3.748, 'epoch': 9.0}\n"
     ]
    },
    {
     "name": "stderr",
     "output_type": "stream",
     "text": [
      "d:\\Master\\AN1SEM2\\BioNLP\\CLEF2025-CheckThat\\task1\\.venv\\Lib\\site-packages\\peft\\utils\\other.py:611: UserWarning: Unable to fetch remote file due to the following error (ReadTimeoutError(\"HTTPSConnectionPool(host='huggingface.co', port=443): Read timed out. (read timeout=10)\"), '(Request ID: b6992bb0-9aa1-40a1-8aa9-48952249b60d)') - silently ignoring the lookup for the file config.json in Musixmatch/umberto-commoncrawl-cased-v1.\n",
      "  warnings.warn(\n",
      "d:\\Master\\AN1SEM2\\BioNLP\\CLEF2025-CheckThat\\task1\\.venv\\Lib\\site-packages\\peft\\utils\\save_and_load.py:195: UserWarning: Could not find a config file in Musixmatch/umberto-commoncrawl-cased-v1 - will assume that the vocabulary was not modified.\n",
      "  warnings.warn(\n",
      "d:\\Master\\AN1SEM2\\BioNLP\\CLEF2025-CheckThat\\task1\\.venv\\Lib\\site-packages\\torch\\utils\\data\\dataloader.py:665: UserWarning: 'pin_memory' argument is set as true but no accelerator is found, then device pinned memory won't be used.\n",
      "  warnings.warn(warn_msg)\n"
     ]
    },
    {
     "name": "stdout",
     "output_type": "stream",
     "text": [
      "{'loss': 0.358, 'grad_norm': 0.09645579010248184, 'learning_rate': 4.950495049504951e-06, 'epoch': 9.01}\n",
      "{'loss': 0.5241, 'grad_norm': 29.36901092529297, 'learning_rate': 4.826732673267327e-06, 'epoch': 9.03}\n",
      "{'loss': 0.3498, 'grad_norm': 0.08616279065608978, 'learning_rate': 4.702970297029704e-06, 'epoch': 9.06}\n",
      "{'loss': 0.2298, 'grad_norm': 4.9290924072265625, 'learning_rate': 4.579207920792079e-06, 'epoch': 9.08}\n",
      "{'loss': 0.1845, 'grad_norm': 40.14142990112305, 'learning_rate': 4.455445544554456e-06, 'epoch': 9.11}\n",
      "{'loss': 0.164, 'grad_norm': 0.0910131111741066, 'learning_rate': 4.331683168316831e-06, 'epoch': 9.13}\n",
      "{'loss': 0.439, 'grad_norm': 0.10959550738334656, 'learning_rate': 4.207920792079209e-06, 'epoch': 9.16}\n",
      "{'loss': 0.0264, 'grad_norm': 0.7815771698951721, 'learning_rate': 4.084158415841584e-06, 'epoch': 9.18}\n",
      "{'loss': 0.2626, 'grad_norm': 7.1821699142456055, 'learning_rate': 3.960396039603961e-06, 'epoch': 9.21}\n",
      "{'loss': 0.1141, 'grad_norm': 0.34607169032096863, 'learning_rate': 3.836633663366337e-06, 'epoch': 9.23}\n",
      "{'loss': 0.0994, 'grad_norm': 39.28691864013672, 'learning_rate': 3.7128712871287128e-06, 'epoch': 9.26}\n",
      "{'loss': 0.2068, 'grad_norm': 0.7871040105819702, 'learning_rate': 3.589108910891089e-06, 'epoch': 9.28}\n",
      "{'loss': 0.2388, 'grad_norm': 0.49851030111312866, 'learning_rate': 3.4653465346534657e-06, 'epoch': 9.31}\n",
      "{'loss': 0.1671, 'grad_norm': 1.22543466091156, 'learning_rate': 3.3415841584158418e-06, 'epoch': 9.33}\n",
      "{'loss': 0.1696, 'grad_norm': 57.79129409790039, 'learning_rate': 3.2178217821782182e-06, 'epoch': 9.36}\n",
      "{'loss': 0.4697, 'grad_norm': 0.6081986427307129, 'learning_rate': 3.0940594059405943e-06, 'epoch': 9.38}\n",
      "{'loss': 0.4929, 'grad_norm': 15.220762252807617, 'learning_rate': 2.9702970297029703e-06, 'epoch': 9.41}\n",
      "{'loss': 0.3948, 'grad_norm': 13.830740928649902, 'learning_rate': 2.8465346534653468e-06, 'epoch': 9.43}\n",
      "{'loss': 0.1557, 'grad_norm': 1.0237289667129517, 'learning_rate': 2.722772277227723e-06, 'epoch': 9.46}\n",
      "{'loss': 0.2842, 'grad_norm': 2.9810116291046143, 'learning_rate': 2.599009900990099e-06, 'epoch': 9.48}\n",
      "{'loss': 0.1205, 'grad_norm': 0.07488104701042175, 'learning_rate': 2.4752475247524753e-06, 'epoch': 9.5}\n",
      "{'loss': 0.2908, 'grad_norm': 10.880437850952148, 'learning_rate': 2.351485148514852e-06, 'epoch': 9.53}\n",
      "{'loss': 0.1999, 'grad_norm': 0.23035278916358948, 'learning_rate': 2.227722772277228e-06, 'epoch': 9.55}\n",
      "{'loss': 0.0706, 'grad_norm': 38.42897415161133, 'learning_rate': 2.1039603960396043e-06, 'epoch': 9.58}\n",
      "{'loss': 0.0041, 'grad_norm': 0.20605772733688354, 'learning_rate': 1.9801980198019803e-06, 'epoch': 9.6}\n",
      "{'loss': 0.1698, 'grad_norm': 2.291058301925659, 'learning_rate': 1.8564356435643564e-06, 'epoch': 9.63}\n",
      "{'loss': 0.1542, 'grad_norm': 0.1393962949514389, 'learning_rate': 1.7326732673267329e-06, 'epoch': 9.65}\n",
      "{'loss': 0.4053, 'grad_norm': 0.14873674511909485, 'learning_rate': 1.6089108910891091e-06, 'epoch': 9.68}\n",
      "{'loss': 0.0444, 'grad_norm': 0.042071059346199036, 'learning_rate': 1.4851485148514852e-06, 'epoch': 9.7}\n",
      "{'loss': 0.375, 'grad_norm': 0.0346878357231617, 'learning_rate': 1.3613861386138614e-06, 'epoch': 9.73}\n",
      "{'loss': 0.2335, 'grad_norm': 0.8242908120155334, 'learning_rate': 1.2376237623762377e-06, 'epoch': 9.75}\n",
      "{'loss': 0.1822, 'grad_norm': 0.05564975365996361, 'learning_rate': 1.113861386138614e-06, 'epoch': 9.78}\n",
      "{'loss': 0.2916, 'grad_norm': 0.06410866975784302, 'learning_rate': 9.900990099009902e-07, 'epoch': 9.8}\n",
      "{'loss': 0.0805, 'grad_norm': 0.11707863956689835, 'learning_rate': 8.663366336633664e-07, 'epoch': 9.83}\n",
      "{'loss': 0.1687, 'grad_norm': 37.114341735839844, 'learning_rate': 7.425742574257426e-07, 'epoch': 9.85}\n",
      "{'loss': 0.4338, 'grad_norm': 0.3402163088321686, 'learning_rate': 6.188118811881188e-07, 'epoch': 9.88}\n",
      "{'loss': 0.2393, 'grad_norm': 11.619585990905762, 'learning_rate': 4.950495049504951e-07, 'epoch': 9.9}\n",
      "{'loss': 0.1647, 'grad_norm': 0.43038222193717957, 'learning_rate': 3.712871287128713e-07, 'epoch': 9.93}\n",
      "{'loss': 0.2853, 'grad_norm': 0.19118118286132812, 'learning_rate': 2.4752475247524754e-07, 'epoch': 9.95}\n",
      "{'loss': 0.0685, 'grad_norm': 0.0422595851123333, 'learning_rate': 1.2376237623762377e-07, 'epoch': 9.98}\n",
      "{'loss': 0.6287, 'grad_norm': 0.15700192749500275, 'learning_rate': 0.0, 'epoch': 10.0}\n"
     ]
    },
    {
     "data": {
      "application/vnd.jupyter.widget-view+json": {
       "model_id": "e8ae29da4bbd459c8137fbc1e496f47d",
       "version_major": 2,
       "version_minor": 0
      },
      "text/plain": [
       "  0%|          | 0/167 [00:00<?, ?it/s]"
      ]
     },
     "metadata": {},
     "output_type": "display_data"
    },
    {
     "name": "stdout",
     "output_type": "stream",
     "text": [
      "{'eval_loss': 0.8937280774116516, 'eval_accuracy': 0.7856071964017991, 'eval_f1_macro': 0.7225401073407707, 'eval_precision': 0.7246711299036881, 'eval_recall': 0.720552288712095, 'eval_runtime': 33.9591, 'eval_samples_per_second': 19.641, 'eval_steps_per_second': 4.918, 'epoch': 10.0}\n"
     ]
    },
    {
     "name": "stderr",
     "output_type": "stream",
     "text": [
      "d:\\Master\\AN1SEM2\\BioNLP\\CLEF2025-CheckThat\\task1\\.venv\\Lib\\site-packages\\huggingface_hub\\file_download.py:943: FutureWarning: `resume_download` is deprecated and will be removed in version 1.0.0. Downloads always resume when possible. If you want to force a new download, use `force_download=True`.\n",
      "  warnings.warn(\n"
     ]
    },
    {
     "name": "stdout",
     "output_type": "stream",
     "text": [
      "{'train_runtime': 5106.0853, 'train_samples_per_second': 3.159, 'train_steps_per_second': 0.791, 'train_loss': 0.3716635705654205, 'epoch': 10.0}\n"
     ]
    },
    {
     "name": "stderr",
     "output_type": "stream",
     "text": [
      "d:\\Master\\AN1SEM2\\BioNLP\\CLEF2025-CheckThat\\task1\\.venv\\Lib\\site-packages\\huggingface_hub\\file_download.py:943: FutureWarning: `resume_download` is deprecated and will be removed in version 1.0.0. Downloads always resume when possible. If you want to force a new download, use `force_download=True`.\n",
      "  warnings.warn(\n",
      "d:\\Master\\AN1SEM2\\BioNLP\\CLEF2025-CheckThat\\task1\\.venv\\Lib\\site-packages\\torch\\utils\\data\\dataloader.py:665: UserWarning: 'pin_memory' argument is set as true but no accelerator is found, then device pinned memory won't be used.\n",
      "  warnings.warn(warn_msg)\n"
     ]
    },
    {
     "data": {
      "application/vnd.jupyter.widget-view+json": {
       "model_id": "9468bd49debc436e90d8217479a3bb91",
       "version_major": 2,
       "version_minor": 0
      },
      "text/plain": [
       "  0%|          | 0/116 [00:00<?, ?it/s]"
      ]
     },
     "metadata": {},
     "output_type": "display_data"
    },
    {
     "data": {
      "text/plain": [
       "{'eval_loss': 0.7847893834114075,\n",
       " 'eval_accuracy': 0.829004329004329,\n",
       " 'eval_f1_macro': 0.7650792016117094,\n",
       " 'eval_precision': 0.8044846577498033,\n",
       " 'eval_recall': 0.7444096182634731,\n",
       " 'eval_runtime': 23.1998,\n",
       " 'eval_samples_per_second': 19.914,\n",
       " 'eval_steps_per_second': 5.0,\n",
       " 'epoch': 10.0}"
      ]
     },
     "execution_count": 7,
     "metadata": {},
     "output_type": "execute_result"
    }
   ],
   "source": [
    "trainer = Trainer(\n",
    "    model=model,\n",
    "    args=training_args,\n",
    "    train_dataset=train_dataset,\n",
    "    eval_dataset=val_dataset,\n",
    "    compute_metrics=compute_metrics,\n",
    "    tokenizer=tokenizer\n",
    ")\n",
    "\n",
    "# === 10. Train ===\n",
    "trainer.train()\n",
    "\n",
    "trainer.save_model(\"./results/italian-lora/final_checkpoint\")\n",
    "\n",
    "# === 11. Evaluate on test set ===\n",
    "trainer.evaluate(eval_dataset=test_dataset)"
   ]
  },
  {
   "cell_type": "code",
   "execution_count": 8,
   "id": "ece466e7",
   "metadata": {},
   "outputs": [
    {
     "name": "stderr",
     "output_type": "stream",
     "text": [
      "d:\\Master\\AN1SEM2\\BioNLP\\CLEF2025-CheckThat\\task1\\.venv\\Lib\\site-packages\\torch\\utils\\data\\dataloader.py:665: UserWarning: 'pin_memory' argument is set as true but no accelerator is found, then device pinned memory won't be used.\n",
      "  warnings.warn(warn_msg)\n"
     ]
    },
    {
     "data": {
      "application/vnd.jupyter.widget-view+json": {
       "model_id": "17f68d65d7244d0ca8678c4a16ae21c4",
       "version_major": 2,
       "version_minor": 0
      },
      "text/plain": [
       "  0%|          | 0/75 [00:00<?, ?it/s]"
      ]
     },
     "metadata": {},
     "output_type": "display_data"
    },
    {
     "data": {
      "text/plain": [
       "{'eval_loss': 1.005687952041626,\n",
       " 'eval_accuracy': 0.7859531772575251,\n",
       " 'eval_f1_macro': 0.748792270531401,\n",
       " 'eval_precision': 0.7837545337545337,\n",
       " 'eval_recall': 0.7361029984423676,\n",
       " 'eval_runtime': 15.3739,\n",
       " 'eval_samples_per_second': 19.449,\n",
       " 'eval_steps_per_second': 4.878,\n",
       " 'epoch': 10.0}"
      ]
     },
     "execution_count": 8,
     "metadata": {},
     "output_type": "execute_result"
    }
   ],
   "source": [
    "trainer.evaluate(eval_dataset=competition_test_dataset)"
   ]
  }
 ],
 "metadata": {
  "kernelspec": {
   "display_name": ".venv",
   "language": "python",
   "name": "python3"
  },
  "language_info": {
   "codemirror_mode": {
    "name": "ipython",
    "version": 3
   },
   "file_extension": ".py",
   "mimetype": "text/x-python",
   "name": "python",
   "nbconvert_exporter": "python",
   "pygments_lexer": "ipython3",
   "version": "3.11.9"
  }
 },
 "nbformat": 4,
 "nbformat_minor": 5
}
